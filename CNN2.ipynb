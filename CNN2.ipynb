{
  "nbformat": 4,
  "nbformat_minor": 0,
  "metadata": {
    "colab": {
      "provenance": [],
      "authorship_tag": "ABX9TyPdwZcKKT5y+KYk9JR6aumi",
      "include_colab_link": true
    },
    "kernelspec": {
      "name": "python3",
      "display_name": "Python 3"
    },
    "language_info": {
      "name": "python"
    },
    "accelerator": "GPU",
    "gpuClass": "standard",
    "widgets": {
      "application/vnd.jupyter.widget-state+json": {
        "aad07e9b5afd47f2b1b105a04ada29d0": {
          "model_module": "@jupyter-widgets/controls",
          "model_name": "HBoxModel",
          "model_module_version": "1.5.0",
          "state": {
            "_dom_classes": [],
            "_model_module": "@jupyter-widgets/controls",
            "_model_module_version": "1.5.0",
            "_model_name": "HBoxModel",
            "_view_count": null,
            "_view_module": "@jupyter-widgets/controls",
            "_view_module_version": "1.5.0",
            "_view_name": "HBoxView",
            "box_style": "",
            "children": [
              "IPY_MODEL_f367bd22e8554351adacd68294a83216",
              "IPY_MODEL_84e0da41efa842f49d0f45eaf127de00",
              "IPY_MODEL_a9ccc948564d44d7a5e357b104e4323b"
            ],
            "layout": "IPY_MODEL_60aa1292eab84603889e26d3dcc5d7cb"
          }
        },
        "f367bd22e8554351adacd68294a83216": {
          "model_module": "@jupyter-widgets/controls",
          "model_name": "HTMLModel",
          "model_module_version": "1.5.0",
          "state": {
            "_dom_classes": [],
            "_model_module": "@jupyter-widgets/controls",
            "_model_module_version": "1.5.0",
            "_model_name": "HTMLModel",
            "_view_count": null,
            "_view_module": "@jupyter-widgets/controls",
            "_view_module_version": "1.5.0",
            "_view_name": "HTMLView",
            "description": "",
            "description_tooltip": null,
            "layout": "IPY_MODEL_2478c1336f44443fb5ea1cbce8c9930b",
            "placeholder": "​",
            "style": "IPY_MODEL_7aee6bb633a342d2a75e37119b0268e3",
            "value": "100%"
          }
        },
        "84e0da41efa842f49d0f45eaf127de00": {
          "model_module": "@jupyter-widgets/controls",
          "model_name": "FloatProgressModel",
          "model_module_version": "1.5.0",
          "state": {
            "_dom_classes": [],
            "_model_module": "@jupyter-widgets/controls",
            "_model_module_version": "1.5.0",
            "_model_name": "FloatProgressModel",
            "_view_count": null,
            "_view_module": "@jupyter-widgets/controls",
            "_view_module_version": "1.5.0",
            "_view_name": "ProgressView",
            "bar_style": "success",
            "description": "",
            "description_tooltip": null,
            "layout": "IPY_MODEL_f36b19d7b6274594a62f261ea957c053",
            "max": 9464212,
            "min": 0,
            "orientation": "horizontal",
            "style": "IPY_MODEL_9356aaa119424358ab818b07b45cab1e",
            "value": 9464212
          }
        },
        "a9ccc948564d44d7a5e357b104e4323b": {
          "model_module": "@jupyter-widgets/controls",
          "model_name": "HTMLModel",
          "model_module_version": "1.5.0",
          "state": {
            "_dom_classes": [],
            "_model_module": "@jupyter-widgets/controls",
            "_model_module_version": "1.5.0",
            "_model_name": "HTMLModel",
            "_view_count": null,
            "_view_module": "@jupyter-widgets/controls",
            "_view_module_version": "1.5.0",
            "_view_name": "HTMLView",
            "description": "",
            "description_tooltip": null,
            "layout": "IPY_MODEL_b187cdccb87e43f7989bd730060a3405",
            "placeholder": "​",
            "style": "IPY_MODEL_cfc4c1f4182842d4941c479d65dbc6df",
            "value": " 9464212/9464212 [00:00&lt;00:00, 43883423.80it/s]"
          }
        },
        "60aa1292eab84603889e26d3dcc5d7cb": {
          "model_module": "@jupyter-widgets/base",
          "model_name": "LayoutModel",
          "model_module_version": "1.2.0",
          "state": {
            "_model_module": "@jupyter-widgets/base",
            "_model_module_version": "1.2.0",
            "_model_name": "LayoutModel",
            "_view_count": null,
            "_view_module": "@jupyter-widgets/base",
            "_view_module_version": "1.2.0",
            "_view_name": "LayoutView",
            "align_content": null,
            "align_items": null,
            "align_self": null,
            "border": null,
            "bottom": null,
            "display": null,
            "flex": null,
            "flex_flow": null,
            "grid_area": null,
            "grid_auto_columns": null,
            "grid_auto_flow": null,
            "grid_auto_rows": null,
            "grid_column": null,
            "grid_gap": null,
            "grid_row": null,
            "grid_template_areas": null,
            "grid_template_columns": null,
            "grid_template_rows": null,
            "height": null,
            "justify_content": null,
            "justify_items": null,
            "left": null,
            "margin": null,
            "max_height": null,
            "max_width": null,
            "min_height": null,
            "min_width": null,
            "object_fit": null,
            "object_position": null,
            "order": null,
            "overflow": null,
            "overflow_x": null,
            "overflow_y": null,
            "padding": null,
            "right": null,
            "top": null,
            "visibility": null,
            "width": null
          }
        },
        "2478c1336f44443fb5ea1cbce8c9930b": {
          "model_module": "@jupyter-widgets/base",
          "model_name": "LayoutModel",
          "model_module_version": "1.2.0",
          "state": {
            "_model_module": "@jupyter-widgets/base",
            "_model_module_version": "1.2.0",
            "_model_name": "LayoutModel",
            "_view_count": null,
            "_view_module": "@jupyter-widgets/base",
            "_view_module_version": "1.2.0",
            "_view_name": "LayoutView",
            "align_content": null,
            "align_items": null,
            "align_self": null,
            "border": null,
            "bottom": null,
            "display": null,
            "flex": null,
            "flex_flow": null,
            "grid_area": null,
            "grid_auto_columns": null,
            "grid_auto_flow": null,
            "grid_auto_rows": null,
            "grid_column": null,
            "grid_gap": null,
            "grid_row": null,
            "grid_template_areas": null,
            "grid_template_columns": null,
            "grid_template_rows": null,
            "height": null,
            "justify_content": null,
            "justify_items": null,
            "left": null,
            "margin": null,
            "max_height": null,
            "max_width": null,
            "min_height": null,
            "min_width": null,
            "object_fit": null,
            "object_position": null,
            "order": null,
            "overflow": null,
            "overflow_x": null,
            "overflow_y": null,
            "padding": null,
            "right": null,
            "top": null,
            "visibility": null,
            "width": null
          }
        },
        "7aee6bb633a342d2a75e37119b0268e3": {
          "model_module": "@jupyter-widgets/controls",
          "model_name": "DescriptionStyleModel",
          "model_module_version": "1.5.0",
          "state": {
            "_model_module": "@jupyter-widgets/controls",
            "_model_module_version": "1.5.0",
            "_model_name": "DescriptionStyleModel",
            "_view_count": null,
            "_view_module": "@jupyter-widgets/base",
            "_view_module_version": "1.2.0",
            "_view_name": "StyleView",
            "description_width": ""
          }
        },
        "f36b19d7b6274594a62f261ea957c053": {
          "model_module": "@jupyter-widgets/base",
          "model_name": "LayoutModel",
          "model_module_version": "1.2.0",
          "state": {
            "_model_module": "@jupyter-widgets/base",
            "_model_module_version": "1.2.0",
            "_model_name": "LayoutModel",
            "_view_count": null,
            "_view_module": "@jupyter-widgets/base",
            "_view_module_version": "1.2.0",
            "_view_name": "LayoutView",
            "align_content": null,
            "align_items": null,
            "align_self": null,
            "border": null,
            "bottom": null,
            "display": null,
            "flex": null,
            "flex_flow": null,
            "grid_area": null,
            "grid_auto_columns": null,
            "grid_auto_flow": null,
            "grid_auto_rows": null,
            "grid_column": null,
            "grid_gap": null,
            "grid_row": null,
            "grid_template_areas": null,
            "grid_template_columns": null,
            "grid_template_rows": null,
            "height": null,
            "justify_content": null,
            "justify_items": null,
            "left": null,
            "margin": null,
            "max_height": null,
            "max_width": null,
            "min_height": null,
            "min_width": null,
            "object_fit": null,
            "object_position": null,
            "order": null,
            "overflow": null,
            "overflow_x": null,
            "overflow_y": null,
            "padding": null,
            "right": null,
            "top": null,
            "visibility": null,
            "width": null
          }
        },
        "9356aaa119424358ab818b07b45cab1e": {
          "model_module": "@jupyter-widgets/controls",
          "model_name": "ProgressStyleModel",
          "model_module_version": "1.5.0",
          "state": {
            "_model_module": "@jupyter-widgets/controls",
            "_model_module_version": "1.5.0",
            "_model_name": "ProgressStyleModel",
            "_view_count": null,
            "_view_module": "@jupyter-widgets/base",
            "_view_module_version": "1.2.0",
            "_view_name": "StyleView",
            "bar_color": null,
            "description_width": ""
          }
        },
        "b187cdccb87e43f7989bd730060a3405": {
          "model_module": "@jupyter-widgets/base",
          "model_name": "LayoutModel",
          "model_module_version": "1.2.0",
          "state": {
            "_model_module": "@jupyter-widgets/base",
            "_model_module_version": "1.2.0",
            "_model_name": "LayoutModel",
            "_view_count": null,
            "_view_module": "@jupyter-widgets/base",
            "_view_module_version": "1.2.0",
            "_view_name": "LayoutView",
            "align_content": null,
            "align_items": null,
            "align_self": null,
            "border": null,
            "bottom": null,
            "display": null,
            "flex": null,
            "flex_flow": null,
            "grid_area": null,
            "grid_auto_columns": null,
            "grid_auto_flow": null,
            "grid_auto_rows": null,
            "grid_column": null,
            "grid_gap": null,
            "grid_row": null,
            "grid_template_areas": null,
            "grid_template_columns": null,
            "grid_template_rows": null,
            "height": null,
            "justify_content": null,
            "justify_items": null,
            "left": null,
            "margin": null,
            "max_height": null,
            "max_width": null,
            "min_height": null,
            "min_width": null,
            "object_fit": null,
            "object_position": null,
            "order": null,
            "overflow": null,
            "overflow_x": null,
            "overflow_y": null,
            "padding": null,
            "right": null,
            "top": null,
            "visibility": null,
            "width": null
          }
        },
        "cfc4c1f4182842d4941c479d65dbc6df": {
          "model_module": "@jupyter-widgets/controls",
          "model_name": "DescriptionStyleModel",
          "model_module_version": "1.5.0",
          "state": {
            "_model_module": "@jupyter-widgets/controls",
            "_model_module_version": "1.5.0",
            "_model_name": "DescriptionStyleModel",
            "_view_count": null,
            "_view_module": "@jupyter-widgets/base",
            "_view_module_version": "1.2.0",
            "_view_name": "StyleView",
            "description_width": ""
          }
        },
        "d464471aac3e4499b34a5c4065698ce4": {
          "model_module": "@jupyter-widgets/controls",
          "model_name": "HBoxModel",
          "model_module_version": "1.5.0",
          "state": {
            "_dom_classes": [],
            "_model_module": "@jupyter-widgets/controls",
            "_model_module_version": "1.5.0",
            "_model_name": "HBoxModel",
            "_view_count": null,
            "_view_module": "@jupyter-widgets/controls",
            "_view_module_version": "1.5.0",
            "_view_name": "HBoxView",
            "box_style": "",
            "children": [
              "IPY_MODEL_e39efae827454cb38a6d36d7e1ae2d56",
              "IPY_MODEL_a7d5e605d7074cb59805da3b71f5c480",
              "IPY_MODEL_9cc8a02a977a43ab9e641cad2c06766e"
            ],
            "layout": "IPY_MODEL_3c35e1a6bc414d94b5418f4545bef20e"
          }
        },
        "e39efae827454cb38a6d36d7e1ae2d56": {
          "model_module": "@jupyter-widgets/controls",
          "model_name": "HTMLModel",
          "model_module_version": "1.5.0",
          "state": {
            "_dom_classes": [],
            "_model_module": "@jupyter-widgets/controls",
            "_model_module_version": "1.5.0",
            "_model_name": "HTMLModel",
            "_view_count": null,
            "_view_module": "@jupyter-widgets/controls",
            "_view_module_version": "1.5.0",
            "_view_name": "HTMLView",
            "description": "",
            "description_tooltip": null,
            "layout": "IPY_MODEL_ba0dbbaac2d14258a6b1407bce848b5e",
            "placeholder": "​",
            "style": "IPY_MODEL_0f431f1ddecb45daa9c87c34612ce61f",
            "value": "100%"
          }
        },
        "a7d5e605d7074cb59805da3b71f5c480": {
          "model_module": "@jupyter-widgets/controls",
          "model_name": "FloatProgressModel",
          "model_module_version": "1.5.0",
          "state": {
            "_dom_classes": [],
            "_model_module": "@jupyter-widgets/controls",
            "_model_module_version": "1.5.0",
            "_model_name": "FloatProgressModel",
            "_view_count": null,
            "_view_module": "@jupyter-widgets/controls",
            "_view_module_version": "1.5.0",
            "_view_name": "ProgressView",
            "bar_style": "success",
            "description": "",
            "description_tooltip": null,
            "layout": "IPY_MODEL_08cc19df0e6e438494a8f24adf97d8dc",
            "max": 20,
            "min": 0,
            "orientation": "horizontal",
            "style": "IPY_MODEL_889766d981594fb4859ffcc27091a224",
            "value": 20
          }
        },
        "9cc8a02a977a43ab9e641cad2c06766e": {
          "model_module": "@jupyter-widgets/controls",
          "model_name": "HTMLModel",
          "model_module_version": "1.5.0",
          "state": {
            "_dom_classes": [],
            "_model_module": "@jupyter-widgets/controls",
            "_model_module_version": "1.5.0",
            "_model_name": "HTMLModel",
            "_view_count": null,
            "_view_module": "@jupyter-widgets/controls",
            "_view_module_version": "1.5.0",
            "_view_name": "HTMLView",
            "description": "",
            "description_tooltip": null,
            "layout": "IPY_MODEL_342fdb97182d4da68f3bc3f5bffb845b",
            "placeholder": "​",
            "style": "IPY_MODEL_a8d995c5ab484c11926b96ef007e7a7a",
            "value": " 20/20 [01:27&lt;00:00,  4.34s/it]"
          }
        },
        "3c35e1a6bc414d94b5418f4545bef20e": {
          "model_module": "@jupyter-widgets/base",
          "model_name": "LayoutModel",
          "model_module_version": "1.2.0",
          "state": {
            "_model_module": "@jupyter-widgets/base",
            "_model_module_version": "1.2.0",
            "_model_name": "LayoutModel",
            "_view_count": null,
            "_view_module": "@jupyter-widgets/base",
            "_view_module_version": "1.2.0",
            "_view_name": "LayoutView",
            "align_content": null,
            "align_items": null,
            "align_self": null,
            "border": null,
            "bottom": null,
            "display": null,
            "flex": null,
            "flex_flow": null,
            "grid_area": null,
            "grid_auto_columns": null,
            "grid_auto_flow": null,
            "grid_auto_rows": null,
            "grid_column": null,
            "grid_gap": null,
            "grid_row": null,
            "grid_template_areas": null,
            "grid_template_columns": null,
            "grid_template_rows": null,
            "height": null,
            "justify_content": null,
            "justify_items": null,
            "left": null,
            "margin": null,
            "max_height": null,
            "max_width": null,
            "min_height": null,
            "min_width": null,
            "object_fit": null,
            "object_position": null,
            "order": null,
            "overflow": null,
            "overflow_x": null,
            "overflow_y": null,
            "padding": null,
            "right": null,
            "top": null,
            "visibility": null,
            "width": null
          }
        },
        "ba0dbbaac2d14258a6b1407bce848b5e": {
          "model_module": "@jupyter-widgets/base",
          "model_name": "LayoutModel",
          "model_module_version": "1.2.0",
          "state": {
            "_model_module": "@jupyter-widgets/base",
            "_model_module_version": "1.2.0",
            "_model_name": "LayoutModel",
            "_view_count": null,
            "_view_module": "@jupyter-widgets/base",
            "_view_module_version": "1.2.0",
            "_view_name": "LayoutView",
            "align_content": null,
            "align_items": null,
            "align_self": null,
            "border": null,
            "bottom": null,
            "display": null,
            "flex": null,
            "flex_flow": null,
            "grid_area": null,
            "grid_auto_columns": null,
            "grid_auto_flow": null,
            "grid_auto_rows": null,
            "grid_column": null,
            "grid_gap": null,
            "grid_row": null,
            "grid_template_areas": null,
            "grid_template_columns": null,
            "grid_template_rows": null,
            "height": null,
            "justify_content": null,
            "justify_items": null,
            "left": null,
            "margin": null,
            "max_height": null,
            "max_width": null,
            "min_height": null,
            "min_width": null,
            "object_fit": null,
            "object_position": null,
            "order": null,
            "overflow": null,
            "overflow_x": null,
            "overflow_y": null,
            "padding": null,
            "right": null,
            "top": null,
            "visibility": null,
            "width": null
          }
        },
        "0f431f1ddecb45daa9c87c34612ce61f": {
          "model_module": "@jupyter-widgets/controls",
          "model_name": "DescriptionStyleModel",
          "model_module_version": "1.5.0",
          "state": {
            "_model_module": "@jupyter-widgets/controls",
            "_model_module_version": "1.5.0",
            "_model_name": "DescriptionStyleModel",
            "_view_count": null,
            "_view_module": "@jupyter-widgets/base",
            "_view_module_version": "1.2.0",
            "_view_name": "StyleView",
            "description_width": ""
          }
        },
        "08cc19df0e6e438494a8f24adf97d8dc": {
          "model_module": "@jupyter-widgets/base",
          "model_name": "LayoutModel",
          "model_module_version": "1.2.0",
          "state": {
            "_model_module": "@jupyter-widgets/base",
            "_model_module_version": "1.2.0",
            "_model_name": "LayoutModel",
            "_view_count": null,
            "_view_module": "@jupyter-widgets/base",
            "_view_module_version": "1.2.0",
            "_view_name": "LayoutView",
            "align_content": null,
            "align_items": null,
            "align_self": null,
            "border": null,
            "bottom": null,
            "display": null,
            "flex": null,
            "flex_flow": null,
            "grid_area": null,
            "grid_auto_columns": null,
            "grid_auto_flow": null,
            "grid_auto_rows": null,
            "grid_column": null,
            "grid_gap": null,
            "grid_row": null,
            "grid_template_areas": null,
            "grid_template_columns": null,
            "grid_template_rows": null,
            "height": null,
            "justify_content": null,
            "justify_items": null,
            "left": null,
            "margin": null,
            "max_height": null,
            "max_width": null,
            "min_height": null,
            "min_width": null,
            "object_fit": null,
            "object_position": null,
            "order": null,
            "overflow": null,
            "overflow_x": null,
            "overflow_y": null,
            "padding": null,
            "right": null,
            "top": null,
            "visibility": null,
            "width": null
          }
        },
        "889766d981594fb4859ffcc27091a224": {
          "model_module": "@jupyter-widgets/controls",
          "model_name": "ProgressStyleModel",
          "model_module_version": "1.5.0",
          "state": {
            "_model_module": "@jupyter-widgets/controls",
            "_model_module_version": "1.5.0",
            "_model_name": "ProgressStyleModel",
            "_view_count": null,
            "_view_module": "@jupyter-widgets/base",
            "_view_module_version": "1.2.0",
            "_view_name": "StyleView",
            "bar_color": null,
            "description_width": ""
          }
        },
        "342fdb97182d4da68f3bc3f5bffb845b": {
          "model_module": "@jupyter-widgets/base",
          "model_name": "LayoutModel",
          "model_module_version": "1.2.0",
          "state": {
            "_model_module": "@jupyter-widgets/base",
            "_model_module_version": "1.2.0",
            "_model_name": "LayoutModel",
            "_view_count": null,
            "_view_module": "@jupyter-widgets/base",
            "_view_module_version": "1.2.0",
            "_view_name": "LayoutView",
            "align_content": null,
            "align_items": null,
            "align_self": null,
            "border": null,
            "bottom": null,
            "display": null,
            "flex": null,
            "flex_flow": null,
            "grid_area": null,
            "grid_auto_columns": null,
            "grid_auto_flow": null,
            "grid_auto_rows": null,
            "grid_column": null,
            "grid_gap": null,
            "grid_row": null,
            "grid_template_areas": null,
            "grid_template_columns": null,
            "grid_template_rows": null,
            "height": null,
            "justify_content": null,
            "justify_items": null,
            "left": null,
            "margin": null,
            "max_height": null,
            "max_width": null,
            "min_height": null,
            "min_width": null,
            "object_fit": null,
            "object_position": null,
            "order": null,
            "overflow": null,
            "overflow_x": null,
            "overflow_y": null,
            "padding": null,
            "right": null,
            "top": null,
            "visibility": null,
            "width": null
          }
        },
        "a8d995c5ab484c11926b96ef007e7a7a": {
          "model_module": "@jupyter-widgets/controls",
          "model_name": "DescriptionStyleModel",
          "model_module_version": "1.5.0",
          "state": {
            "_model_module": "@jupyter-widgets/controls",
            "_model_module_version": "1.5.0",
            "_model_name": "DescriptionStyleModel",
            "_view_count": null,
            "_view_module": "@jupyter-widgets/base",
            "_view_module_version": "1.2.0",
            "_view_name": "StyleView",
            "description_width": ""
          }
        }
      }
    }
  },
  "cells": [
    {
      "cell_type": "markdown",
      "metadata": {
        "id": "view-in-github",
        "colab_type": "text"
      },
      "source": [
        "<a href=\"https://colab.research.google.com/github/SalehMehrabani/PyTorch-Deep-Learning/blob/main/CNN2.ipynb\" target=\"_parent\"><img src=\"https://colab.research.google.com/assets/colab-badge.svg\" alt=\"Open In Colab\"/></a>"
      ]
    },
    {
      "cell_type": "markdown",
      "source": [
        "#Convolutional Neural Network  - CNN\n",
        "* Omniglot Dataset\n",
        "* Failure with simple CNN - Using SIAMSE Network\n"
      ],
      "metadata": {
        "id": "qFnxBiNRmZtw"
      }
    },
    {
      "cell_type": "code",
      "execution_count": 1,
      "metadata": {
        "id": "VtF0R-zYgx23"
      },
      "outputs": [],
      "source": [
        "import pandas as pd\n",
        "import numpy as np\n",
        "import matplotlib.pyplot as plt\n",
        "\n",
        "import torch\n",
        "from torch import nn\n",
        "\n",
        "from torch.utils.data import Dataset, DataLoader\n",
        "\n",
        "import torchvision\n",
        "from torchvision import datasets\n",
        "from torchvision  import transforms\n",
        "from torchvision.transforms import ToTensor\n"
      ]
    },
    {
      "cell_type": "code",
      "source": [
        "from sklearn.model_selection import train_test_split"
      ],
      "metadata": {
        "id": "UGyAEvZ_nuL6"
      },
      "execution_count": 2,
      "outputs": []
    },
    {
      "cell_type": "code",
      "source": [
        "from torchvision.datasets.folder import DatasetFolder"
      ],
      "metadata": {
        "id": "J7MyFt-Tq1HY"
      },
      "execution_count": 3,
      "outputs": []
    },
    {
      "cell_type": "code",
      "source": [
        "from tqdm.auto import tqdm"
      ],
      "metadata": {
        "id": "ligu-8kTzixN"
      },
      "execution_count": 4,
      "outputs": []
    },
    {
      "cell_type": "code",
      "source": [
        "device= torch.device(\"cuda\" if torch.cuda.is_available() else \"cpu\")\n",
        "device"
      ],
      "metadata": {
        "colab": {
          "base_uri": "https://localhost:8080/"
        },
        "id": "nYGintwOl4vH",
        "outputId": "3a5e3363-af18-4dd8-d355-384abd247fc2"
      },
      "execution_count": 6,
      "outputs": [
        {
          "output_type": "execute_result",
          "data": {
            "text/plain": [
              "device(type='cuda')"
            ]
          },
          "metadata": {},
          "execution_count": 6
        }
      ]
    },
    {
      "cell_type": "markdown",
      "source": [
        "##Create Required Functions"
      ],
      "metadata": {
        "id": "szV81vAJr-tx"
      }
    },
    {
      "cell_type": "code",
      "source": [
        "import requests\n",
        "from pathlib import Path \n",
        "\n",
        "# Download helper functions from Learn PyTorch repo (if not already downloaded)\n",
        "if Path(\"helper_functions.py\").is_file():\n",
        "  print(\"helper_functions.py already exists, skipping download\")\n",
        "else:\n",
        "  print(\"Downloading helper_functions.py\")\n",
        "  # Note: you need the \"raw\" GitHub URL for this to work\n",
        "  request = requests.get(\"https://raw.githubusercontent.com/mrdbourke/pytorch-deep-learning/main/helper_functions.py\")\n",
        "  with open(\"helper_functions.py\", \"wb\") as f:\n",
        "    f.write(request.content)"
      ],
      "metadata": {
        "colab": {
          "base_uri": "https://localhost:8080/"
        },
        "id": "XmhMq1qEsDQX",
        "outputId": "423b594b-f359-4a48-e9f5-960372fcf04e"
      },
      "execution_count": 7,
      "outputs": [
        {
          "output_type": "stream",
          "name": "stdout",
          "text": [
            "Downloading helper_functions.py\n"
          ]
        }
      ]
    },
    {
      "cell_type": "code",
      "source": [
        "from helper_functions import accuracy_fn"
      ],
      "metadata": {
        "id": "ln7l9b0LsFb8"
      },
      "execution_count": 8,
      "outputs": []
    },
    {
      "cell_type": "code",
      "source": [
        "from timeit import default_timer as timer \n",
        "def print_train_time(start: float, end: float, device: torch.device = None):\n",
        "    \n",
        "    total_time = end - start\n",
        "    print(f\"Train time on {device}: {total_time:.3f} seconds\")\n",
        "    return total_time\n"
      ],
      "metadata": {
        "id": "giRIC3vWsKT6"
      },
      "execution_count": 9,
      "outputs": []
    },
    {
      "cell_type": "code",
      "source": [
        "def eval_model(model: torch.nn.Module,\n",
        "               data_loader: torch.utils.data.DataLoader,\n",
        "               loss_fn: torch.nn.Module,\n",
        "               accuracy_fn,\n",
        "               device: torch.device = device):\n",
        "  loss, acc= 0, 0\n",
        "  model.eval()\n",
        "  with torch.inference_mode():\n",
        "    for X, y in data_loader:\n",
        "      #Put the data on the same device\n",
        "      X, y= X.to(device), y.to(device)\n",
        "      #Forward Propagation\n",
        "      y_pred = model(X)\n",
        "      # Loss/ Accuracy Function\n",
        "      loss += loss_fn(y_pred, y)\n",
        "      acc += accuracy_fn(y ,y_pred.argmax(dim=1))\n",
        "    \n",
        "    # Calculate average loss and accuracy per batch\n",
        "    loss /= len(data_loader)\n",
        "    acc /= len(data_loader)\n",
        "  return {\"model_name\": model.__class__.__name__, # only works when model was created with a class\n",
        "          \"model_loss\": loss.item(),\n",
        "          \"model_acc\": acc}"
      ],
      "metadata": {
        "id": "zOdN44nBuOOw"
      },
      "execution_count": 10,
      "outputs": []
    },
    {
      "cell_type": "code",
      "source": [
        "def train_step(model: torch.nn.Module,\n",
        "               data_loader: torch.utils.data.DataLoader,\n",
        "               loss_fn: torch.nn.Module,\n",
        "               optimizer: torch.optim.Optimizer,\n",
        "               accuracy_fn,\n",
        "               device: torch.device =device):\n",
        "  \n",
        "  train_loss, train_acc = 0, 0\n",
        "\n",
        "  #Put Model into training mode\n",
        "  model.train()\n",
        "\n",
        "  for batch, (X, y) in enumerate(data_loader):\n",
        "\n",
        "    #Put Data on target device\n",
        "    X, y = X.to(device), y.to(device)\n",
        "\n",
        "    #Forward propagation\n",
        "    y_pred = model(X)\n",
        "\n",
        "    #Loss Function (per batch)\n",
        "    loss = loss_fn(y_pred, y)\n",
        "    train_loss += loss\n",
        "\n",
        "    #Accuaray Function (per batch)\n",
        "    train_acc += accuracy_fn(y_true=y, \n",
        "                           y_pred=y_pred.argmax(dim=1))\n",
        "\n",
        "    #Optimizer zero grad\n",
        "    optimizer.zero_grad()\n",
        "\n",
        "    #Loss backpropagation\n",
        "    loss.backward()\n",
        "\n",
        "    #optimizer step\n",
        "    optimizer.step()\n",
        "  \n",
        "  #Calculate the average train loss and accuracy\n",
        "  train_loss /= len(data_loader)\n",
        "  train_acc /= len(data_loader)\n",
        "\n",
        "  #Print out the result of training loop\n",
        "  print(f'Train loss: {train_loss:.5f} | Train acc: {train_acc:.5f}')"
      ],
      "metadata": {
        "id": "onuklTO_uSHE"
      },
      "execution_count": 11,
      "outputs": []
    },
    {
      "cell_type": "code",
      "source": [
        "def test_step(model: torch.nn.Module,\n",
        "              data_loader: torch.utils.data.DataLoader,\n",
        "              loss_fn: torch.nn.Module,\n",
        "              accuracy_fn,\n",
        "              device: torch.device = device):\n",
        "\n",
        "  test_loss, test_acc= 0, 0\n",
        "\n",
        "  #Put the model on testing mode\n",
        "  model.eval()\n",
        "\n",
        "  with torch.inference_mode():\n",
        "    for (test_X, test_y) in (data_loader):\n",
        "\n",
        "      #Put the data on the same device:\n",
        "      test_X, test_y = test_X.to(device), test_y.to(device)\n",
        "\n",
        "      #forward Propagation\n",
        "      test_pred = model(test_X)\n",
        "\n",
        "      #Loss Function\n",
        "      test_loss += loss_fn(test_pred, test_y)\n",
        "\n",
        "      #Accuacy Function\n",
        "      test_acc += accuracy_fn(y_true=test_y,\n",
        "                             y_pred=test_pred.argmax(dim=1) )\n",
        "      \n",
        "    #Calculate the average test loss / accuracy\n",
        "    test_loss /= len(data_loader)\n",
        "    test_acc /= len(data_loader)\n",
        "\n",
        "    #Print out the result of testing loop\n",
        "    print(f\"Test loss: {test_loss:.5f} | Test acc: {test_acc:.5f}\")"
      ],
      "metadata": {
        "id": "zqqLCs9ouU6y"
      },
      "execution_count": 12,
      "outputs": []
    },
    {
      "cell_type": "markdown",
      "source": [
        "## Setup Training and Testing datasets"
      ],
      "metadata": {
        "id": "uGEdZWVfmA4Z"
      }
    },
    {
      "cell_type": "code",
      "source": [
        "#Setup data\n",
        "data = datasets.Omniglot(\n",
        "    root = \"data\",\n",
        "    download = True,\n",
        "    transform = torchvision.transforms.ToTensor(),\n",
        "    target_transform = None\n",
        ")\n",
        "len(data), data[200]"
      ],
      "metadata": {
        "colab": {
          "base_uri": "https://localhost:8080/",
          "height": 212,
          "referenced_widgets": [
            "aad07e9b5afd47f2b1b105a04ada29d0",
            "f367bd22e8554351adacd68294a83216",
            "84e0da41efa842f49d0f45eaf127de00",
            "a9ccc948564d44d7a5e357b104e4323b",
            "60aa1292eab84603889e26d3dcc5d7cb",
            "2478c1336f44443fb5ea1cbce8c9930b",
            "7aee6bb633a342d2a75e37119b0268e3",
            "f36b19d7b6274594a62f261ea957c053",
            "9356aaa119424358ab818b07b45cab1e",
            "b187cdccb87e43f7989bd730060a3405",
            "cfc4c1f4182842d4941c479d65dbc6df"
          ]
        },
        "id": "UnmJfsF4myMp",
        "outputId": "3cfaeb3c-c358-487e-c55d-eca0f4813c35"
      },
      "execution_count": 13,
      "outputs": [
        {
          "output_type": "stream",
          "name": "stdout",
          "text": [
            "Downloading https://raw.githubusercontent.com/brendenlake/omniglot/master/python/images_background.zip to data/omniglot-py/images_background.zip\n"
          ]
        },
        {
          "output_type": "display_data",
          "data": {
            "text/plain": [
              "  0%|          | 0/9464212 [00:00<?, ?it/s]"
            ],
            "application/vnd.jupyter.widget-view+json": {
              "version_major": 2,
              "version_minor": 0,
              "model_id": "aad07e9b5afd47f2b1b105a04ada29d0"
            }
          },
          "metadata": {}
        },
        {
          "output_type": "stream",
          "name": "stdout",
          "text": [
            "Extracting data/omniglot-py/images_background.zip to data/omniglot-py\n"
          ]
        },
        {
          "output_type": "execute_result",
          "data": {
            "text/plain": [
              "(19280, (tensor([[[1., 1., 1.,  ..., 1., 1., 1.],\n",
              "           [1., 1., 1.,  ..., 1., 1., 1.],\n",
              "           [1., 1., 1.,  ..., 1., 1., 1.],\n",
              "           ...,\n",
              "           [1., 1., 1.,  ..., 1., 1., 1.],\n",
              "           [1., 1., 1.,  ..., 1., 1., 1.],\n",
              "           [1., 1., 1.,  ..., 1., 1., 1.]]]), 10))"
            ]
          },
          "metadata": {},
          "execution_count": 13
        }
      ]
    },
    {
      "cell_type": "code",
      "source": [
        "train_data, test_data = train_test_split(data, test_size=0.2, random_state= 42, shuffle= True)\n",
        "len(train_data), len(test_data)"
      ],
      "metadata": {
        "colab": {
          "base_uri": "https://localhost:8080/"
        },
        "id": "w9S0UrYaoyfw",
        "outputId": "126f5a14-d308-430b-e9bf-1d0a8591d379"
      },
      "execution_count": 14,
      "outputs": [
        {
          "output_type": "execute_result",
          "data": {
            "text/plain": [
              "(15424, 3856)"
            ]
          },
          "metadata": {},
          "execution_count": 14
        }
      ]
    },
    {
      "cell_type": "code",
      "source": [
        "labels=set()\n",
        "for i in range(len(data)):\n",
        "  image,label= data[i]\n",
        "  labels.add(label)"
      ],
      "metadata": {
        "id": "fn9SGeTepKLX"
      },
      "execution_count": 15,
      "outputs": []
    },
    {
      "cell_type": "code",
      "source": [
        "labels"
      ],
      "metadata": {
        "id": "jF5SDdLS7Yg9"
      },
      "execution_count": null,
      "outputs": []
    },
    {
      "cell_type": "code",
      "source": [
        "image.shape"
      ],
      "metadata": {
        "colab": {
          "base_uri": "https://localhost:8080/"
        },
        "id": "MEmFRBpkpnd8",
        "outputId": "3ba9b2cc-fe8e-4d05-aab1-ef8e1a1f5f33"
      },
      "execution_count": 16,
      "outputs": [
        {
          "output_type": "execute_result",
          "data": {
            "text/plain": [
              "torch.Size([1, 105, 105])"
            ]
          },
          "metadata": {},
          "execution_count": 16
        }
      ]
    },
    {
      "cell_type": "code",
      "source": [
        "plt.imshow(image.squeeze(), cmap=\"gray\")\n",
        "plt.title(label)\n",
        "plt.axis(False)"
      ],
      "metadata": {
        "colab": {
          "base_uri": "https://localhost:8080/",
          "height": 282
        },
        "id": "DarjvN15puk6",
        "outputId": "68ab4f04-1102-4005-fdd2-a9d8771d2cf5"
      },
      "execution_count": 17,
      "outputs": [
        {
          "output_type": "execute_result",
          "data": {
            "text/plain": [
              "(-0.5, 104.5, 104.5, -0.5)"
            ]
          },
          "metadata": {},
          "execution_count": 17
        },
        {
          "output_type": "display_data",
          "data": {
            "text/plain": [
              "<Figure size 432x288 with 1 Axes>"
            ],
            "image/png": "[encoded data removed]"
          },
          "metadata": {
            "needs_background": "light"
          }
        }
      ]
    },
    {
      "cell_type": "code",
      "source": [
        "#Setup training dataloader\n",
        "train_dataloader = DataLoader(\n",
        "    dataset = train_data,\n",
        "    batch_size = 32,\n",
        "    shuffle = True\n",
        ")\n",
        "\n",
        "#Setup testing dataloader\n",
        "test_dataloader = DataLoader(\n",
        "    dataset = test_data,\n",
        "    batch_size = 32,\n",
        "    shuffle= True\n",
        ")"
      ],
      "metadata": {
        "id": "tXqzqNoIqsQS"
      },
      "execution_count": 18,
      "outputs": []
    },
    {
      "cell_type": "markdown",
      "source": [
        "## Create Model "
      ],
      "metadata": {
        "id": "zwfyWrn0rwJn"
      }
    },
    {
      "cell_type": "code",
      "source": [
        "class OmniglotModel(nn.Module):\n",
        "  def __init__(self,\n",
        "               input_shape: int, \n",
        "               hidden_units: int,\n",
        "               output_shape: int):\n",
        "    super().__init__()\n",
        "    self.conv_block1= nn.Sequential(\n",
        "        nn.Conv2d(\n",
        "            in_channels= input_shape,\n",
        "            out_channels= hidden_units,\n",
        "            kernel_size= 3,\n",
        "            stride= 1,\n",
        "            padding= 0\n",
        "        ),\n",
        "        nn.ReLU(),\n",
        "        nn.Conv2d(\n",
        "            in_channels= hidden_units, \n",
        "            out_channels= hidden_units,\n",
        "            kernel_size= 3,\n",
        "            stride= 1,\n",
        "            padding= 0\n",
        "        ),\n",
        "        nn.ReLU(),\n",
        "        nn.MaxPool2d(kernel_size=2)\n",
        "    )\n",
        "    self.conv_block2= nn.Sequential(\n",
        "        nn.Conv2d(\n",
        "            in_channels= hidden_units,\n",
        "            out_channels= hidden_units,\n",
        "            kernel_size= 3,\n",
        "            stride= 1,\n",
        "            padding= 0\n",
        "        ),\n",
        "        nn.ReLU(),\n",
        "        nn.Conv2d(\n",
        "            \n",
        "            in_channels= hidden_units,\n",
        "            out_channels= hidden_units,\n",
        "            kernel_size= 3,\n",
        "            stride= 1,\n",
        "            padding= 0\n",
        "        ),\n",
        "        nn.ReLU(),\n",
        "        nn.MaxPool2d(kernel_size= 2)\n",
        "    )\n",
        "    self.classifier= nn.Sequential(\n",
        "        nn.Flatten(),\n",
        "        nn.LazyLinear(out_features= output_shape)\n",
        "    )\n",
        "  def forward(self, x):\n",
        "    x= self.conv_block1(x)\n",
        "    x= self.conv_block2(x)\n",
        "    x= self.classifier(x)\n",
        "    return(x)\n"
      ],
      "metadata": {
        "id": "zshekE6DueLW"
      },
      "execution_count": 29,
      "outputs": []
    },
    {
      "cell_type": "code",
      "source": [
        "\n",
        "\n",
        "model_1= OmniglotModel(input_shape= 1,\n",
        "                       hidden_units= 10,\n",
        "                       output_shape= 964).to(device)"
      ],
      "metadata": {
        "id": "bZVaX-WFxNuy"
      },
      "execution_count": 30,
      "outputs": []
    },
    {
      "cell_type": "code",
      "source": [
        "model_1"
      ],
      "metadata": {
        "colab": {
          "base_uri": "https://localhost:8080/"
        },
        "id": "yrf6GdU41il0",
        "outputId": "b1266ae0-5aa1-4af1-e9d2-10a440c6ea41"
      },
      "execution_count": 26,
      "outputs": [
        {
          "output_type": "execute_result",
          "data": {
            "text/plain": [
              "OmniglotModel(\n",
              "  (conv_block1): Sequential(\n",
              "    (0): Conv2d(1, 10, kernel_size=(3, 3), stride=(1, 1))\n",
              "    (1): ReLU()\n",
              "    (2): Conv2d(10, 10, kernel_size=(3, 3), stride=(1, 1))\n",
              "    (3): ReLU()\n",
              "    (4): MaxPool2d(kernel_size=2, stride=2, padding=0, dilation=1, ceil_mode=False)\n",
              "  )\n",
              "  (conv_block2): Sequential(\n",
              "    (0): Conv2d(10, 10, kernel_size=(3, 3), stride=(1, 1))\n",
              "    (1): ReLU()\n",
              "    (2): Conv2d(10, 10, kernel_size=(3, 3), stride=(1, 1))\n",
              "    (3): ReLU()\n",
              "    (4): MaxPool2d(kernel_size=2, stride=2, padding=0, dilation=1, ceil_mode=False)\n",
              "  )\n",
              "  (classifier): Sequential(\n",
              "    (0): Flatten(start_dim=1, end_dim=-1)\n",
              "    (1): LazyLinear(in_features=0, out_features=964, bias=True)\n",
              "  )\n",
              ")"
            ]
          },
          "metadata": {},
          "execution_count": 26
        }
      ]
    },
    {
      "cell_type": "code",
      "source": [
        "loss_fn = torch.nn.CrossEntropyLoss()\n",
        "optimizer= torch.optim.Adam(model_1.parameters(), lr=1e-3)"
      ],
      "metadata": {
        "id": "6Arw4IJBzWjb"
      },
      "execution_count": 31,
      "outputs": []
    },
    {
      "cell_type": "code",
      "source": [
        "# torch.manual_seed(42)\n",
        "\n",
        "from timeit import default_timer as timer\n",
        "train_time_start_model_1 = timer()\n",
        "\n",
        "epochs = 20\n",
        "\n",
        "for epoch in tqdm(range(epochs)):\n",
        "  print(f\"Epoch: {epoch}\\n---------\")\n",
        "  train_step(\n",
        "      model = model_1,\n",
        "      data_loader = train_dataloader,\n",
        "      loss_fn = loss_fn,\n",
        "      optimizer = optimizer,\n",
        "      accuracy_fn = accuracy_fn,\n",
        "      device = device\n",
        "  )\n",
        "  test_step(\n",
        "      model = model_1,\n",
        "      data_loader = test_dataloader,\n",
        "      loss_fn = loss_fn,\n",
        "      accuracy_fn = accuracy_fn,\n",
        "      device = device\n",
        "  )\n",
        "train_time_end_model_1 = timer()\n",
        "\n",
        "total_train_time_model_2 = print_train_time(\n",
        "    start = train_time_start_model_1,\n",
        "    end = train_time_end_model_1,\n",
        "    device = device\n",
        ")"
      ],
      "metadata": {
        "id": "GgGI2i97zdmT",
        "colab": {
          "base_uri": "https://localhost:8080/",
          "height": 1000,
          "referenced_widgets": [
            "d464471aac3e4499b34a5c4065698ce4",
            "e39efae827454cb38a6d36d7e1ae2d56",
            "a7d5e605d7074cb59805da3b71f5c480",
            "9cc8a02a977a43ab9e641cad2c06766e",
            "3c35e1a6bc414d94b5418f4545bef20e",
            "ba0dbbaac2d14258a6b1407bce848b5e",
            "0f431f1ddecb45daa9c87c34612ce61f",
            "08cc19df0e6e438494a8f24adf97d8dc",
            "889766d981594fb4859ffcc27091a224",
            "342fdb97182d4da68f3bc3f5bffb845b",
            "a8d995c5ab484c11926b96ef007e7a7a"
          ]
        },
        "outputId": "397b806b-a43d-4040-b717-249d45ddbf23"
      },
      "execution_count": 32,
      "outputs": [
        {
          "output_type": "display_data",
          "data": {
            "text/plain": [
              "  0%|          | 0/20 [00:00<?, ?it/s]"
            ],
            "application/vnd.jupyter.widget-view+json": {
              "version_major": 2,
              "version_minor": 0,
              "model_id": "d464471aac3e4499b34a5c4065698ce4"
            }
          },
          "metadata": {}
        },
        {
          "output_type": "stream",
          "name": "stdout",
          "text": [
            "Epoch: 0\n",
            "---------\n",
            "Train loss: 6.88008 | Train acc: 0.03242\n",
            "Test loss: 6.87589 | Test acc: 0.00000\n",
            "Epoch: 1\n",
            "---------\n",
            "Train loss: 6.87241 | Train acc: 0.07780\n",
            "Test loss: 6.87972 | Test acc: 0.00000\n",
            "Epoch: 2\n",
            "---------\n",
            "Train loss: 6.87161 | Train acc: 0.09725\n",
            "Test loss: 6.88342 | Test acc: 0.00000\n",
            "Epoch: 3\n",
            "---------\n",
            "Train loss: 6.87095 | Train acc: 0.07780\n",
            "Test loss: 6.88679 | Test acc: 0.00000\n",
            "Epoch: 4\n",
            "---------\n",
            "Train loss: 6.56137 | Train acc: 2.78138\n",
            "Test loss: 5.25363 | Test acc: 13.40393\n",
            "Epoch: 5\n",
            "---------\n",
            "Train loss: 2.40449 | Train acc: 53.93543\n",
            "Test loss: 4.48094 | Test acc: 28.38326\n",
            "Epoch: 6\n",
            "---------\n",
            "Train loss: 0.88468 | Train acc: 81.69735\n",
            "Test loss: 5.15396 | Test acc: 30.03616\n",
            "Epoch: 7\n",
            "---------\n",
            "Train loss: 0.35452 | Train acc: 92.77101\n",
            "Test loss: 5.97829 | Test acc: 29.08058\n",
            "Epoch: 8\n",
            "---------\n",
            "Train loss: 0.12404 | Train acc: 97.38719\n",
            "Test loss: 9.41688 | Test acc: 29.51963\n",
            "Epoch: 9\n",
            "---------\n",
            "Train loss: 0.04680 | Train acc: 98.99507\n",
            "Test loss: 11.23421 | Test acc: 28.95145\n",
            "Epoch: 10\n",
            "---------\n",
            "Train loss: 0.01890 | Train acc: 99.57858\n",
            "Test loss: 12.22235 | Test acc: 29.28719\n",
            "Epoch: 11\n",
            "---------\n",
            "Train loss: 0.00914 | Train acc: 99.78605\n",
            "Test loss: 14.13452 | Test acc: 28.97727\n",
            "Epoch: 12\n",
            "---------\n",
            "Train loss: 0.00491 | Train acc: 99.86385\n",
            "Test loss: 15.67091 | Test acc: 28.27996\n",
            "Epoch: 13\n",
            "---------\n",
            "Train loss: 0.00256 | Train acc: 99.92220\n",
            "Test loss: 17.70405 | Test acc: 28.40909\n",
            "Epoch: 14\n",
            "---------\n",
            "Train loss: 0.00249 | Train acc: 99.94165\n",
            "Test loss: 16.76315 | Test acc: 29.02893\n",
            "Epoch: 15\n",
            "---------\n",
            "Train loss: 0.00292 | Train acc: 99.90275\n",
            "Test loss: 19.30463 | Test acc: 28.43492\n",
            "Epoch: 16\n",
            "---------\n",
            "Train loss: 0.00778 | Train acc: 99.74715\n",
            "Test loss: 16.26035 | Test acc: 28.82231\n",
            "Epoch: 17\n",
            "---------\n",
            "Train loss: 0.00811 | Train acc: 99.74715\n",
            "Test loss: 16.62932 | Test acc: 29.80372\n",
            "Epoch: 18\n",
            "---------\n",
            "Train loss: 0.00183 | Train acc: 99.95462\n",
            "Test loss: 18.23064 | Test acc: 29.36467\n",
            "Epoch: 19\n",
            "---------\n",
            "Train loss: 0.00053 | Train acc: 99.99352\n",
            "Test loss: 19.79248 | Test acc: 29.36467\n",
            "Train time on cuda: 87.962 seconds\n"
          ]
        }
      ]
    },
    {
      "cell_type": "code",
      "source": [
        "model_1_results = eval_model(\n",
        "    model= model_1,\n",
        "    data_loader = test_dataloader,\n",
        "    loss_fn = loss_fn, \n",
        "    accuracy_fn = accuracy_fn, \n",
        "    device = device\n",
        ")\n",
        "model_1_results"
      ],
      "metadata": {
        "id": "WYAWkgiJz4K0",
        "colab": {
          "base_uri": "https://localhost:8080/"
        },
        "outputId": "6a23ca91-af38-4d8b-ec4b-c06fa2152067"
      },
      "execution_count": 33,
      "outputs": [
        {
          "output_type": "execute_result",
          "data": {
            "text/plain": [
              "{'model_name': 'OmniglotModel',\n",
              " 'model_loss': 19.72246551513672,\n",
              " 'model_acc': 29.49380165289256}"
            ]
          },
          "metadata": {},
          "execution_count": 33
        }
      ]
    }
  ]
}