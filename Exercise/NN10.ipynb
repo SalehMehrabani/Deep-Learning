{
  "nbformat": 4,
  "nbformat_minor": 0,
  "metadata": {
    "colab": {
      "provenance": [],
      "mount_file_id": "1lxeU3d8OW1gJgOOCo2UpcskHsXEK9GzP",
      "authorship_tag": "ABX9TyNNkJiot6EwFv7kEDvwVgHM",
      "include_colab_link": true
    },
    "kernelspec": {
      "name": "python3",
      "display_name": "Python 3"
    },
    "language_info": {
      "name": "python"
    },
    "accelerator": "GPU",
    "gpuClass": "standard"
  },
  "cells": [
    {
      "cell_type": "markdown",
      "metadata": {
        "id": "view-in-github",
        "colab_type": "text"
      },
      "source": [
        "<a href=\"https://colab.research.google.com/github/SalehMehrabani/PyTorch-Deep-Learning/blob/main/NN10.ipynb\" target=\"_parent\"><img src=\"https://colab.research.google.com/assets/colab-badge.svg\" alt=\"Open In Colab\"/></a>"
      ]
    },
    {
      "cell_type": "markdown",
      "source": [
        "# Breast Cancer Detection\n",
        "* Neural Network\n",
        "* PyTorch"
      ],
      "metadata": {
        "id": "g_zK_WiF_2i5"
      }
    },
    {
      "cell_type": "markdown",
      "source": [
        "## Import Library"
      ],
      "metadata": {
        "id": "nQ4xeNHAAA9T"
      }
    },
    {
      "cell_type": "code",
      "source": [
        "import pandas as pd\n",
        "import numpy as np\n",
        "import matplotlib.pyplot as plt\n",
        "import seaborn as sns\n",
        "import torch \n",
        "from torch import nn\n",
        "from sklearn.model_selection import train_test_split\n",
        "from sklearn.metrics import classification_report"
      ],
      "metadata": {
        "id": "y9nM9oqk__rO"
      },
      "execution_count": 189,
      "outputs": []
    },
    {
      "cell_type": "code",
      "source": [
        "device = \"cuda\" if torch.cuda.is_available() else \"cpu\"\n",
        "device"
      ],
      "metadata": {
        "colab": {
          "base_uri": "https://localhost:8080/",
          "height": 36
        },
        "id": "tHyF-sXNAPpq",
        "outputId": "479fe7a2-bf6c-4d02-9880-d79f2a1848c4"
      },
      "execution_count": 190,
      "outputs": [
        {
          "output_type": "execute_result",
          "data": {
            "text/plain": [
              "'cuda'"
            ],
            "application/vnd.google.colaboratory.intrinsic+json": {
              "type": "string"
            }
          },
          "metadata": {},
          "execution_count": 190
        }
      ]
    },
    {
      "cell_type": "markdown",
      "source": [
        "## Import Dataset"
      ],
      "metadata": {
        "id": "5qXfYxmuA_VC"
      }
    },
    {
      "cell_type": "code",
      "source": [
        "df = pd.read_csv(\"breast-cancer.csv\")\n",
        "df.head()"
      ],
      "metadata": {
        "colab": {
          "base_uri": "https://localhost:8080/",
          "height": 317
        },
        "id": "sKnv2BHcApuG",
        "outputId": "2a71627a-6817-4517-cb07-1d176b0ce140"
      },
      "execution_count": 240,
      "outputs": [
        {
          "output_type": "execute_result",
          "data": {
            "text/plain": [
              "         id diagnosis  radius_mean  texture_mean  perimeter_mean  area_mean  \\\n",
              "0    842302         M        17.99         10.38          122.80     1001.0   \n",
              "1    842517         M        20.57         17.77          132.90     1326.0   \n",
              "2  84300903         M        19.69         21.25          130.00     1203.0   \n",
              "3  84348301         M        11.42         20.38           77.58      386.1   \n",
              "4  84358402         M        20.29         14.34          135.10     1297.0   \n",
              "\n",
              "   smoothness_mean  compactness_mean  concavity_mean  concave points_mean  \\\n",
              "0          0.11840           0.27760          0.3001              0.14710   \n",
              "1          0.08474           0.07864          0.0869              0.07017   \n",
              "2          0.10960           0.15990          0.1974              0.12790   \n",
              "3          0.14250           0.28390          0.2414              0.10520   \n",
              "4          0.10030           0.13280          0.1980              0.10430   \n",
              "\n",
              "   ...  radius_worst  texture_worst  perimeter_worst  area_worst  \\\n",
              "0  ...         25.38          17.33           184.60      2019.0   \n",
              "1  ...         24.99          23.41           158.80      1956.0   \n",
              "2  ...         23.57          25.53           152.50      1709.0   \n",
              "3  ...         14.91          26.50            98.87       567.7   \n",
              "4  ...         22.54          16.67           152.20      1575.0   \n",
              "\n",
              "   smoothness_worst  compactness_worst  concavity_worst  concave points_worst  \\\n",
              "0            0.1622             0.6656           0.7119                0.2654   \n",
              "1            0.1238             0.1866           0.2416                0.1860   \n",
              "2            0.1444             0.4245           0.4504                0.2430   \n",
              "3            0.2098             0.8663           0.6869                0.2575   \n",
              "4            0.1374             0.2050           0.4000                0.1625   \n",
              "\n",
              "   symmetry_worst  fractal_dimension_worst  \n",
              "0          0.4601                  0.11890  \n",
              "1          0.2750                  0.08902  \n",
              "2          0.3613                  0.08758  \n",
              "3          0.6638                  0.17300  \n",
              "4          0.2364                  0.07678  \n",
              "\n",
              "[5 rows x 32 columns]"
            ],
            "text/html": [
              "\n",
              "  <div id=\"df-fa4a0e42-93fa-456b-a5ad-989764df3e77\">\n",
              "    <div class=\"colab-df-container\">\n",
              "      <div>\n",
              "<style scoped>\n",
              "    .dataframe tbody tr th:only-of-type {\n",
              "        vertical-align: middle;\n",
              "    }\n",
              "\n",
              "    .dataframe tbody tr th {\n",
              "        vertical-align: top;\n",
              "    }\n",
              "\n",
              "    .dataframe thead th {\n",
              "        text-align: right;\n",
              "    }\n",
              "</style>\n",
              "<table border=\"1\" class=\"dataframe\">\n",
              "  <thead>\n",
              "    <tr style=\"text-align: right;\">\n",
              "      <th></th>\n",
              "      <th>id</th>\n",
              "      <th>diagnosis</th>\n",
              "      <th>radius_mean</th>\n",
              "      <th>texture_mean</th>\n",
              "      <th>perimeter_mean</th>\n",
              "      <th>area_mean</th>\n",
              "      <th>smoothness_mean</th>\n",
              "      <th>compactness_mean</th>\n",
              "      <th>concavity_mean</th>\n",
              "      <th>concave points_mean</th>\n",
              "      <th>...</th>\n",
              "      <th>radius_worst</th>\n",
              "      <th>texture_worst</th>\n",
              "      <th>perimeter_worst</th>\n",
              "      <th>area_worst</th>\n",
              "      <th>smoothness_worst</th>\n",
              "      <th>compactness_worst</th>\n",
              "      <th>concavity_worst</th>\n",
              "      <th>concave points_worst</th>\n",
              "      <th>symmetry_worst</th>\n",
              "      <th>fractal_dimension_worst</th>\n",
              "    </tr>\n",
              "  </thead>\n",
              "  <tbody>\n",
              "    <tr>\n",
              "      <th>0</th>\n",
              "      <td>842302</td>\n",
              "      <td>M</td>\n",
              "      <td>17.99</td>\n",
              "      <td>10.38</td>\n",
              "      <td>122.80</td>\n",
              "      <td>1001.0</td>\n",
              "      <td>0.11840</td>\n",
              "      <td>0.27760</td>\n",
              "      <td>0.3001</td>\n",
              "      <td>0.14710</td>\n",
              "      <td>...</td>\n",
              "      <td>25.38</td>\n",
              "      <td>17.33</td>\n",
              "      <td>184.60</td>\n",
              "      <td>2019.0</td>\n",
              "      <td>0.1622</td>\n",
              "      <td>0.6656</td>\n",
              "      <td>0.7119</td>\n",
              "      <td>0.2654</td>\n",
              "      <td>0.4601</td>\n",
              "      <td>0.11890</td>\n",
              "    </tr>\n",
              "    <tr>\n",
              "      <th>1</th>\n",
              "      <td>842517</td>\n",
              "      <td>M</td>\n",
              "      <td>20.57</td>\n",
              "      <td>17.77</td>\n",
              "      <td>132.90</td>\n",
              "      <td>1326.0</td>\n",
              "      <td>0.08474</td>\n",
              "      <td>0.07864</td>\n",
              "      <td>0.0869</td>\n",
              "      <td>0.07017</td>\n",
              "      <td>...</td>\n",
              "      <td>24.99</td>\n",
              "      <td>23.41</td>\n",
              "      <td>158.80</td>\n",
              "      <td>1956.0</td>\n",
              "      <td>0.1238</td>\n",
              "      <td>0.1866</td>\n",
              "      <td>0.2416</td>\n",
              "      <td>0.1860</td>\n",
              "      <td>0.2750</td>\n",
              "      <td>0.08902</td>\n",
              "    </tr>\n",
              "    <tr>\n",
              "      <th>2</th>\n",
              "      <td>84300903</td>\n",
              "      <td>M</td>\n",
              "      <td>19.69</td>\n",
              "      <td>21.25</td>\n",
              "      <td>130.00</td>\n",
              "      <td>1203.0</td>\n",
              "      <td>0.10960</td>\n",
              "      <td>0.15990</td>\n",
              "      <td>0.1974</td>\n",
              "      <td>0.12790</td>\n",
              "      <td>...</td>\n",
              "      <td>23.57</td>\n",
              "      <td>25.53</td>\n",
              "      <td>152.50</td>\n",
              "      <td>1709.0</td>\n",
              "      <td>0.1444</td>\n",
              "      <td>0.4245</td>\n",
              "      <td>0.4504</td>\n",
              "      <td>0.2430</td>\n",
              "      <td>0.3613</td>\n",
              "      <td>0.08758</td>\n",
              "    </tr>\n",
              "    <tr>\n",
              "      <th>3</th>\n",
              "      <td>84348301</td>\n",
              "      <td>M</td>\n",
              "      <td>11.42</td>\n",
              "      <td>20.38</td>\n",
              "      <td>77.58</td>\n",
              "      <td>386.1</td>\n",
              "      <td>0.14250</td>\n",
              "      <td>0.28390</td>\n",
              "      <td>0.2414</td>\n",
              "      <td>0.10520</td>\n",
              "      <td>...</td>\n",
              "      <td>14.91</td>\n",
              "      <td>26.50</td>\n",
              "      <td>98.87</td>\n",
              "      <td>567.7</td>\n",
              "      <td>0.2098</td>\n",
              "      <td>0.8663</td>\n",
              "      <td>0.6869</td>\n",
              "      <td>0.2575</td>\n",
              "      <td>0.6638</td>\n",
              "      <td>0.17300</td>\n",
              "    </tr>\n",
              "    <tr>\n",
              "      <th>4</th>\n",
              "      <td>84358402</td>\n",
              "      <td>M</td>\n",
              "      <td>20.29</td>\n",
              "      <td>14.34</td>\n",
              "      <td>135.10</td>\n",
              "      <td>1297.0</td>\n",
              "      <td>0.10030</td>\n",
              "      <td>0.13280</td>\n",
              "      <td>0.1980</td>\n",
              "      <td>0.10430</td>\n",
              "      <td>...</td>\n",
              "      <td>22.54</td>\n",
              "      <td>16.67</td>\n",
              "      <td>152.20</td>\n",
              "      <td>1575.0</td>\n",
              "      <td>0.1374</td>\n",
              "      <td>0.2050</td>\n",
              "      <td>0.4000</td>\n",
              "      <td>0.1625</td>\n",
              "      <td>0.2364</td>\n",
              "      <td>0.07678</td>\n",
              "    </tr>\n",
              "  </tbody>\n",
              "</table>\n",
              "<p>5 rows × 32 columns</p>\n",
              "</div>\n",
              "      <button class=\"colab-df-convert\" onclick=\"convertToInteractive('df-fa4a0e42-93fa-456b-a5ad-989764df3e77')\"\n",
              "              title=\"Convert this dataframe to an interactive table.\"\n",
              "              style=\"display:none;\">\n",
              "        \n",
              "  <svg xmlns=\"http://www.w3.org/2000/svg\" height=\"24px\"viewBox=\"0 0 24 24\"\n",
              "       width=\"24px\">\n",
              "    <path d=\"M0 0h24v24H0V0z\" fill=\"none\"/>\n",
              "    <path d=\"M18.56 5.44l.94 2.06.94-2.06 2.06-.94-2.06-.94-.94-2.06-.94 2.06-2.06.94zm-11 1L8.5 8.5l.94-2.06 2.06-.94-2.06-.94L8.5 2.5l-.94 2.06-2.06.94zm10 10l.94 2.06.94-2.06 2.06-.94-2.06-.94-.94-2.06-.94 2.06-2.06.94z\"/><path d=\"M17.41 7.96l-1.37-1.37c-.4-.4-.92-.59-1.43-.59-.52 0-1.04.2-1.43.59L10.3 9.45l-7.72 7.72c-.78.78-.78 2.05 0 2.83L4 21.41c.39.39.9.59 1.41.59.51 0 1.02-.2 1.41-.59l7.78-7.78 2.81-2.81c.8-.78.8-2.07 0-2.86zM5.41 20L4 18.59l7.72-7.72 1.47 1.35L5.41 20z\"/>\n",
              "  </svg>\n",
              "      </button>\n",
              "      \n",
              "  <style>\n",
              "    .colab-df-container {\n",
              "      display:flex;\n",
              "      flex-wrap:wrap;\n",
              "      gap: 12px;\n",
              "    }\n",
              "\n",
              "    .colab-df-convert {\n",
              "      background-color: #E8F0FE;\n",
              "      border: none;\n",
              "      border-radius: 50%;\n",
              "      cursor: pointer;\n",
              "      display: none;\n",
              "      fill: #1967D2;\n",
              "      height: 32px;\n",
              "      padding: 0 0 0 0;\n",
              "      width: 32px;\n",
              "    }\n",
              "\n",
              "    .colab-df-convert:hover {\n",
              "      background-color: #E2EBFA;\n",
              "      box-shadow: 0px 1px 2px rgba(60, 64, 67, 0.3), 0px 1px 3px 1px rgba(60, 64, 67, 0.15);\n",
              "      fill: #174EA6;\n",
              "    }\n",
              "\n",
              "    [theme=dark] .colab-df-convert {\n",
              "      background-color: #3B4455;\n",
              "      fill: #D2E3FC;\n",
              "    }\n",
              "\n",
              "    [theme=dark] .colab-df-convert:hover {\n",
              "      background-color: #434B5C;\n",
              "      box-shadow: 0px 1px 3px 1px rgba(0, 0, 0, 0.15);\n",
              "      filter: drop-shadow(0px 1px 2px rgba(0, 0, 0, 0.3));\n",
              "      fill: #FFFFFF;\n",
              "    }\n",
              "  </style>\n",
              "\n",
              "      <script>\n",
              "        const buttonEl =\n",
              "          document.querySelector('#df-fa4a0e42-93fa-456b-a5ad-989764df3e77 button.colab-df-convert');\n",
              "        buttonEl.style.display =\n",
              "          google.colab.kernel.accessAllowed ? 'block' : 'none';\n",
              "\n",
              "        async function convertToInteractive(key) {\n",
              "          const element = document.querySelector('#df-fa4a0e42-93fa-456b-a5ad-989764df3e77');\n",
              "          const dataTable =\n",
              "            await google.colab.kernel.invokeFunction('convertToInteractive',\n",
              "                                                     [key], {});\n",
              "          if (!dataTable) return;\n",
              "\n",
              "          const docLinkHtml = 'Like what you see? Visit the ' +\n",
              "            '<a target=\"_blank\" href=https://colab.research.google.com/notebooks/data_table.ipynb>data table notebook</a>'\n",
              "            + ' to learn more about interactive tables.';\n",
              "          element.innerHTML = '';\n",
              "          dataTable['output_type'] = 'display_data';\n",
              "          await google.colab.output.renderOutput(dataTable, element);\n",
              "          const docLink = document.createElement('div');\n",
              "          docLink.innerHTML = docLinkHtml;\n",
              "          element.appendChild(docLink);\n",
              "        }\n",
              "      </script>\n",
              "    </div>\n",
              "  </div>\n",
              "  "
            ]
          },
          "metadata": {},
          "execution_count": 240
        }
      ]
    },
    {
      "cell_type": "code",
      "source": [
        "df.isna().sum().any()"
      ],
      "metadata": {
        "colab": {
          "base_uri": "https://localhost:8080/"
        },
        "id": "7Yp6nQMrBMdJ",
        "outputId": "5ccd6c58-386d-4229-c499-b2b460e47a36"
      },
      "execution_count": 241,
      "outputs": [
        {
          "output_type": "execute_result",
          "data": {
            "text/plain": [
              "False"
            ]
          },
          "metadata": {},
          "execution_count": 241
        }
      ]
    },
    {
      "cell_type": "code",
      "source": [
        "df[\"diagnosis\"].value_counts()"
      ],
      "metadata": {
        "colab": {
          "base_uri": "https://localhost:8080/"
        },
        "id": "1wtxRVfABbbG",
        "outputId": "8ea567cd-1ace-4c9a-9e9b-0b63a25b4a8b"
      },
      "execution_count": 242,
      "outputs": [
        {
          "output_type": "execute_result",
          "data": {
            "text/plain": [
              "B    357\n",
              "M    212\n",
              "Name: diagnosis, dtype: int64"
            ]
          },
          "metadata": {},
          "execution_count": 242
        }
      ]
    },
    {
      "cell_type": "code",
      "source": [
        "plt.figure(figsize=(15,15))\n",
        "corr= df.corr()\n",
        "sns.heatmap(corr, xticklabels=corr.columns, yticklabels=corr.columns)"
      ],
      "metadata": {
        "colab": {
          "base_uri": "https://localhost:8080/",
          "height": 998
        },
        "id": "ELDyPbsnBkYs",
        "outputId": "babfdaf3-ea7f-4dc6-b159-4336ac489471"
      },
      "execution_count": 225,
      "outputs": [
        {
          "output_type": "execute_result",
          "data": {
            "text/plain": [
              "<matplotlib.axes._subplots.AxesSubplot at 0x7fd6803e3100>"
            ]
          },
          "metadata": {},
          "execution_count": 225
        },
        {
          "output_type": "display_data",
          "data": {
            "text/plain": [
              "<Figure size 1080x1080 with 2 Axes>"
            ],
            "image/png": "[encoded data removed]"
          },
          "metadata": {
            "needs_background": "light"
          }
        }
      ]
    },
    {
      "cell_type": "code",
      "source": [
        "df.loc[df.diagnosis == \"B\", 'diagnosis'] = 0.\n",
        "df.loc[df.diagnosis == \"M\", 'diagnosis'] = 1."
      ],
      "metadata": {
        "id": "V5jHyTChWT48"
      },
      "execution_count": 243,
      "outputs": []
    },
    {
      "cell_type": "code",
      "source": [
        "df[\"diagnosis\"]=df.diagnosis.astype(float)"
      ],
      "metadata": {
        "id": "nq1SN_UEgqA-"
      },
      "execution_count": 244,
      "outputs": []
    },
    {
      "cell_type": "code",
      "source": [
        "df= df.drop([\"id\"],1)"
      ],
      "metadata": {
        "colab": {
          "base_uri": "https://localhost:8080/"
        },
        "id": "H7rsm1d5ZCPz",
        "outputId": "230ee0af-3ad5-484f-af76-4dc2c6fa3161"
      },
      "execution_count": 245,
      "outputs": [
        {
          "output_type": "stream",
          "name": "stderr",
          "text": [
            "<ipython-input-245-df8aac4787fe>:1: FutureWarning: In a future version of pandas all arguments of DataFrame.drop except for the argument 'labels' will be keyword-only\n",
            "  df= df.drop([\"id\"],1)\n"
          ]
        }
      ]
    },
    {
      "cell_type": "code",
      "source": [
        "df_train, df_test= train_test_split(df, test_size=0.1, random_state=42, shuffle=True)"
      ],
      "metadata": {
        "id": "lVHzSU_6LDF5"
      },
      "execution_count": 246,
      "outputs": []
    },
    {
      "cell_type": "code",
      "source": [
        "df_train.shape, df_test.shape"
      ],
      "metadata": {
        "colab": {
          "base_uri": "https://localhost:8080/"
        },
        "id": "qmucffrdZPAC",
        "outputId": "997aed49-7e1f-469b-e47d-57943f61c39f"
      },
      "execution_count": 247,
      "outputs": [
        {
          "output_type": "execute_result",
          "data": {
            "text/plain": [
              "((512, 31), (57, 31))"
            ]
          },
          "metadata": {},
          "execution_count": 247
        }
      ]
    },
    {
      "cell_type": "code",
      "source": [
        "x= df_train.drop([\"diagnosis\"],1)\n",
        "y= df_train[\"diagnosis\"]"
      ],
      "metadata": {
        "colab": {
          "base_uri": "https://localhost:8080/"
        },
        "id": "ZWOV7XIabVnw",
        "outputId": "41e68e62-e3fa-4b09-e310-e1026bf7b9c6"
      },
      "execution_count": 248,
      "outputs": [
        {
          "output_type": "stream",
          "name": "stderr",
          "text": [
            "<ipython-input-248-f68b579bdd17>:1: FutureWarning: In a future version of pandas all arguments of DataFrame.drop except for the argument 'labels' will be keyword-only\n",
            "  x= df_train.drop([\"diagnosis\"],1)\n"
          ]
        }
      ]
    },
    {
      "cell_type": "code",
      "source": [
        "x.shape, y.shape"
      ],
      "metadata": {
        "colab": {
          "base_uri": "https://localhost:8080/"
        },
        "id": "4BY7KRIiY-IX",
        "outputId": "e5850dc2-a4c6-4c76-f87b-32ea61dfba8e"
      },
      "execution_count": 249,
      "outputs": [
        {
          "output_type": "execute_result",
          "data": {
            "text/plain": [
              "((512, 30), (512,))"
            ]
          },
          "metadata": {},
          "execution_count": 249
        }
      ]
    },
    {
      "cell_type": "code",
      "source": [
        "x= torch.from_numpy(x.values).type(dtype=torch.float)"
      ],
      "metadata": {
        "id": "fJOkd18-WrCM"
      },
      "execution_count": 250,
      "outputs": []
    },
    {
      "cell_type": "code",
      "source": [
        "y= torch.from_numpy(y.values).type(dtype=torch.float)"
      ],
      "metadata": {
        "id": "bI1l3C7PXZXS"
      },
      "execution_count": 251,
      "outputs": []
    },
    {
      "cell_type": "code",
      "source": [
        "x.shape, y.shape"
      ],
      "metadata": {
        "colab": {
          "base_uri": "https://localhost:8080/"
        },
        "id": "rccJmeYoZdeQ",
        "outputId": "a63d64cf-cea3-42ac-de9e-65a0d0640074"
      },
      "execution_count": 252,
      "outputs": [
        {
          "output_type": "execute_result",
          "data": {
            "text/plain": [
              "(torch.Size([512, 30]), torch.Size([512]))"
            ]
          },
          "metadata": {},
          "execution_count": 252
        }
      ]
    },
    {
      "cell_type": "code",
      "source": [
        "X_train, X_test, y_train, y_test= train_test_split(x, y, test_size=0.1, random_state=42)"
      ],
      "metadata": {
        "id": "Lq37LrS2YlQJ"
      },
      "execution_count": 253,
      "outputs": []
    },
    {
      "cell_type": "markdown",
      "source": [
        "## Create Model"
      ],
      "metadata": {
        "id": "daGIKzYVLDiA"
      }
    },
    {
      "cell_type": "code",
      "source": [
        "class BreastCancerModel(nn.Module):\n",
        "  def __init__(self):\n",
        "    super().__init__()\n",
        "    self.layers= nn.Sequential(\n",
        "        nn.Linear(30, 64),\n",
        "        nn.ReLU(),\n",
        "        nn.Linear(64, 32),\n",
        "        nn.ReLU(),\n",
        "        nn.Linear(32,16),\n",
        "        nn.ReLU(),\n",
        "        nn.Linear(16,8),\n",
        "        nn.ReLU(),\n",
        "        nn.Linear(8,1)\n",
        "    )\n",
        "  def forward(self, x):\n",
        "    x= self.layers(x)\n",
        "    return(x)"
      ],
      "metadata": {
        "id": "eNvNGsH1IbsH"
      },
      "execution_count": 254,
      "outputs": []
    },
    {
      "cell_type": "code",
      "source": [
        "model_0= BreastCancerModel().to(device)\n",
        "model_0"
      ],
      "metadata": {
        "colab": {
          "base_uri": "https://localhost:8080/"
        },
        "id": "GMW1V3JULWbG",
        "outputId": "6cddf991-128d-4fb5-e83c-94a12fccf71a"
      },
      "execution_count": 255,
      "outputs": [
        {
          "output_type": "execute_result",
          "data": {
            "text/plain": [
              "BreastCancerModel(\n",
              "  (layers): Sequential(\n",
              "    (0): Linear(in_features=30, out_features=64, bias=True)\n",
              "    (1): ReLU()\n",
              "    (2): Linear(in_features=64, out_features=32, bias=True)\n",
              "    (3): ReLU()\n",
              "    (4): Linear(in_features=32, out_features=16, bias=True)\n",
              "    (5): ReLU()\n",
              "    (6): Linear(in_features=16, out_features=8, bias=True)\n",
              "    (7): ReLU()\n",
              "    (8): Linear(in_features=8, out_features=1, bias=True)\n",
              "  )\n",
              ")"
            ]
          },
          "metadata": {},
          "execution_count": 255
        }
      ]
    },
    {
      "cell_type": "code",
      "source": [
        "loss_fn = torch.nn.BCEWithLogitsLoss()\n",
        "optimizer= torch.optim.Adam(model_0.parameters(), lr=1e-3)"
      ],
      "metadata": {
        "id": "btIZsoO_MhKI"
      },
      "execution_count": 256,
      "outputs": []
    },
    {
      "cell_type": "code",
      "source": [
        "def accuracy_fn(y_true, y_pred):\n",
        "  correct=torch.eq(y_true, y_pred).sum().item()\n",
        "  acc= (correct/len(y_pred))*100\n",
        "  return acc "
      ],
      "metadata": {
        "id": "LyMD2-hUbMCx"
      },
      "execution_count": 257,
      "outputs": []
    },
    {
      "cell_type": "code",
      "source": [
        "torch.manual_seed(42)\n",
        "torch.cuda.manual_seed(42)\n",
        "\n",
        "epochs=1000\n",
        "X_train, y_train = X_train.to(device), y_train.to(device)\n",
        "X_test, y_test= X_test.to(device), y_test.to(device)\n",
        "\n",
        "\n",
        "for epoch in range(epochs):\n",
        "  #Training Dataset\n",
        "  model_0.train()\n",
        "  #Forward Propaagation\n",
        "  output = model_0(X_train).squeeze(dim=1)\n",
        "  y_pred = torch.round(torch.sigmoid(output)) \n",
        "  #Loss and Accuracy Function\n",
        "  loss= loss_fn(output, y_train)\n",
        "  acc= accuracy_fn(y_train, y_pred)\n",
        "  #optimizer zero grad\n",
        "  optimizer.zero_grad()\n",
        "  #Loss Back Propagation\n",
        "  loss.backward()\n",
        "  #optimizer step\n",
        "  optimizer.step()\n",
        "\n",
        "  #Testing Dataset\n",
        "  model_0.eval()\n",
        "  with torch.inference_mode():\n",
        "    #Forward Propagation\n",
        "    test_output=model_0(X_test).squeeze(dim=1)\n",
        "    test_pred= torch.round(torch.sigmoid(test_output))\n",
        "    #Loss and Accuracy Function\n",
        "    test_loss= loss_fn(test_output, y_test)\n",
        "    test_acc= accuracy_fn(y_test, test_pred)\n",
        "\n",
        "  if epoch %10==0:\n",
        "    print(f\"Epoch: {epoch} | Loss: {loss} | Acc: {acc} | Test Loss: {test_loss} | Test Acc: {test_acc}\")\n"
      ],
      "metadata": {
        "id": "gAjw8ipJNY_i",
        "colab": {
          "base_uri": "https://localhost:8080/"
        },
        "outputId": "18455724-736b-4134-f2a3-c4ffa07fccfe"
      },
      "execution_count": 264,
      "outputs": [
        {
          "output_type": "stream",
          "name": "stdout",
          "text": [
            "Epoch: 0 | Loss: 0.04401759058237076 | Acc: 97.82608695652173 | Test Loss: 0.21493695676326752 | Test Acc: 94.23076923076923\n",
            "Epoch: 10 | Loss: 0.043614111840724945 | Acc: 97.82608695652173 | Test Loss: 0.21312445402145386 | Test Acc: 94.23076923076923\n",
            "Epoch: 20 | Loss: 0.04311402887105942 | Acc: 98.04347826086956 | Test Loss: 0.21349142491817474 | Test Acc: 94.23076923076923\n",
            "Epoch: 30 | Loss: 0.042720332741737366 | Acc: 97.82608695652173 | Test Loss: 0.21375159919261932 | Test Acc: 94.23076923076923\n",
            "Epoch: 40 | Loss: 0.04242897406220436 | Acc: 98.04347826086956 | Test Loss: 0.21417005360126495 | Test Acc: 94.23076923076923\n",
            "Epoch: 50 | Loss: 0.04211994633078575 | Acc: 97.82608695652173 | Test Loss: 0.2146587073802948 | Test Acc: 94.23076923076923\n",
            "Epoch: 60 | Loss: 0.041681744158267975 | Acc: 98.04347826086956 | Test Loss: 0.2154921144247055 | Test Acc: 94.23076923076923\n",
            "Epoch: 70 | Loss: 0.04138937219977379 | Acc: 98.04347826086956 | Test Loss: 0.2157406508922577 | Test Acc: 94.23076923076923\n",
            "Epoch: 80 | Loss: 0.041037846356630325 | Acc: 98.04347826086956 | Test Loss: 0.2167746126651764 | Test Acc: 94.23076923076923\n",
            "Epoch: 90 | Loss: 0.040777452290058136 | Acc: 98.04347826086956 | Test Loss: 0.21750597655773163 | Test Acc: 94.23076923076923\n",
            "Epoch: 100 | Loss: 0.04040747880935669 | Acc: 98.04347826086956 | Test Loss: 0.21871009469032288 | Test Acc: 94.23076923076923\n",
            "Epoch: 110 | Loss: 0.04009834676980972 | Acc: 98.04347826086956 | Test Loss: 0.21872146427631378 | Test Acc: 94.23076923076923\n",
            "Epoch: 120 | Loss: 0.0397893488407135 | Acc: 98.04347826086956 | Test Loss: 0.21981585025787354 | Test Acc: 94.23076923076923\n",
            "Epoch: 130 | Loss: 0.039492059499025345 | Acc: 98.04347826086956 | Test Loss: 0.21978503465652466 | Test Acc: 94.23076923076923\n",
            "Epoch: 140 | Loss: 0.039209503680467606 | Acc: 98.04347826086956 | Test Loss: 0.22112444043159485 | Test Acc: 94.23076923076923\n",
            "Epoch: 150 | Loss: 0.03884200006723404 | Acc: 98.04347826086956 | Test Loss: 0.2208268940448761 | Test Acc: 94.23076923076923\n",
            "Epoch: 160 | Loss: 0.03856934234499931 | Acc: 98.04347826086956 | Test Loss: 0.22233892977237701 | Test Acc: 94.23076923076923\n",
            "Epoch: 170 | Loss: 0.038275428116321564 | Acc: 98.04347826086956 | Test Loss: 0.22339563071727753 | Test Acc: 94.23076923076923\n",
            "Epoch: 180 | Loss: 0.03784888982772827 | Acc: 98.26086956521739 | Test Loss: 0.22530360519886017 | Test Acc: 94.23076923076923\n",
            "Epoch: 190 | Loss: 0.03930075466632843 | Acc: 98.26086956521739 | Test Loss: 0.222081258893013 | Test Acc: 94.23076923076923\n",
            "Epoch: 200 | Loss: 0.047161463648080826 | Acc: 98.47826086956522 | Test Loss: 0.2325998693704605 | Test Acc: 94.23076923076923\n",
            "Epoch: 210 | Loss: 0.03922202065587044 | Acc: 98.47826086956522 | Test Loss: 0.24186693131923676 | Test Acc: 94.23076923076923\n",
            "Epoch: 220 | Loss: 0.3483896255493164 | Acc: 91.73913043478261 | Test Loss: 0.48007065057754517 | Test Acc: 94.23076923076923\n",
            "Epoch: 230 | Loss: 0.11697731912136078 | Acc: 96.30434782608695 | Test Loss: 0.24263052642345428 | Test Acc: 94.23076923076923\n",
            "Epoch: 240 | Loss: 0.07223619520664215 | Acc: 96.95652173913044 | Test Loss: 0.15914364159107208 | Test Acc: 90.38461538461539\n",
            "Epoch: 250 | Loss: 0.07617410272359848 | Acc: 96.52173913043478 | Test Loss: 0.17341835796833038 | Test Acc: 94.23076923076923\n",
            "Epoch: 260 | Loss: 0.07166265696287155 | Acc: 97.17391304347827 | Test Loss: 0.156178280711174 | Test Acc: 96.15384615384616\n",
            "Epoch: 270 | Loss: 0.0653090700507164 | Acc: 97.17391304347827 | Test Loss: 0.16627369821071625 | Test Acc: 96.15384615384616\n",
            "Epoch: 280 | Loss: 0.05730456858873367 | Acc: 97.60869565217392 | Test Loss: 0.188625305891037 | Test Acc: 96.15384615384616\n",
            "Epoch: 290 | Loss: 0.05096077919006348 | Acc: 98.26086956521739 | Test Loss: 0.17951413989067078 | Test Acc: 94.23076923076923\n",
            "Epoch: 300 | Loss: 0.04859347641468048 | Acc: 97.82608695652173 | Test Loss: 0.18815559148788452 | Test Acc: 94.23076923076923\n",
            "Epoch: 310 | Loss: 0.04689405485987663 | Acc: 97.82608695652173 | Test Loss: 0.19250088930130005 | Test Acc: 94.23076923076923\n",
            "Epoch: 320 | Loss: 0.04586520791053772 | Acc: 97.60869565217392 | Test Loss: 0.19726163148880005 | Test Acc: 94.23076923076923\n",
            "Epoch: 330 | Loss: 0.045185912400484085 | Acc: 97.82608695652173 | Test Loss: 0.2009216547012329 | Test Acc: 94.23076923076923\n",
            "Epoch: 340 | Loss: 0.04461267590522766 | Acc: 98.26086956521739 | Test Loss: 0.20220300555229187 | Test Acc: 94.23076923076923\n",
            "Epoch: 350 | Loss: 0.044127076864242554 | Acc: 98.26086956521739 | Test Loss: 0.20443429052829742 | Test Acc: 94.23076923076923\n",
            "Epoch: 360 | Loss: 0.04366619139909744 | Acc: 98.26086956521739 | Test Loss: 0.20604208111763 | Test Acc: 94.23076923076923\n",
            "Epoch: 370 | Loss: 0.04316424950957298 | Acc: 98.04347826086956 | Test Loss: 0.20706474781036377 | Test Acc: 94.23076923076923\n",
            "Epoch: 380 | Loss: 0.04258323088288307 | Acc: 98.04347826086956 | Test Loss: 0.20808814465999603 | Test Acc: 94.23076923076923\n",
            "Epoch: 390 | Loss: 0.041770704090595245 | Acc: 98.04347826086956 | Test Loss: 0.20904633402824402 | Test Acc: 94.23076923076923\n",
            "Epoch: 400 | Loss: 0.0406925193965435 | Acc: 98.04347826086956 | Test Loss: 0.2097240835428238 | Test Acc: 94.23076923076923\n",
            "Epoch: 410 | Loss: 0.03970255330204964 | Acc: 98.04347826086956 | Test Loss: 0.21372529864311218 | Test Acc: 94.23076923076923\n",
            "Epoch: 420 | Loss: 0.03874942660331726 | Acc: 98.04347826086956 | Test Loss: 0.21862508356571198 | Test Acc: 94.23076923076923\n",
            "Epoch: 430 | Loss: 0.037886183708906174 | Acc: 98.04347826086956 | Test Loss: 0.22415044903755188 | Test Acc: 96.15384615384616\n",
            "Epoch: 440 | Loss: 0.03719130903482437 | Acc: 98.04347826086956 | Test Loss: 0.22884134948253632 | Test Acc: 94.23076923076923\n",
            "Epoch: 450 | Loss: 0.036637481302022934 | Acc: 98.04347826086956 | Test Loss: 0.233890563249588 | Test Acc: 94.23076923076923\n",
            "Epoch: 460 | Loss: 0.036148857325315475 | Acc: 98.04347826086956 | Test Loss: 0.2384270429611206 | Test Acc: 94.23076923076923\n",
            "Epoch: 470 | Loss: 0.03566567599773407 | Acc: 98.04347826086956 | Test Loss: 0.24336005747318268 | Test Acc: 94.23076923076923\n",
            "Epoch: 480 | Loss: 0.03532712161540985 | Acc: 98.04347826086956 | Test Loss: 0.24778150022029877 | Test Acc: 94.23076923076923\n",
            "Epoch: 490 | Loss: 0.034987762570381165 | Acc: 98.04347826086956 | Test Loss: 0.2521813213825226 | Test Acc: 94.23076923076923\n",
            "Epoch: 500 | Loss: 0.03469093516469002 | Acc: 98.26086956521739 | Test Loss: 0.25642257928848267 | Test Acc: 94.23076923076923\n",
            "Epoch: 510 | Loss: 0.034442074596881866 | Acc: 98.04347826086956 | Test Loss: 0.2604347765445709 | Test Acc: 94.23076923076923\n",
            "Epoch: 520 | Loss: 0.03420839086174965 | Acc: 98.26086956521739 | Test Loss: 0.2642471492290497 | Test Acc: 94.23076923076923\n",
            "Epoch: 530 | Loss: 0.03376441076397896 | Acc: 98.26086956521739 | Test Loss: 0.2677798867225647 | Test Acc: 94.23076923076923\n",
            "Epoch: 540 | Loss: 0.03348112478852272 | Acc: 98.26086956521739 | Test Loss: 0.27195167541503906 | Test Acc: 94.23076923076923\n",
            "Epoch: 550 | Loss: 0.033187150955200195 | Acc: 98.26086956521739 | Test Loss: 0.27538973093032837 | Test Acc: 94.23076923076923\n",
            "Epoch: 560 | Loss: 0.03302742913365364 | Acc: 98.26086956521739 | Test Loss: 0.27830788493156433 | Test Acc: 94.23076923076923\n",
            "Epoch: 570 | Loss: 0.03272309899330139 | Acc: 98.26086956521739 | Test Loss: 0.28102925419807434 | Test Acc: 94.23076923076923\n",
            "Epoch: 580 | Loss: 0.032446570694446564 | Acc: 98.26086956521739 | Test Loss: 0.28362128138542175 | Test Acc: 94.23076923076923\n",
            "Epoch: 590 | Loss: 0.03221073001623154 | Acc: 98.26086956521739 | Test Loss: 0.2858187258243561 | Test Acc: 94.23076923076923\n",
            "Epoch: 600 | Loss: 0.0319398008286953 | Acc: 98.47826086956522 | Test Loss: 0.2878590226173401 | Test Acc: 94.23076923076923\n",
            "Epoch: 610 | Loss: 0.03171541169285774 | Acc: 98.26086956521739 | Test Loss: 0.2901388108730316 | Test Acc: 94.23076923076923\n",
            "Epoch: 620 | Loss: 0.031460054218769073 | Acc: 98.47826086956522 | Test Loss: 0.2927962839603424 | Test Acc: 94.23076923076923\n",
            "Epoch: 630 | Loss: 0.031227141618728638 | Acc: 98.47826086956522 | Test Loss: 0.29474925994873047 | Test Acc: 94.23076923076923\n",
            "Epoch: 640 | Loss: 0.03100578486919403 | Acc: 98.47826086956522 | Test Loss: 0.29678282141685486 | Test Acc: 94.23076923076923\n",
            "Epoch: 650 | Loss: 0.03074728325009346 | Acc: 98.47826086956522 | Test Loss: 0.2987450361251831 | Test Acc: 94.23076923076923\n",
            "Epoch: 660 | Loss: 0.0305161215364933 | Acc: 98.47826086956522 | Test Loss: 0.300651878118515 | Test Acc: 94.23076923076923\n",
            "Epoch: 670 | Loss: 0.030330395326018333 | Acc: 98.47826086956522 | Test Loss: 0.30259543657302856 | Test Acc: 94.23076923076923\n",
            "Epoch: 680 | Loss: 0.03009605035185814 | Acc: 98.47826086956522 | Test Loss: 0.3041350841522217 | Test Acc: 94.23076923076923\n",
            "Epoch: 690 | Loss: 0.02989344112575054 | Acc: 98.47826086956522 | Test Loss: 0.3058645725250244 | Test Acc: 94.23076923076923\n",
            "Epoch: 700 | Loss: 0.029666265472769737 | Acc: 98.47826086956522 | Test Loss: 0.3075297176837921 | Test Acc: 94.23076923076923\n",
            "Epoch: 710 | Loss: 0.029442885890603065 | Acc: 98.47826086956522 | Test Loss: 0.30919307470321655 | Test Acc: 94.23076923076923\n",
            "Epoch: 720 | Loss: 0.029228217899799347 | Acc: 98.47826086956522 | Test Loss: 0.3108785152435303 | Test Acc: 94.23076923076923\n",
            "Epoch: 730 | Loss: 0.029033545404672623 | Acc: 98.47826086956522 | Test Loss: 0.3130093812942505 | Test Acc: 94.23076923076923\n",
            "Epoch: 740 | Loss: 0.028834359720349312 | Acc: 98.47826086956522 | Test Loss: 0.31403517723083496 | Test Acc: 94.23076923076923\n",
            "Epoch: 750 | Loss: 0.028615029528737068 | Acc: 98.47826086956522 | Test Loss: 0.315847247838974 | Test Acc: 94.23076923076923\n",
            "Epoch: 760 | Loss: 0.02845746837556362 | Acc: 98.47826086956522 | Test Loss: 0.3173522651195526 | Test Acc: 94.23076923076923\n",
            "Epoch: 770 | Loss: 0.028211524710059166 | Acc: 98.47826086956522 | Test Loss: 0.3189575970172882 | Test Acc: 94.23076923076923\n",
            "Epoch: 780 | Loss: 0.028002919629216194 | Acc: 98.69565217391305 | Test Loss: 0.32078930735588074 | Test Acc: 94.23076923076923\n",
            "Epoch: 790 | Loss: 0.027801023796200752 | Acc: 98.47826086956522 | Test Loss: 0.3226032853126526 | Test Acc: 94.23076923076923\n",
            "Epoch: 800 | Loss: 0.027637233957648277 | Acc: 98.47826086956522 | Test Loss: 0.3239528238773346 | Test Acc: 94.23076923076923\n",
            "Epoch: 810 | Loss: 0.027410220354795456 | Acc: 98.69565217391305 | Test Loss: 0.32553741335868835 | Test Acc: 94.23076923076923\n",
            "Epoch: 820 | Loss: 0.027225926518440247 | Acc: 98.69565217391305 | Test Loss: 0.3267580270767212 | Test Acc: 94.23076923076923\n",
            "Epoch: 830 | Loss: 0.027040937915444374 | Acc: 98.69565217391305 | Test Loss: 0.3287263810634613 | Test Acc: 94.23076923076923\n",
            "Epoch: 840 | Loss: 0.02682453952729702 | Acc: 98.69565217391305 | Test Loss: 0.330498069524765 | Test Acc: 94.23076923076923\n",
            "Epoch: 850 | Loss: 0.02664373442530632 | Acc: 98.69565217391305 | Test Loss: 0.33151403069496155 | Test Acc: 94.23076923076923\n",
            "Epoch: 860 | Loss: 0.026466025039553642 | Acc: 98.69565217391305 | Test Loss: 0.33431005477905273 | Test Acc: 96.15384615384616\n",
            "Epoch: 870 | Loss: 0.02631445601582527 | Acc: 98.91304347826086 | Test Loss: 0.335953950881958 | Test Acc: 96.15384615384616\n",
            "Epoch: 880 | Loss: 0.026095205917954445 | Acc: 98.69565217391305 | Test Loss: 0.3385719358921051 | Test Acc: 94.23076923076923\n",
            "Epoch: 890 | Loss: 0.0258803591132164 | Acc: 98.91304347826086 | Test Loss: 0.3390008211135864 | Test Acc: 94.23076923076923\n",
            "Epoch: 900 | Loss: 0.02567041665315628 | Acc: 98.91304347826086 | Test Loss: 0.34282827377319336 | Test Acc: 94.23076923076923\n",
            "Epoch: 910 | Loss: 0.025517214089632034 | Acc: 98.91304347826086 | Test Loss: 0.34272363781929016 | Test Acc: 94.23076923076923\n",
            "Epoch: 920 | Loss: 0.02538347616791725 | Acc: 98.91304347826086 | Test Loss: 0.34408584237098694 | Test Acc: 94.23076923076923\n",
            "Epoch: 930 | Loss: 0.025083430111408234 | Acc: 98.91304347826086 | Test Loss: 0.34621313214302063 | Test Acc: 94.23076923076923\n",
            "Epoch: 940 | Loss: 0.024965807795524597 | Acc: 98.91304347826086 | Test Loss: 0.34864071011543274 | Test Acc: 94.23076923076923\n",
            "Epoch: 950 | Loss: 0.02481534332036972 | Acc: 98.91304347826086 | Test Loss: 0.35474976897239685 | Test Acc: 94.23076923076923\n",
            "Epoch: 960 | Loss: 0.024585017934441566 | Acc: 98.91304347826086 | Test Loss: 0.3518492877483368 | Test Acc: 94.23076923076923\n",
            "Epoch: 970 | Loss: 0.02435923181474209 | Acc: 98.91304347826086 | Test Loss: 0.35442453622817993 | Test Acc: 94.23076923076923\n",
            "Epoch: 980 | Loss: 0.024401579052209854 | Acc: 98.91304347826086 | Test Loss: 0.36274605989456177 | Test Acc: 94.23076923076923\n",
            "Epoch: 990 | Loss: 0.02404734119772911 | Acc: 99.1304347826087 | Test Loss: 0.3597002923488617 | Test Acc: 94.23076923076923\n"
          ]
        }
      ]
    },
    {
      "cell_type": "code",
      "source": [
        "x_final_test = df_test.drop([\"diagnosis\"],1)\n",
        "y_final_test = df_test[\"diagnosis\"]"
      ],
      "metadata": {
        "id": "s7oQ4dH5Wpnk",
        "colab": {
          "base_uri": "https://localhost:8080/"
        },
        "outputId": "0f544fb5-9e33-403c-ae97-3fceefe255fa"
      },
      "execution_count": 265,
      "outputs": [
        {
          "output_type": "stream",
          "name": "stderr",
          "text": [
            "<ipython-input-265-ed6a3f8aa271>:1: FutureWarning: In a future version of pandas all arguments of DataFrame.drop except for the argument 'labels' will be keyword-only\n",
            "  x_final_test = df_test.drop([\"diagnosis\"],1)\n"
          ]
        }
      ]
    },
    {
      "cell_type": "code",
      "source": [
        "y_final_test.value_counts()"
      ],
      "metadata": {
        "colab": {
          "base_uri": "https://localhost:8080/"
        },
        "id": "rCcMD1f2dvlV",
        "outputId": "f79bfe82-4e9f-438d-bdcc-64d8336cbfa1"
      },
      "execution_count": 266,
      "outputs": [
        {
          "output_type": "execute_result",
          "data": {
            "text/plain": [
              "0.0    40\n",
              "1.0    17\n",
              "Name: diagnosis, dtype: int64"
            ]
          },
          "metadata": {},
          "execution_count": 266
        }
      ]
    },
    {
      "cell_type": "code",
      "source": [
        "x_final_test =torch.from_numpy(x_final_test.values).type(dtype=torch.float)\n",
        "y_final_test =torch.from_numpy(y_final_test.values).type(dtype=torch.float)"
      ],
      "metadata": {
        "id": "jOHjADZjbWLr"
      },
      "execution_count": 267,
      "outputs": []
    },
    {
      "cell_type": "code",
      "source": [
        "y_final_test.unique()"
      ],
      "metadata": {
        "colab": {
          "base_uri": "https://localhost:8080/"
        },
        "id": "TuZ-Pi9jdocD",
        "outputId": "94b2608f-8b5a-4447-c3a4-e301afcc2c8f"
      },
      "execution_count": 268,
      "outputs": [
        {
          "output_type": "execute_result",
          "data": {
            "text/plain": [
              "tensor([0., 1.])"
            ]
          },
          "metadata": {},
          "execution_count": 268
        }
      ]
    },
    {
      "cell_type": "code",
      "source": [
        "torch.manual_seed(42)\n",
        "\n",
        "#Set the number of epoch\n",
        "epochs=1\n",
        "\n",
        "x_final_test, y_final_test= x_final_test.to(device), y_final_test.to(device)\n",
        "\n",
        "#Building training and evaluation loop:\n",
        "for epoch in range(epochs):\n",
        "  #Testing\n",
        "  model_0.eval()\n",
        "  with torch.inference_mode():\n",
        "\n",
        "    ##Forward pass\n",
        "    test_final_logits=model_0(x_final_test).squeeze()\n",
        "    test_final_pred=torch.round(torch.sigmoid(test_final_logits))\n",
        "\n",
        "    ##Claculate Test Loos/ Accuracy\n",
        "    test_final_loss = loss_fn(test_final_logits, y_final_test) ##nn.BCEWithLogitsLoss expects raw logits as input\n",
        "    test_final_acc = accuracy_fn(y_true=y_final_test, y_pred=test_final_pred)\n",
        "\n",
        "  #Print th result\n",
        "  if epoch % 10 == 0:\n",
        "    print(f\"Epoch: {epoch} | Test loss: {test_final_loss:.5f}, Test acc: {test_final_acc:.2f}%\")\n",
        "    print(classification_report(y_final_test.to(\"cpu\"), test_final_pred.to(\"cpu\")))"
      ],
      "metadata": {
        "colab": {
          "base_uri": "https://localhost:8080/"
        },
        "id": "91Z0I2dLbYP-",
        "outputId": "8eac57e6-e772-41dd-fbf2-3e5e479c5c13"
      },
      "execution_count": 269,
      "outputs": [
        {
          "output_type": "stream",
          "name": "stdout",
          "text": [
            "Epoch: 0 | Test loss: 0.05846, Test acc: 96.49%\n",
            "              precision    recall  f1-score   support\n",
            "\n",
            "         0.0       0.95      1.00      0.98        40\n",
            "         1.0       1.00      0.88      0.94        17\n",
            "\n",
            "    accuracy                           0.96        57\n",
            "   macro avg       0.98      0.94      0.96        57\n",
            "weighted avg       0.97      0.96      0.96        57\n",
            "\n"
          ]
        }
      ]
    }
  ]
}
