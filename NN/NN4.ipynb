{
  "nbformat": 4,
  "nbformat_minor": 0,
  "metadata": {
    "colab": {
      "provenance": [],
      "toc_visible": true,
      "authorship_tag": "ABX9TyP9iosp+8/tikfg1ATdlU23",
      "include_colab_link": true
    },
    "kernelspec": {
      "name": "python3",
      "display_name": "Python 3"
    },
    "language_info": {
      "name": "python"
    },
    "gpuClass": "standard"
  },
  "cells": [
    {
      "cell_type": "markdown",
      "metadata": {
        "id": "view-in-github",
        "colab_type": "text"
      },
      "source": [
        "<a href=\"https://colab.research.google.com/github/SalehMehrabani/PyTorch-Deep-Learning/blob/main/NN4.ipynb\" target=\"_parent\"><img src=\"https://colab.research.google.com/assets/colab-badge.svg\" alt=\"Open In Colab\"/></a>"
      ]
    },
    {
      "cell_type": "markdown",
      "source": [
        "# PyTorch Workflow\n"
      ],
      "metadata": {
        "id": "ntHL27-458Xh"
      }
    },
    {
      "cell_type": "code",
      "execution_count": null,
      "metadata": {
        "id": "KU1PPzYRsKws"
      },
      "outputs": [],
      "source": [
        "import torch \n",
        "from torch import nn\n",
        "import matplotlib.pyplot as plt"
      ]
    },
    {
      "cell_type": "code",
      "source": [
        "device= \"cuda\" if torch.cuda.is_available() else \"cpu\"\n",
        "device"
      ],
      "metadata": {
        "colab": {
          "base_uri": "https://localhost:8080/",
          "height": 36
        },
        "id": "faTf7b236zto",
        "outputId": "85fa8d22-d8fc-420d-b53a-6bf5316da48e"
      },
      "execution_count": null,
      "outputs": [
        {
          "output_type": "execute_result",
          "data": {
            "text/plain": [
              "'cpu'"
            ],
            "application/vnd.google.colaboratory.intrinsic+json": {
              "type": "string"
            }
          },
          "metadata": {},
          "execution_count": 90
        }
      ]
    },
    {
      "cell_type": "markdown",
      "source": [
        "## Data: Preparing and Loading\n"
      ],
      "metadata": {
        "id": "BZiDd67W7eb1"
      }
    },
    {
      "cell_type": "code",
      "source": [
        "#Create Known parameter\n",
        "weight = 0.7\n",
        "bias = 0.3\n",
        "\n",
        "#Create  dataset\n",
        "start=0\n",
        "end=1\n",
        "step= 0.02\n",
        "\n",
        "X = torch.arange(start, end, step).unsqueeze(dim=1)\n",
        "y = weight * X + bias"
      ],
      "metadata": {
        "id": "vWWV6qzw7X9W"
      },
      "execution_count": null,
      "outputs": []
    },
    {
      "cell_type": "markdown",
      "source": [
        "### Splitting Data into Training (Training and Validation set) and Test sets"
      ],
      "metadata": {
        "id": "XE_xchVn9mT5"
      }
    },
    {
      "cell_type": "code",
      "source": [
        "from sklearn.model_selection import train_test_split"
      ],
      "metadata": {
        "id": "ML1D1py781jm"
      },
      "execution_count": null,
      "outputs": []
    },
    {
      "cell_type": "code",
      "source": [
        "X_train, X_test, y_train, y_test = train_test_split(\n",
        "    X, y, test_size=0.2, random_state=42)"
      ],
      "metadata": {
        "id": "YwGr67Rh-vvV"
      },
      "execution_count": null,
      "outputs": []
    },
    {
      "cell_type": "code",
      "source": [
        "def plot_predictions(train_data=X_train, \n",
        "                     train_labels=y_train, \n",
        "                     test_data=X_test, \n",
        "                     test_labels=y_test, \n",
        "                     predictions=None):\n",
        "  \"\"\"\n",
        "  Plots training data, test data and compares predictions.\n",
        "  \"\"\"\n",
        "  plt.figure(figsize=(10, 7))\n",
        "\n",
        "  # Plot training data in blue\n",
        "  plt.scatter(train_data, train_labels, c=\"b\", s=4, label=\"Training data\")\n",
        "  \n",
        "  # Plot test data in green\n",
        "  plt.scatter(test_data, test_labels, c=\"g\", s=4, label=\"Testing data\")\n",
        "\n",
        "  if predictions is not None:\n",
        "    # Plot the predictions in red (predictions were made on the test data)\n",
        "    plt.scatter(test_data, predictions, c=\"r\", s=4, label=\"Predictions\")\n",
        "\n",
        "  # Show the legend\n",
        "  plt.legend(prop={\"size\": 14});"
      ],
      "metadata": {
        "id": "jUO3Ob2g-30m"
      },
      "execution_count": null,
      "outputs": []
    },
    {
      "cell_type": "code",
      "source": [
        "plot_predictions()"
      ],
      "metadata": {
        "id": "ySDJoVwYD1iF",
        "colab": {
          "base_uri": "https://localhost:8080/",
          "height": 428
        },
        "outputId": "39f21c28-364e-46e0-ee99-73702261a495"
      },
      "execution_count": null,
      "outputs": [
        {
          "output_type": "display_data",
          "data": {
            "text/plain": [
              "<Figure size 720x504 with 1 Axes>"
            ],
            "image/png": "[encoded data removed]"
          },
          "metadata": {
            "needs_background": "light"
          }
        }
      ]
    },
    {
      "cell_type": "markdown",
      "source": [
        "## Building PyTorch Model"
      ],
      "metadata": {
        "id": "CiEx_D0jEW5c"
      }
    },
    {
      "cell_type": "code",
      "source": [
        "#Create Linear Regression Model Class\n",
        "#Almost Everything in PyTorch inherent from nn.Module\n",
        "class LinearRegressionModel(nn.Module):\n",
        "  def __init__(self):\n",
        "    super().__init__()\n",
        "    self.weigths= nn.Parameter(torch.randn(1,\n",
        "                                           dtype=torch.float),\n",
        "                                           requires_grad=True)\n",
        "    self.bias=nn.Parameter(torch.randn(1,\n",
        "                                      dtype=torch.float),\n",
        "                                      requires_grad=True)\n",
        "    \n",
        "    #FORWARD METHOD TO DEFINE THE COMPUTATIONAL IN THE MODULE\n",
        "  def forward(self, x:torch.Tensor) -> torch.Tensor:\n",
        "    return self.weigths * x + self.bias"
      ],
      "metadata": {
        "id": "mNjYm1B_D39E"
      },
      "execution_count": null,
      "outputs": []
    },
    {
      "cell_type": "markdown",
      "source": [
        "### PyTorch model building Essential\n",
        "\n",
        "* `torch.nn` - contain all of the building for computational neural networks\n",
        "* `torch.nn.Parameter` - what parameter should our model try and learn, often PyTorch layer from torch.nn will set these for us\n",
        "* `torch.nn.Module` - The base class for all neural network modules, if you subclass it, You should overwrite `forward()`\n",
        "* `torch.optim` - this where the optimizer in PyTorch live, they will help with gradient descent\n",
        "* `def forward()` - All nn.Module subclasses require you to overwrite `forward()`, this method defines what happen in forward computation. "
      ],
      "metadata": {
        "id": "v8aOHhsjgDV8"
      }
    },
    {
      "cell_type": "code",
      "source": [
        "# Checking the contents of our PyTorch model - .parameters()\n",
        "\n",
        "#Create a random seed\n",
        "torch.manual_seed(42)\n",
        "\n",
        "#Create an instance of the model\n",
        "myFirstModel= LinearRegressionModel()\n",
        "\n",
        "#Check out our modle Parameter\n",
        "list(myFirstModel.parameters())"
      ],
      "metadata": {
        "colab": {
          "base_uri": "https://localhost:8080/"
        },
        "id": "Tba4x0ktg5rT",
        "outputId": "a2c89007-77cb-4ddb-c184-168a19d9ab3d"
      },
      "execution_count": null,
      "outputs": [
        {
          "output_type": "execute_result",
          "data": {
            "text/plain": [
              "[Parameter containing:\n",
              " tensor([0.3367], requires_grad=True), Parameter containing:\n",
              " tensor([0.1288], requires_grad=True)]"
            ]
          },
          "metadata": {},
          "execution_count": 97
        }
      ]
    },
    {
      "cell_type": "code",
      "source": [
        "# List named parameter\n",
        "myFirstModel.state_dict()"
      ],
      "metadata": {
        "colab": {
          "base_uri": "https://localhost:8080/"
        },
        "id": "ZPNSqO16i3ZV",
        "outputId": "f8102061-0e1c-495e-a503-86b8a5b9d23b"
      },
      "execution_count": null,
      "outputs": [
        {
          "output_type": "execute_result",
          "data": {
            "text/plain": [
              "OrderedDict([('weigths', tensor([0.3367])), ('bias', tensor([0.1288]))])"
            ]
          },
          "metadata": {},
          "execution_count": 98
        }
      ]
    },
    {
      "cell_type": "markdown",
      "source": [
        "### Making Prediction using `torch.inference_mode()`\n",
        "When we pass data through our model, it's going to run it through the `forward()` method"
      ],
      "metadata": {
        "id": "-pqeUYHXk_6z"
      }
    },
    {
      "cell_type": "code",
      "source": [
        "#The torch.inference_mode does- is to turn off the keep tracking of the gradient\n",
        "#It is make your code faster\n",
        "with torch.inference_mode():\n",
        "  y_preds=myFirstModel(X_test)\n",
        "\n",
        "y_preds\n",
        "\n",
        "#OR - inference node is preferred\n",
        "#with torch.no_grad():\n",
        "  #y_preds=myFirstModel(X_test)"
      ],
      "metadata": {
        "colab": {
          "base_uri": "https://localhost:8080/"
        },
        "id": "y9zR4beakZK2",
        "outputId": "91788252-2871-4d52-eca9-47e72d604fb4"
      },
      "execution_count": null,
      "outputs": [
        {
          "output_type": "execute_result",
          "data": {
            "text/plain": [
              "tensor([[0.4983],\n",
              "        [0.8281],\n",
              "        [0.7140],\n",
              "        [0.9043],\n",
              "        [0.5490],\n",
              "        [0.9423],\n",
              "        [0.6632],\n",
              "        [0.6505],\n",
              "        [0.7393],\n",
              "        [0.5744]])"
            ]
          },
          "metadata": {},
          "execution_count": 104
        }
      ]
    },
    {
      "cell_type": "code",
      "source": [
        "plot_predictions(predictions=y_preds)"
      ],
      "metadata": {
        "colab": {
          "base_uri": "https://localhost:8080/",
          "height": 428
        },
        "id": "3XLtLn6iluFD",
        "outputId": "575f44f4-0b77-4337-aff6-59b4cc6b2581"
      },
      "execution_count": null,
      "outputs": [
        {
          "output_type": "display_data",
          "data": {
            "text/plain": [
              "<Figure size 720x504 with 1 Axes>"
            ],
            "image/png": "[encoded data removed]"
          },
          "metadata": {
            "needs_background": "light"
          }
        }
      ]
    },
    {
      "cell_type": "markdown",
      "source": [
        "## Train model\n",
        "\n",
        "The main goal for training a model is to optimized the parameter in which can predicit new data with the least loss \n",
        "\n",
        "* **Cost (Loss) function**\n",
        "One way to measure your model performance is, use loss function, which measure the distance between the real data label and predicted data label with hypothesis function line --> You can use built in PyTorch [Loss Function](https://pytorch.org/docs/stable/nn.html#loss-functions)\n",
        "\n",
        "* **Optimizer:**\n",
        "Takes into account the loss of a model and adjusts the model's parameters (e,g: weight & bias)\n"
      ],
      "metadata": {
        "id": "DMG937W_qRWG"
      }
    },
    {
      "cell_type": "code",
      "source": [
        "#Setup the loss function\n",
        "loss_fn=nn.L1Loss()\n",
        "\n",
        "#Setup an Optimizer (Stochastic Gradient Descent) #lr=learning rate\n",
        "optimizer= torch.optim.SGD(params=myFirstModel.parameters(),\n",
        "                           lr=0.01)"
      ],
      "metadata": {
        "id": "wdJxzdYAme2s"
      },
      "execution_count": null,
      "outputs": []
    },
    {
      "cell_type": "markdown",
      "source": [
        "### Building a TrainingLoop/TestingLoop in PyTorch\n",
        "\n",
        "Train Loop Necessity:\n",
        "0. Loop through the data\n",
        "1. Forward pass (this involves data moving through our model's `forward()` functions) to make predicition on data - **Forward Propagation**\n",
        "2. Calculate the loss (compare the prediction with true labeled)\n",
        "3. Optimizer zero grad\n",
        "4. Loss backward - **Back Propagation**\n",
        "5. Optimizer step - use the optimizer to adjust our model's parameters to try and impore our loss value."
      ],
      "metadata": {
        "id": "pJ3Nmnwll-Cu"
      }
    },
    {
      "cell_type": "code",
      "source": [
        "torch.manual_seed(42)\n",
        "\n",
        "# An Epoch is one loop through the data - hyperparameter\n",
        "epochs=100\n",
        "\n",
        "#Tracking different values\n",
        "train_loss_values = []\n",
        "test_loss_values = []\n",
        "epoch_count = []\n",
        "\n",
        "#Training loop\n",
        "for epoch in range(epochs):\n",
        "  # Make sure gradient tracking is on, and do a pass over the data\n",
        "  myFirstModel.train() \n",
        "\n",
        "  # Forward Pass\n",
        "  y_pred= myFirstModel(X_train)\n",
        "\n",
        "  # Calculate the loss\n",
        "  loss=loss_fn(y_pred, y_train)\n",
        "  \n",
        "  # Optimizer zero grad\n",
        "  optimizer.zero_grad()\n",
        "\n",
        "  # Perform  Back Propagation\n",
        "  loss.backward()\n",
        "\n",
        "  # Step the Optimizer\n",
        "  # By default how the optimizer changes will acculumate through the loop so ...\n",
        "  optimizer.step()\n",
        "\n",
        "#Testing Loop\n",
        "  #Turns off different settings in the model not needed for evaluation/test\n",
        "  myFirstModel.eval()\n",
        "  #trun off gradient tracking \n",
        "  with torch.inference_mode():\n",
        "    #Forward pass\n",
        "    test_pred=myFirstModel(X_test)\n",
        "\n",
        "    #Calaculate the test loss\n",
        "    test_loss=loss_fn(test_pred, y_test)\n",
        "\n",
        "    if epoch % 10 == 0:\n",
        "            epoch_count.append(epoch)\n",
        "            train_loss_values.append(loss.detach().numpy())\n",
        "            test_loss_values.append(test_loss.detach().numpy())\n",
        "            print(f\"Epoch: {epoch} | MAE Train Loss: {loss} | MAE Test Loss: {test_loss} \")\n",
        "\n",
        "  "
      ],
      "metadata": {
        "id": "9wmabX24hny9",
        "colab": {
          "base_uri": "https://localhost:8080/"
        },
        "outputId": "4eb0730a-ad76-409b-e59e-7901436ed5f9"
      },
      "execution_count": null,
      "outputs": [
        {
          "output_type": "stream",
          "name": "stdout",
          "text": [
            "Epoch: 0 | MAE Train Loss: 0.340311199426651 | MAE Test Loss: 0.3720795214176178 \n",
            "Epoch: 10 | MAE Train Loss: 0.21864214539527893 | MAE Test Loss: 0.24470801651477814 \n",
            "Epoch: 20 | MAE Train Loss: 0.10375527292490005 | MAE Test Loss: 0.12293665111064911 \n",
            "Epoch: 30 | MAE Train Loss: 0.06399796903133392 | MAE Test Loss: 0.06073009967803955 \n",
            "Epoch: 40 | MAE Train Loss: 0.05161098390817642 | MAE Test Loss: 0.04132990166544914 \n",
            "Epoch: 50 | MAE Train Loss: 0.04540504142642021 | MAE Test Loss: 0.03398849442601204 \n",
            "Epoch: 60 | MAE Train Loss: 0.03980403393507004 | MAE Test Loss: 0.029580067843198776 \n",
            "Epoch: 70 | MAE Train Loss: 0.034203048795461655 | MAE Test Loss: 0.02517164871096611 \n",
            "Epoch: 80 | MAE Train Loss: 0.028602052479982376 | MAE Test Loss: 0.020763223990797997 \n",
            "Epoch: 90 | MAE Train Loss: 0.02300105430185795 | MAE Test Loss: 0.016354799270629883 \n"
          ]
        }
      ]
    },
    {
      "cell_type": "code",
      "source": [
        "# Plot the loss curves\n",
        "plt.plot(epoch_count, train_loss_values, label=\"Train loss\")\n",
        "plt.plot(epoch_count, test_loss_values, label=\"Test loss\")\n",
        "plt.title(\"Training and test loss curves\")\n",
        "plt.ylabel(\"Epochs\")\n",
        "plt.legend()"
      ],
      "metadata": {
        "id": "Ks5yGAYsvR69",
        "colab": {
          "base_uri": "https://localhost:8080/",
          "height": 299
        },
        "outputId": "5c037515-19ba-4256-cf57-79d5b5e76e5d"
      },
      "execution_count": null,
      "outputs": [
        {
          "output_type": "execute_result",
          "data": {
            "text/plain": [
              "<matplotlib.legend.Legend at 0x7f2cbda7b5b0>"
            ]
          },
          "metadata": {},
          "execution_count": 107
        },
        {
          "output_type": "display_data",
          "data": {
            "text/plain": [
              "<Figure size 432x288 with 1 Axes>"
            ],
            "image/png": "[encoded data removed]"
          },
          "metadata": {
            "needs_background": "light"
          }
        }
      ]
    },
    {
      "cell_type": "markdown",
      "source": [
        "##Saving a model in PyTorch\n",
        "\n",
        "There are 3 main method you should know about for saving and loading a model in pytorch:\n",
        "1. `torch.save()` - allows you to save a PyTorch object in Python's pickle format. \n",
        "2. `torch.load()` - allows you to load a saved PyTorch object.\n",
        "3. `torch.nn.Module.load_state_dict()` - this allows to load a model's saved state dictionary"
      ],
      "metadata": {
        "id": "EKMvhKE1pRtA"
      }
    },
    {
      "cell_type": "code",
      "source": [
        "#Saving a PyTorch Model\n",
        "from pathlib import Path\n",
        "\n",
        "#Create module directory\n",
        "MODEL_PATH= Path(\"models\")\n",
        "MODEL_PATH.mkdir(parents=True, exist_ok=True)\n",
        "\n",
        "#Create Model Save Path\n",
        "MODEL_NAME= \"My_First_MODEL_LINEAR_REGRESSION.pth\"\n",
        "MODEL_SAVE_PATH= MODEL_PATH / MODEL_NAME\n",
        "MODEL_SAVE_PATH\n",
        "\n",
        "#Save Model State Dictionary\n",
        "print(f\"Saving madel to:  {MODEL_SAVE_PATH}\")\n",
        "torch.save(obj=myFirstModel.state_dict(),\n",
        "           f=MODEL_SAVE_PATH)"
      ],
      "metadata": {
        "colab": {
          "base_uri": "https://localhost:8080/"
        },
        "id": "OizfPuQwl_Yp",
        "outputId": "1ca33215-c834-478a-a69f-3dd4e7e72e07"
      },
      "execution_count": 111,
      "outputs": [
        {
          "output_type": "stream",
          "name": "stdout",
          "text": [
            "Saving madel to:  models/My_First_MODEL_LINEAR_REGRESSION.pth\n"
          ]
        }
      ]
    },
    {
      "cell_type": "markdown",
      "source": [
        "## Loading a PyTorch Model\n",
        "Since we saved out model `sata_dict()` rather than the entire model, we'll create a new instance of our model class and load the saved `state_dict()` into that.\n"
      ],
      "metadata": {
        "id": "-O9kFv9-uQJK"
      }
    },
    {
      "cell_type": "code",
      "source": [
        "#Loading a PyTorch Model\n",
        "\n",
        "#Create New instance of our model\n",
        "LoadedModel= LinearRegressionModel()\n",
        "print(f'Before loading: {LoadedModel.state_dict()}')\n",
        "#Load and save the state_dict() values\n",
        "LoadedModel.load_state_dict(torch.load(f=MODEL_SAVE_PATH))\n",
        "print(f'After loading: {LoadedModel.state_dict()}')"
      ],
      "metadata": {
        "id": "adTaz5Tdr4C1",
        "colab": {
          "base_uri": "https://localhost:8080/"
        },
        "outputId": "375622da-c102-4abd-fa22-35d496904b77"
      },
      "execution_count": 112,
      "outputs": [
        {
          "output_type": "stream",
          "name": "stdout",
          "text": [
            "Before loading: OrderedDict([('weigths', tensor([0.3367])), ('bias', tensor([0.1288]))])\n",
            "After loading: OrderedDict([('weigths', tensor([0.6344])), ('bias', tensor([0.3333]))])\n"
          ]
        }
      ]
    },
    {
      "cell_type": "code",
      "source": [],
      "metadata": {
        "id": "ktohTsUnvec5"
      },
      "execution_count": null,
      "outputs": []
    }
  ]
}
