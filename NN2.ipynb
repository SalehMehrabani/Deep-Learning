{
  "nbformat": 4,
  "nbformat_minor": 0,
  "metadata": {
    "colab": {
      "provenance": [],
      "collapsed_sections": [
        "AIEszcxXnBss"
      ],
      "toc_visible": true,
      "authorship_tag": "ABX9TyN4wRpPXfTkNyeR9r7xBbBs",
      "include_colab_link": true
    },
    "kernelspec": {
      "name": "python3",
      "display_name": "Python 3"
    },
    "language_info": {
      "name": "python"
    },
    "gpuClass": "standard"
  },
  "cells": [
    {
      "cell_type": "markdown",
      "metadata": {
        "id": "view-in-github",
        "colab_type": "text"
      },
      "source": [
        "<a href=\"https://colab.research.google.com/github/SalehMehrabani/Artifical-Intelligance/blob/main/NN2.ipynb\" target=\"_parent\"><img src=\"https://colab.research.google.com/assets/colab-badge.svg\" alt=\"Open In Colab\"/></a>"
      ]
    },
    {
      "cell_type": "markdown",
      "source": [
        "Creating Simple Neural Network Using [Water Quality Dataset](https://www.kaggle.com/datasets/adityakadiwal/water-potability)\n"
      ],
      "metadata": {
        "id": "VrO39lz4fNAa"
      }
    },
    {
      "cell_type": "markdown",
      "source": [
        "# Data Preprocessing\n"
      ],
      "metadata": {
        "id": "AIEszcxXnBss"
      }
    },
    {
      "cell_type": "markdown",
      "source": [
        "Preprocess Dataset:\n",
        "\n",
        "\n",
        "*   Filling NaN value with the Mean of Each Features\n",
        "*   Removing Outliers\n",
        "\n"
      ],
      "metadata": {
        "id": "Il51QOGkUsqA"
      }
    },
    {
      "cell_type": "code",
      "source": [
        "import pandas as pd\n",
        "import numpy as np\n",
        "import matplotlib.pyplot as plt"
      ],
      "metadata": {
        "id": "aDy1EqJpnGSf"
      },
      "execution_count": null,
      "outputs": []
    },
    {
      "cell_type": "code",
      "source": [
        "!pip install -U pandas-profiling"
      ],
      "metadata": {
        "id": "7VLkLdh9N61T"
      },
      "execution_count": null,
      "outputs": []
    },
    {
      "cell_type": "code",
      "source": [
        "df=pd.read_csv(\"water_potability.csv\")"
      ],
      "metadata": {
        "id": "MluxE4Htn6LE"
      },
      "execution_count": null,
      "outputs": []
    },
    {
      "cell_type": "code",
      "source": [
        "df"
      ],
      "metadata": {
        "id": "kozv2KOdP5ZH"
      },
      "execution_count": null,
      "outputs": []
    },
    {
      "cell_type": "code",
      "source": [
        "df.isna().sum()"
      ],
      "metadata": {
        "colab": {
          "base_uri": "https://localhost:8080/"
        },
        "id": "s1nSXAY5OKX6",
        "outputId": "53f78a61-b8b9-495d-fe1f-e8ec6d2429be"
      },
      "execution_count": null,
      "outputs": [
        {
          "output_type": "execute_result",
          "data": {
            "text/plain": [
              "ph                 491\n",
              "Hardness             0\n",
              "Solids               0\n",
              "Chloramines          0\n",
              "Sulfate            781\n",
              "Conductivity         0\n",
              "Organic_carbon       0\n",
              "Trihalomethanes    162\n",
              "Turbidity            0\n",
              "Potability           0\n",
              "dtype: int64"
            ]
          },
          "metadata": {},
          "execution_count": 40
        }
      ]
    },
    {
      "cell_type": "code",
      "source": [
        "NaColumns=[\"ph\", \"Sulfate\", \"Trihalomethanes\"]"
      ],
      "metadata": {
        "id": "oVT5cYcyP_kc"
      },
      "execution_count": null,
      "outputs": []
    },
    {
      "cell_type": "code",
      "source": [
        "from pandas_profiling import ProfileReport"
      ],
      "metadata": {
        "id": "jNxC2lF_ORhX"
      },
      "execution_count": null,
      "outputs": []
    },
    {
      "cell_type": "code",
      "source": [
        "profile = ProfileReport(df, title=\"Report\")\n",
        "profile"
      ],
      "metadata": {
        "id": "-UAFDs5_OWxW"
      },
      "execution_count": null,
      "outputs": []
    },
    {
      "cell_type": "code",
      "source": [
        "from sklearn.impute import SimpleImputer"
      ],
      "metadata": {
        "id": "INsLkpAeQ4xq"
      },
      "execution_count": null,
      "outputs": []
    },
    {
      "cell_type": "code",
      "source": [
        "imputer = SimpleImputer(missing_values=np.nan, strategy='mean')\n",
        "df[NaColumns] = imputer.fit_transform(df[NaColumns].values)"
      ],
      "metadata": {
        "id": "itgJ7fqARNPb"
      },
      "execution_count": null,
      "outputs": []
    },
    {
      "cell_type": "code",
      "source": [
        "df.isna().sum()"
      ],
      "metadata": {
        "colab": {
          "base_uri": "https://localhost:8080/"
        },
        "id": "aS8kclVGR_d-",
        "outputId": "a7f15d47-539d-46de-a7fa-dd8488055bea"
      },
      "execution_count": null,
      "outputs": [
        {
          "output_type": "execute_result",
          "data": {
            "text/plain": [
              "ph                 0\n",
              "Hardness           0\n",
              "Solids             0\n",
              "Chloramines        0\n",
              "Sulfate            0\n",
              "Conductivity       0\n",
              "Organic_carbon     0\n",
              "Trihalomethanes    0\n",
              "Turbidity          0\n",
              "Potability         0\n",
              "dtype: int64"
            ]
          },
          "metadata": {},
          "execution_count": 43
        }
      ]
    },
    {
      "cell_type": "code",
      "source": [
        "import seaborn as sns"
      ],
      "metadata": {
        "id": "ZYKLOqMAUJl7"
      },
      "execution_count": null,
      "outputs": []
    },
    {
      "cell_type": "code",
      "source": [
        "sns.pairplot(df, hue='Potability')"
      ],
      "metadata": {
        "id": "njFfzH5iT00k"
      },
      "execution_count": null,
      "outputs": []
    },
    {
      "cell_type": "code",
      "source": [
        "def drop_outliers(df, field_names):\n",
        "  for field in field_names:\n",
        "    iqr=1.5*(np.percentile(df[field], 75))- np.percentile(df[field], 25)\n",
        "    df.drop(df[df[field]>(iqr + np.percentile(df[field],75))].index, inplace=True)\n",
        "    df.drop(df[df[field]<(np.percentile(df[field],25)-iqr)].index, inplace=True)"
      ],
      "metadata": {
        "id": "Riqkrk2gVkEY"
      },
      "execution_count": null,
      "outputs": []
    },
    {
      "cell_type": "code",
      "source": [
        "df.columns"
      ],
      "metadata": {
        "colab": {
          "base_uri": "https://localhost:8080/"
        },
        "id": "UlOQTbmHYqdw",
        "outputId": "4ec09544-720b-45a3-b251-c20409da3678"
      },
      "execution_count": null,
      "outputs": [
        {
          "output_type": "execute_result",
          "data": {
            "text/plain": [
              "Index(['ph', 'Hardness', 'Solids', 'Chloramines', 'Sulfate', 'Conductivity',\n",
              "       'Organic_carbon', 'Trihalomethanes', 'Turbidity', 'Potability'],\n",
              "      dtype='object')"
            ]
          },
          "metadata": {},
          "execution_count": 46
        }
      ]
    },
    {
      "cell_type": "code",
      "source": [
        "feature=[\"ph\",\"Hardness\",\"Solids\",\"Chloramines\",\"Sulfate\",\"Conductivity\",\"Organic_carbon\",\"Trihalomethanes\",\"Turbidity\"]\n",
        "feature"
      ],
      "metadata": {
        "colab": {
          "base_uri": "https://localhost:8080/"
        },
        "id": "mIuHLI3FYzFM",
        "outputId": "9ac43ebe-c4c6-4c3a-c0e9-8c37b03c55c8"
      },
      "execution_count": null,
      "outputs": [
        {
          "output_type": "execute_result",
          "data": {
            "text/plain": [
              "['ph',\n",
              " 'Hardness',\n",
              " 'Solids',\n",
              " 'Chloramines',\n",
              " 'Sulfate',\n",
              " 'Conductivity',\n",
              " 'Organic_carbon',\n",
              " 'Trihalomethanes',\n",
              " 'Turbidity']"
            ]
          },
          "metadata": {},
          "execution_count": 57
        }
      ]
    },
    {
      "cell_type": "code",
      "source": [
        "drop_outliers(df, feature)"
      ],
      "metadata": {
        "id": "cqCFMI-aZJkL"
      },
      "execution_count": null,
      "outputs": []
    },
    {
      "cell_type": "code",
      "source": [
        "df.describe()"
      ],
      "metadata": {
        "id": "Bet1soUgaSDX"
      },
      "execution_count": null,
      "outputs": []
    },
    {
      "cell_type": "markdown",
      "source": [
        "# Define Pytorch Data Set and Necessary functions"
      ],
      "metadata": {
        "id": "L-F-gTOqeNnQ"
      }
    },
    {
      "cell_type": "code",
      "source": [
        "import torch\n",
        "import torch.nn as nn\n",
        "from torch.utils.data import Dataset, DataLoader,  Subset"
      ],
      "metadata": {
        "id": "TEGWwxeHaUlv"
      },
      "execution_count": null,
      "outputs": []
    },
    {
      "cell_type": "code",
      "source": [
        "class WaterDataset(Dataset):\n",
        "  def __init__(self, df):\n",
        "    super(WaterDataset, self).__init__()\n",
        "    self.X = df.drop(['Potability'],1)\n",
        "    self.y = df['Potability']\n",
        "  def __len__(self):\n",
        "    return len(self.X)\n",
        "  def __getitem__(self, index):\n",
        "    features = self.X.iloc[index]\n",
        "    targets = self.y.iloc[index]\n",
        "    return torch.tensor(features, dtype=torch.float), torch.tensor(targets, dtype=torch.long)"
      ],
      "metadata": {
        "id": "g5lbxA5QakON"
      },
      "execution_count": null,
      "outputs": []
    },
    {
      "cell_type": "code",
      "source": [
        "from sklearn.model_selection import KFold, train_test_split\n",
        "df_train, df_test = train_test_split(df, test_size=0.1, shuffle=True)"
      ],
      "metadata": {
        "id": "jYgkk7dCc7y3"
      },
      "execution_count": null,
      "outputs": []
    },
    {
      "cell_type": "code",
      "source": [
        "def train_one_epoch(model, data_loader, criterion, optimizer):\n",
        "  batch_loss, batch_acc =[], []\n",
        "  model.train()\n",
        "  for features, targets in data_loader:\n",
        "    optimizer.zero_grad()\n",
        "    outputs = model(features)\n",
        "    loss = criterion(outputs, targets)\n",
        "    acc = (torch.argmax(outputs, -1)==targets).sum()/targets.shape[0]\n",
        "    batch_loss.append(loss.item())\n",
        "    batch_acc.append(acc.item())\n",
        "    loss.backward()\n",
        "    optimizer.step()\n",
        "  loss_avg = sum(batch_loss)/len(batch_loss)\n",
        "  acc_avg = sum(batch_acc) /len(batch_acc)\n",
        "  return loss_avg, acc_avg"
      ],
      "metadata": {
        "id": "rbTd13i8c-Mu"
      },
      "execution_count": null,
      "outputs": []
    },
    {
      "cell_type": "code",
      "source": [
        "def test_one_epoch(model, data_loader, criterion, optimizer):\n",
        "  batch_loss, batch_acc = [], []\n",
        "  model.eval()\n",
        "  for features, targets in data_loader:\n",
        "    with torch.no_grad():\n",
        "      outputs = model(features)\n",
        "      loss = criterion(outputs, targets)\n",
        "      acc = (torch.argmax(outputs, -1)==targets).sum()/targets.shape[0]\n",
        "      batch_loss.append(loss.item())\n",
        "      batch_acc.append(acc.item())\n",
        "  loss_avg = sum(batch_loss)/len(batch_loss)\n",
        "  acc_avg = sum(batch_acc) /len(batch_acc)\n",
        "  return loss_avg, acc_avg"
      ],
      "metadata": {
        "id": "5r6yqcksdlIl"
      },
      "execution_count": null,
      "outputs": []
    },
    {
      "cell_type": "code",
      "source": [
        "def train_net(fold_number, epochs, model, train_loader, val_loader, criterion, optimizer, verbose=True):\n",
        "  train_losses =[]\n",
        "  train_acus=[]\n",
        "  test_losses = []\n",
        "  test_acus=[]\n",
        "  if verbose:\n",
        "    print(\"********************\")\n",
        "    print('Fold:{}'.format(fold_number))\n",
        "  for epoch in range(epochs):\n",
        "    train_epoch_loss, train_epoch_acc = train_one_epoch(model, train_loader, criterion, optimizer)\n",
        "    test_epoch_loss, test_epoch_acc = test_one_epoch(model, val_loader, criterion, optimizer)\n",
        "    if verbose:\n",
        "      print(\"Epoch:{}\".format(epoch))\n",
        "      print(\"train_loss:{:.1f}, train_acc:{:.2f}\".format(train_epoch_loss, train_epoch_acc))\n",
        "      print(\"test_loss:{:.1f}, test_acc:{:.2f}\".format(test_epoch_loss, test_epoch_acc))\n",
        "    train_losses.append(train_epoch_loss)\n",
        "    test_losses.append(test_epoch_loss)\n",
        "    train_acus.append(train_epoch_acc)\n",
        "    test_acus.append(test_epoch_acc)\n",
        "  return train_losses, train_acus, test_losses, test_acus"
      ],
      "metadata": {
        "id": "IT5NxQvIdnES"
      },
      "execution_count": null,
      "outputs": []
    },
    {
      "cell_type": "code",
      "source": [
        "def plot_history(history):\n",
        "  train_loss = np.array(history['Train Loss'])\n",
        "  Val_loss = np.array(history['Val Loss'])\n",
        "  train_acc = np.array(history['Train Acc'])\n",
        "  Val_acc = np.array(history['Val Acc'])\n",
        "\n",
        "  avg_train_loss = train_loss.mean(0)\n",
        "  avg_Val_loss = Val_loss.mean(0)\n",
        "  avg_train_acc = train_acc.mean(0)\n",
        "  avg_Val_acc = Val_acc.mean(0)\n",
        "\n",
        "  x = range(1, len(avg_train_loss)+1)\n",
        "  plt.figure(figsize=(16, 8)) \n",
        "\n",
        "  plt.subplot(121)\n",
        "  plt.plot(x, avg_train_loss, 'r', label = 'Train')\n",
        "  plt.plot(x, avg_Val_loss, 'b', label = 'Validation')\n",
        "  plt.title(\"Learning Curve For Loss\")\n",
        "  plt.legend()\n",
        "\n",
        "  plt.subplot(122)\n",
        "  plt.plot(x, avg_train_acc, 'r', label = 'Train')\n",
        "  plt.plot(x, avg_Val_acc, 'b', label = 'Validation')\n",
        "  plt.title(\"Learning Curve For Accuracy\")\n",
        "  plt.legend()\n",
        "\n",
        "\n",
        "\n",
        "  plt.show()"
      ],
      "metadata": {
        "id": "Ovs5zq0ddr2e"
      },
      "execution_count": null,
      "outputs": []
    },
    {
      "cell_type": "code",
      "source": [
        "def weight_init(m):\n",
        "  if type(m) == nn.Linear:\n",
        "    nn.init.uniform_(m.weight)\n",
        "    nn.init.zeros_(m.bias)"
      ],
      "metadata": {
        "id": "gfe1PGJGdudJ"
      },
      "execution_count": null,
      "outputs": []
    },
    {
      "cell_type": "markdown",
      "source": [
        "# Creating Simple Neural Network\n"
      ],
      "metadata": {
        "id": "CcdE4obYehKy"
      }
    },
    {
      "cell_type": "code",
      "source": [
        "train_dataset = WaterDataset(df_train)\n",
        "test_dataset = WaterDataset(df_test)"
      ],
      "metadata": {
        "id": "ZLVE_rTDdxZ6"
      },
      "execution_count": null,
      "outputs": []
    }
  ]
}