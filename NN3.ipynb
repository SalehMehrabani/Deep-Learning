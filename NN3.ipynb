{
  "nbformat": 4,
  "nbformat_minor": 0,
  "metadata": {
    "colab": {
      "provenance": [],
      "authorship_tag": "ABX9TyO8AAWULLeO0n9v5mX1XrD2",
      "include_colab_link": true
    },
    "kernelspec": {
      "name": "python3",
      "display_name": "Python 3"
    },
    "language_info": {
      "name": "python"
    },
    "gpuClass": "standard"
  },
  "cells": [
    {
      "cell_type": "markdown",
      "metadata": {
        "id": "view-in-github",
        "colab_type": "text"
      },
      "source": [
        "<a href=\"https://colab.research.google.com/github/SalehMehrabani/Artifical-Intelligance/blob/main/NN3.ipynb\" target=\"_parent\"><img src=\"https://colab.research.google.com/assets/colab-badge.svg\" alt=\"Open In Colab\"/></a>"
      ]
    },
    {
      "cell_type": "code",
      "execution_count": null,
      "metadata": {
        "id": "Ls2gd6gWHTpI"
      },
      "outputs": [],
      "source": [
        "#Give you info about GPU running for your Run time -> Iy selected GPU as Core running\n",
        "!nvidia-smi"
      ]
    },
    {
      "cell_type": "code",
      "source": [
        "import torch \n",
        "import numpy as np\n",
        "import pandas as pd\n",
        "import matplotlib.pyplot as plt"
      ],
      "metadata": {
        "id": "_IkZRp2iH3Em"
      },
      "execution_count": 2,
      "outputs": []
    },
    {
      "cell_type": "code",
      "source": [
        "print(torch.__version__)"
      ],
      "metadata": {
        "colab": {
          "base_uri": "https://localhost:8080/"
        },
        "id": "RWqE0uwtIYyF",
        "outputId": "fcad0c1d-4eb6-4bde-fe6a-269a4bac6ab4"
      },
      "execution_count": null,
      "outputs": [
        {
          "output_type": "stream",
          "name": "stdout",
          "text": [
            "1.13.1+cu116\n"
          ]
        }
      ]
    },
    {
      "cell_type": "markdown",
      "source": [
        "# Tensor"
      ],
      "metadata": {
        "id": "HHxr3m7uJX93"
      }
    },
    {
      "cell_type": "code",
      "source": [
        "torch.range(start=0, \n",
        "            end=6, \n",
        "            dtype=torch.int16)"
      ],
      "metadata": {
        "colab": {
          "base_uri": "https://localhost:8080/"
        },
        "id": "CGQDIzTkPUj3",
        "outputId": "3c030d75-0b89-4276-8396-3f8d3720f467"
      },
      "execution_count": null,
      "outputs": [
        {
          "output_type": "stream",
          "name": "stderr",
          "text": [
            "<ipython-input-38-a8ad59b59680>:1: UserWarning: torch.range is deprecated and will be removed in a future release because its behavior is inconsistent with Python's range builtin. Instead, use torch.arange, which produces values in [start, end).\n",
            "  torch.range(start=0,\n"
          ]
        },
        {
          "output_type": "execute_result",
          "data": {
            "text/plain": [
              "tensor([0, 1, 2, 3, 4, 5, 6], dtype=torch.int16)"
            ]
          },
          "metadata": {},
          "execution_count": 38
        }
      ]
    },
    {
      "cell_type": "code",
      "source": [
        "z1=torch.arange(start=1,\n",
        "                end=10,\n",
        "                step=4)\n",
        "z1.dtype"
      ],
      "metadata": {
        "colab": {
          "base_uri": "https://localhost:8080/"
        },
        "id": "AUNFLdKPPhUf",
        "outputId": "d077bd29-567a-4336-a701-26d2474e9e36"
      },
      "execution_count": null,
      "outputs": [
        {
          "output_type": "execute_result",
          "data": {
            "text/plain": [
              "torch.int64"
            ]
          },
          "metadata": {},
          "execution_count": 42
        }
      ]
    },
    {
      "cell_type": "code",
      "source": [
        "torch.zeros_like(input=z1)"
      ],
      "metadata": {
        "colab": {
          "base_uri": "https://localhost:8080/"
        },
        "id": "hcgE1X5FPYOu",
        "outputId": "95e016c0-3ac5-41ac-8fa7-b651d5170860"
      },
      "execution_count": null,
      "outputs": [
        {
          "output_type": "execute_result",
          "data": {
            "text/plain": [
              "tensor([0, 0, 0])"
            ]
          },
          "metadata": {},
          "execution_count": 33
        }
      ]
    },
    {
      "cell_type": "markdown",
      "source": [
        "**Note:** Tensor datatype is one of the 3 big errors you will run into PyTorch & Deep Learning:\n",
        "1. Tensor Not Right DataType\n",
        "2. Tensor Not Right Shape\n",
        "3. Tensor Not on Right Device"
      ],
      "metadata": {
        "id": "DNIJQMx0RoYs"
      }
    },
    {
      "cell_type": "code",
      "source": [
        "z2=torch.tensor([3,4,5],\n",
        "                dtype=torch.int, #Type of data -> default= float32\n",
        "                device=\"cuda\", # Default= CPU\n",
        "                requires_grad=False #PyTorch Keeping track of changing in gradient value\n",
        "                )\n",
        "z2"
      ],
      "metadata": {
        "colab": {
          "base_uri": "https://localhost:8080/"
        },
        "id": "dTTRuURuQt0t",
        "outputId": "f11508ab-8e9c-4725-ddca-7e9d23f8c802"
      },
      "execution_count": null,
      "outputs": [
        {
          "output_type": "execute_result",
          "data": {
            "text/plain": [
              "tensor([3, 4, 5], dtype=torch.int32)"
            ]
          },
          "metadata": {},
          "execution_count": 41
        }
      ]
    },
    {
      "cell_type": "code",
      "source": [
        "#change data type of tensor\n",
        "z2=z2.type(torch.float16)\n",
        "z2"
      ],
      "metadata": {
        "colab": {
          "base_uri": "https://localhost:8080/"
        },
        "id": "plG5z9uLSYst",
        "outputId": "f9eeece3-f9e1-4532-91af-2a13a9279e9b"
      },
      "execution_count": null,
      "outputs": [
        {
          "output_type": "execute_result",
          "data": {
            "text/plain": [
              "tensor([[0.0792, 0.9966, 0.4690],\n",
              "        [0.5542, 0.3018, 0.2211],\n",
              "        [0.9136, 0.8901, 0.1002]], dtype=torch.float16)"
            ]
          },
          "metadata": {},
          "execution_count": 48
        }
      ]
    },
    {
      "cell_type": "markdown",
      "source": [
        "###Manipulating Tensors (Tensor operation)\n",
        "\n",
        "Tensor opertions include:\n",
        "* Addition\n",
        "* Subtraction \n",
        "* Multiplication(elemnt -wise)\n",
        "* Division\n",
        "* Matrix Multiplication (Dot Product) \n",
        "      The inner dimension must match \n",
        "      The resulting matrix has the shape of the outer dimension\n",
        "\n"
      ],
      "metadata": {
        "id": "czwyiwyeyP9Y"
      }
    },
    {
      "cell_type": "markdown",
      "source": [
        "One of the most common erero in Deep Learning is the Shape Error (Specially in Martix Multipliciation)"
      ],
      "metadata": {
        "id": "nsjMgfuV14vG"
      }
    },
    {
      "cell_type": "code",
      "source": [
        "tensor= torch.rand(1,3)\n",
        "print(tensor)"
      ],
      "metadata": {
        "colab": {
          "base_uri": "https://localhost:8080/"
        },
        "id": "4xnuPqP2yUm-",
        "outputId": "b5dcc2a7-8fd9-4d24-d468-2fc5b9504eff"
      },
      "execution_count": 4,
      "outputs": [
        {
          "output_type": "stream",
          "name": "stdout",
          "text": [
            "tensor([[0.3192, 0.3221, 0.6230]])\n"
          ]
        }
      ]
    },
    {
      "cell_type": "code",
      "source": [
        "tensor +10"
      ],
      "metadata": {
        "colab": {
          "base_uri": "https://localhost:8080/"
        },
        "id": "siAl8tk3yzd0",
        "outputId": "1b7838a4-4479-4b12-b4e7-c584d90e2088"
      },
      "execution_count": 5,
      "outputs": [
        {
          "output_type": "execute_result",
          "data": {
            "text/plain": [
              "tensor([[10.3192, 10.3221, 10.6230]])"
            ]
          },
          "metadata": {},
          "execution_count": 5
        }
      ]
    },
    {
      "cell_type": "code",
      "source": [
        "# Better to use PyTorch Operation\n",
        "torch.mul(tensor, 10)\n",
        "torch.add(tensor, 20)"
      ],
      "metadata": {
        "colab": {
          "base_uri": "https://localhost:8080/"
        },
        "id": "UZx7ihLozGqr",
        "outputId": "49d4bd4a-0f36-4e1f-9682-69360cba0974"
      },
      "execution_count": 11,
      "outputs": [
        {
          "output_type": "execute_result",
          "data": {
            "text/plain": [
              "tensor([[20.3192, 20.3221, 20.6230]])"
            ]
          },
          "metadata": {},
          "execution_count": 11
        }
      ]
    },
    {
      "cell_type": "code",
      "source": [
        "#Matrix Multiplication\n",
        "#Retrun The Time Complexity of the running block\n",
        "%%time\n",
        "tensor=torch.tensor([1,2,3])\n",
        "torch.matmul(tensor, tensor)\n",
        "# tensor @ tensor"
      ],
      "metadata": {
        "colab": {
          "base_uri": "https://localhost:8080/"
        },
        "id": "8LVAygEczWuO",
        "outputId": "0f02b5d5-fec7-4439-eb86-ac869b3fa51d"
      },
      "execution_count": 24,
      "outputs": [
        {
          "output_type": "stream",
          "name": "stdout",
          "text": [
            "CPU times: user 1.35 ms, sys: 0 ns, total: 1.35 ms\n",
            "Wall time: 1.23 ms\n"
          ]
        },
        {
          "output_type": "execute_result",
          "data": {
            "text/plain": [
              "tensor(14)"
            ]
          },
          "metadata": {},
          "execution_count": 24
        }
      ]
    },
    {
      "cell_type": "code",
      "source": [
        "%%time\n",
        "torch.matmul(tensor, tensor)"
      ],
      "metadata": {
        "colab": {
          "base_uri": "https://localhost:8080/"
        },
        "id": "1b49gZX80Njk",
        "outputId": "dbf92f49-b1e3-4dfd-d908-5bbb90a46a33"
      },
      "execution_count": 23,
      "outputs": [
        {
          "output_type": "stream",
          "name": "stdout",
          "text": [
            "CPU times: user 1.19 ms, sys: 21 µs, total: 1.21 ms\n",
            "Wall time: 2.01 ms\n"
          ]
        },
        {
          "output_type": "execute_result",
          "data": {
            "text/plain": [
              "tensor(14)"
            ]
          },
          "metadata": {},
          "execution_count": 23
        }
      ]
    },
    {
      "cell_type": "code",
      "source": [
        "#short vesion of the matrix maltiplication\n",
        "tensorA=torch.randint(1,100,(2,3))\n",
        "tensorB=torch.rand(3,2)\n",
        "# In matrix multipluication the Data Type of the two matrix must be the identical\n",
        "torch.mm(tensorA, tensorB)"
      ],
      "metadata": {
        "id": "BYWNgwpy2DGq"
      },
      "execution_count": null,
      "outputs": []
    },
    {
      "cell_type": "markdown",
      "source": [
        "###Transposing Tensor"
      ],
      "metadata": {
        "id": "d-8I5Qyl42It"
      }
    },
    {
      "cell_type": "code",
      "source": [
        "Tensor1=torch.rand(2,3)\n",
        "Tensor1, Tensor1.shape, Tensor1.T, Tensor1.T.shape"
      ],
      "metadata": {
        "colab": {
          "base_uri": "https://localhost:8080/"
        },
        "id": "tiLM2A6_3igY",
        "outputId": "7e7ed27e-c7eb-4fa6-ccfb-e3386599b1fb"
      },
      "execution_count": 36,
      "outputs": [
        {
          "output_type": "execute_result",
          "data": {
            "text/plain": [
              "(tensor([[0.6817, 0.5632, 0.4956],\n",
              "         [0.2157, 0.7021, 0.7879]]),\n",
              " torch.Size([2, 3]),\n",
              " tensor([[0.6817, 0.2157],\n",
              "         [0.5632, 0.7021],\n",
              "         [0.4956, 0.7879]]),\n",
              " torch.Size([3, 2]))"
            ]
          },
          "metadata": {},
          "execution_count": 36
        }
      ]
    },
    {
      "cell_type": "code",
      "source": [],
      "metadata": {
        "id": "jc0pWvAO5EhC"
      },
      "execution_count": null,
      "outputs": []
    }
  ]
}