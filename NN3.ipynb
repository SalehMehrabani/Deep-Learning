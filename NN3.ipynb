{
  "nbformat": 4,
  "nbformat_minor": 0,
  "metadata": {
    "colab": {
      "provenance": [],
      "authorship_tag": "ABX9TyMzuuarp+z7pMr9Oriwqicy",
      "include_colab_link": true
    },
    "kernelspec": {
      "name": "python3",
      "display_name": "Python 3"
    },
    "language_info": {
      "name": "python"
    },
    "gpuClass": "standard"
  },
  "cells": [
    {
      "cell_type": "markdown",
      "metadata": {
        "id": "view-in-github",
        "colab_type": "text"
      },
      "source": [
        "<a href=\"https://colab.research.google.com/github/SalehMehrabani/Artifical-Intelligance/blob/main/NN3.ipynb\" target=\"_parent\"><img src=\"https://colab.research.google.com/assets/colab-badge.svg\" alt=\"Open In Colab\"/></a>"
      ]
    },
    {
      "cell_type": "code",
      "execution_count": null,
      "metadata": {
        "id": "Ls2gd6gWHTpI"
      },
      "outputs": [],
      "source": [
        "#Give you info about GPU running for your Run time -> Iy selected GPU as Core running\n",
        "!nvidia-smi"
      ]
    },
    {
      "cell_type": "code",
      "source": [
        "import torch \n",
        "import numpy as np\n",
        "import pandas as pd\n",
        "import matplotlib.pyplot as plt"
      ],
      "metadata": {
        "id": "_IkZRp2iH3Em"
      },
      "execution_count": 1,
      "outputs": []
    },
    {
      "cell_type": "code",
      "source": [
        "print(torch.__version__)"
      ],
      "metadata": {
        "colab": {
          "base_uri": "https://localhost:8080/"
        },
        "id": "RWqE0uwtIYyF",
        "outputId": "fcad0c1d-4eb6-4bde-fe6a-269a4bac6ab4"
      },
      "execution_count": 19,
      "outputs": [
        {
          "output_type": "stream",
          "name": "stdout",
          "text": [
            "1.13.1+cu116\n"
          ]
        }
      ]
    },
    {
      "cell_type": "markdown",
      "source": [
        "# Tensor"
      ],
      "metadata": {
        "id": "HHxr3m7uJX93"
      }
    },
    {
      "cell_type": "code",
      "source": [
        "torch.range(start=0, \n",
        "            end=6, \n",
        "            dtype=torch.int16)"
      ],
      "metadata": {
        "colab": {
          "base_uri": "https://localhost:8080/"
        },
        "id": "CGQDIzTkPUj3",
        "outputId": "3c030d75-0b89-4276-8396-3f8d3720f467"
      },
      "execution_count": 38,
      "outputs": [
        {
          "output_type": "stream",
          "name": "stderr",
          "text": [
            "<ipython-input-38-a8ad59b59680>:1: UserWarning: torch.range is deprecated and will be removed in a future release because its behavior is inconsistent with Python's range builtin. Instead, use torch.arange, which produces values in [start, end).\n",
            "  torch.range(start=0,\n"
          ]
        },
        {
          "output_type": "execute_result",
          "data": {
            "text/plain": [
              "tensor([0, 1, 2, 3, 4, 5, 6], dtype=torch.int16)"
            ]
          },
          "metadata": {},
          "execution_count": 38
        }
      ]
    },
    {
      "cell_type": "code",
      "source": [
        "z1=torch.arange(start=1,\n",
        "                end=10,\n",
        "                step=4)\n",
        "z1.dtype"
      ],
      "metadata": {
        "colab": {
          "base_uri": "https://localhost:8080/"
        },
        "id": "AUNFLdKPPhUf",
        "outputId": "d077bd29-567a-4336-a701-26d2474e9e36"
      },
      "execution_count": 42,
      "outputs": [
        {
          "output_type": "execute_result",
          "data": {
            "text/plain": [
              "torch.int64"
            ]
          },
          "metadata": {},
          "execution_count": 42
        }
      ]
    },
    {
      "cell_type": "code",
      "source": [
        "torch.zeros_like(input=z1)"
      ],
      "metadata": {
        "colab": {
          "base_uri": "https://localhost:8080/"
        },
        "id": "hcgE1X5FPYOu",
        "outputId": "95e016c0-3ac5-41ac-8fa7-b651d5170860"
      },
      "execution_count": 33,
      "outputs": [
        {
          "output_type": "execute_result",
          "data": {
            "text/plain": [
              "tensor([0, 0, 0])"
            ]
          },
          "metadata": {},
          "execution_count": 33
        }
      ]
    },
    {
      "cell_type": "markdown",
      "source": [
        "**Note:** Tensor datatype is one of the 3 big errors you will run into PyTorch & Deep Learning:\n",
        "1. Tensor Not Right DataType\n",
        "2. Tensor Not Right Shape\n",
        "3. Tensor Not on Right Device"
      ],
      "metadata": {
        "id": "DNIJQMx0RoYs"
      }
    },
    {
      "cell_type": "code",
      "source": [
        "z2=torch.tensor([3,4,5],\n",
        "                dtype=torch.int, #Type of data -> default= float32\n",
        "                device=\"cuda\", # Default= CPU\n",
        "                requires_grad=False #PyTorch Keeping track of changing in gradient value\n",
        "                )\n",
        "z2"
      ],
      "metadata": {
        "colab": {
          "base_uri": "https://localhost:8080/"
        },
        "id": "dTTRuURuQt0t",
        "outputId": "f11508ab-8e9c-4725-ddca-7e9d23f8c802"
      },
      "execution_count": 41,
      "outputs": [
        {
          "output_type": "execute_result",
          "data": {
            "text/plain": [
              "tensor([3, 4, 5], dtype=torch.int32)"
            ]
          },
          "metadata": {},
          "execution_count": 41
        }
      ]
    },
    {
      "cell_type": "code",
      "source": [
        "#change data type of tensor\n",
        "z2=z2.type(torch.float16)\n",
        "z2"
      ],
      "metadata": {
        "colab": {
          "base_uri": "https://localhost:8080/"
        },
        "id": "plG5z9uLSYst",
        "outputId": "f9eeece3-f9e1-4532-91af-2a13a9279e9b"
      },
      "execution_count": 48,
      "outputs": [
        {
          "output_type": "execute_result",
          "data": {
            "text/plain": [
              "tensor([[0.0792, 0.9966, 0.4690],\n",
              "        [0.5542, 0.3018, 0.2211],\n",
              "        [0.9136, 0.8901, 0.1002]], dtype=torch.float16)"
            ]
          },
          "metadata": {},
          "execution_count": 48
        }
      ]
    },
    {
      "cell_type": "code",
      "source": [],
      "metadata": {
        "id": "Tv6J8O-3Sn2H"
      },
      "execution_count": null,
      "outputs": []
    }
  ]
}