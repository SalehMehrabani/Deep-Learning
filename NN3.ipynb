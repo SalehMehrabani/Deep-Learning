{
  "nbformat": 4,
  "nbformat_minor": 0,
  "metadata": {
    "colab": {
      "provenance": [],
      "authorship_tag": "ABX9TyNl9g61p6Q3AZGb6rdUAY71",
      "include_colab_link": true
    },
    "kernelspec": {
      "name": "python3",
      "display_name": "Python 3"
    },
    "language_info": {
      "name": "python"
    },
    "gpuClass": "standard"
  },
  "cells": [
    {
      "cell_type": "markdown",
      "metadata": {
        "id": "view-in-github",
        "colab_type": "text"
      },
      "source": [
        "<a href=\"https://colab.research.google.com/github/SalehMehrabani/PyTorch-ML-DL/blob/main/NN3.ipynb\" target=\"_parent\"><img src=\"https://colab.research.google.com/assets/colab-badge.svg\" alt=\"Open In Colab\"/></a>"
      ]
    },
    {
      "cell_type": "code",
      "execution_count": null,
      "metadata": {
        "id": "Ls2gd6gWHTpI"
      },
      "outputs": [],
      "source": [
        "#Give you info about GPU running for your Run time -> Iy selected GPU as Core running\n",
        "!nvidia-smi"
      ]
    },
    {
      "cell_type": "code",
      "source": [
        "import torch \n",
        "import numpy as np\n",
        "import pandas as pd\n",
        "import matplotlib.pyplot as plt"
      ],
      "metadata": {
        "id": "_IkZRp2iH3Em"
      },
      "execution_count": null,
      "outputs": []
    },
    {
      "cell_type": "code",
      "source": [
        "print(torch.__version__)"
      ],
      "metadata": {
        "colab": {
          "base_uri": "https://localhost:8080/"
        },
        "id": "RWqE0uwtIYyF",
        "outputId": "fcad0c1d-4eb6-4bde-fe6a-269a4bac6ab4"
      },
      "execution_count": null,
      "outputs": [
        {
          "output_type": "stream",
          "name": "stdout",
          "text": [
            "1.13.1+cu116\n"
          ]
        }
      ]
    },
    {
      "cell_type": "markdown",
      "source": [
        "# Tensor"
      ],
      "metadata": {
        "id": "HHxr3m7uJX93"
      }
    },
    {
      "cell_type": "code",
      "source": [
        "torch.range(start=0, \n",
        "            end=6, \n",
        "            dtype=torch.int16)"
      ],
      "metadata": {
        "colab": {
          "base_uri": "https://localhost:8080/"
        },
        "id": "CGQDIzTkPUj3",
        "outputId": "3c030d75-0b89-4276-8396-3f8d3720f467"
      },
      "execution_count": null,
      "outputs": [
        {
          "output_type": "stream",
          "name": "stderr",
          "text": [
            "<ipython-input-38-a8ad59b59680>:1: UserWarning: torch.range is deprecated and will be removed in a future release because its behavior is inconsistent with Python's range builtin. Instead, use torch.arange, which produces values in [start, end).\n",
            "  torch.range(start=0,\n"
          ]
        },
        {
          "output_type": "execute_result",
          "data": {
            "text/plain": [
              "tensor([0, 1, 2, 3, 4, 5, 6], dtype=torch.int16)"
            ]
          },
          "metadata": {},
          "execution_count": 38
        }
      ]
    },
    {
      "cell_type": "code",
      "source": [
        "z1=torch.arange(start=1,\n",
        "                end=10,\n",
        "                step=4)\n",
        "z1.dtype"
      ],
      "metadata": {
        "colab": {
          "base_uri": "https://localhost:8080/"
        },
        "id": "AUNFLdKPPhUf",
        "outputId": "d077bd29-567a-4336-a701-26d2474e9e36"
      },
      "execution_count": null,
      "outputs": [
        {
          "output_type": "execute_result",
          "data": {
            "text/plain": [
              "torch.int64"
            ]
          },
          "metadata": {},
          "execution_count": 42
        }
      ]
    },
    {
      "cell_type": "code",
      "source": [
        "torch.zeros_like(input=z1)"
      ],
      "metadata": {
        "colab": {
          "base_uri": "https://localhost:8080/"
        },
        "id": "hcgE1X5FPYOu",
        "outputId": "95e016c0-3ac5-41ac-8fa7-b651d5170860"
      },
      "execution_count": null,
      "outputs": [
        {
          "output_type": "execute_result",
          "data": {
            "text/plain": [
              "tensor([0, 0, 0])"
            ]
          },
          "metadata": {},
          "execution_count": 33
        }
      ]
    },
    {
      "cell_type": "markdown",
      "source": [
        "**Note:** Tensor datatype is one of the 3 big errors you will run into PyTorch & Deep Learning:\n",
        "1. Tensor Not Right DataType\n",
        "2. Tensor Not Right Shape\n",
        "3. Tensor Not on Right Device"
      ],
      "metadata": {
        "id": "DNIJQMx0RoYs"
      }
    },
    {
      "cell_type": "code",
      "source": [
        "z2=torch.tensor([3,4,5],\n",
        "                dtype=torch.int, #Type of data -> default= float32\n",
        "                device=\"cuda\", # Default= CPU\n",
        "                requires_grad=False #PyTorch Keeping track of changing in gradient value\n",
        "                )\n",
        "z2"
      ],
      "metadata": {
        "colab": {
          "base_uri": "https://localhost:8080/"
        },
        "id": "dTTRuURuQt0t",
        "outputId": "f11508ab-8e9c-4725-ddca-7e9d23f8c802"
      },
      "execution_count": null,
      "outputs": [
        {
          "output_type": "execute_result",
          "data": {
            "text/plain": [
              "tensor([3, 4, 5], dtype=torch.int32)"
            ]
          },
          "metadata": {},
          "execution_count": 41
        }
      ]
    },
    {
      "cell_type": "code",
      "source": [
        "#change data type of tensor\n",
        "z2=z2.type(torch.float16)\n",
        "z2"
      ],
      "metadata": {
        "colab": {
          "base_uri": "https://localhost:8080/"
        },
        "id": "plG5z9uLSYst",
        "outputId": "f9eeece3-f9e1-4532-91af-2a13a9279e9b"
      },
      "execution_count": null,
      "outputs": [
        {
          "output_type": "execute_result",
          "data": {
            "text/plain": [
              "tensor([[0.0792, 0.9966, 0.4690],\n",
              "        [0.5542, 0.3018, 0.2211],\n",
              "        [0.9136, 0.8901, 0.1002]], dtype=torch.float16)"
            ]
          },
          "metadata": {},
          "execution_count": 48
        }
      ]
    },
    {
      "cell_type": "markdown",
      "source": [
        "###Manipulating Tensors (Tensor operation)\n",
        "\n",
        "Tensor opertions include:\n",
        "* Addition\n",
        "* Subtraction \n",
        "* Multiplication(elemnt -wise)\n",
        "* Division\n",
        "* Matrix Multiplication (Dot Product) \n",
        "      The inner dimension must match \n",
        "      The resulting matrix has the shape of the outer dimension\n",
        "\n"
      ],
      "metadata": {
        "id": "czwyiwyeyP9Y"
      }
    },
    {
      "cell_type": "markdown",
      "source": [
        "One of the most common erero in Deep Learning is the Shape Error (Specially in Martix Multipliciation)"
      ],
      "metadata": {
        "id": "nsjMgfuV14vG"
      }
    },
    {
      "cell_type": "code",
      "source": [
        "tensor= torch.rand(1,3)\n",
        "print(tensor)"
      ],
      "metadata": {
        "colab": {
          "base_uri": "https://localhost:8080/"
        },
        "id": "4xnuPqP2yUm-",
        "outputId": "b5dcc2a7-8fd9-4d24-d468-2fc5b9504eff"
      },
      "execution_count": null,
      "outputs": [
        {
          "output_type": "stream",
          "name": "stdout",
          "text": [
            "tensor([[0.3192, 0.3221, 0.6230]])\n"
          ]
        }
      ]
    },
    {
      "cell_type": "code",
      "source": [
        "tensor +10"
      ],
      "metadata": {
        "colab": {
          "base_uri": "https://localhost:8080/"
        },
        "id": "siAl8tk3yzd0",
        "outputId": "1b7838a4-4479-4b12-b4e7-c584d90e2088"
      },
      "execution_count": null,
      "outputs": [
        {
          "output_type": "execute_result",
          "data": {
            "text/plain": [
              "tensor([[10.3192, 10.3221, 10.6230]])"
            ]
          },
          "metadata": {},
          "execution_count": 5
        }
      ]
    },
    {
      "cell_type": "code",
      "source": [
        "# Better to use PyTorch Operation\n",
        "torch.mul(tensor, 10)\n",
        "torch.add(tensor, 20)"
      ],
      "metadata": {
        "colab": {
          "base_uri": "https://localhost:8080/"
        },
        "id": "UZx7ihLozGqr",
        "outputId": "49d4bd4a-0f36-4e1f-9682-69360cba0974"
      },
      "execution_count": null,
      "outputs": [
        {
          "output_type": "execute_result",
          "data": {
            "text/plain": [
              "tensor([[20.3192, 20.3221, 20.6230]])"
            ]
          },
          "metadata": {},
          "execution_count": 11
        }
      ]
    },
    {
      "cell_type": "code",
      "source": [
        "#Matrix Multiplication\n",
        "#Retrun The Time Complexity of the running block\n",
        "%%time\n",
        "tensor=torch.tensor([1,2,3])\n",
        "torch.matmul(tensor, tensor)\n",
        "# tensor @ tensor"
      ],
      "metadata": {
        "colab": {
          "base_uri": "https://localhost:8080/"
        },
        "id": "8LVAygEczWuO",
        "outputId": "0f02b5d5-fec7-4439-eb86-ac869b3fa51d"
      },
      "execution_count": null,
      "outputs": [
        {
          "output_type": "stream",
          "name": "stdout",
          "text": [
            "CPU times: user 1.35 ms, sys: 0 ns, total: 1.35 ms\n",
            "Wall time: 1.23 ms\n"
          ]
        },
        {
          "output_type": "execute_result",
          "data": {
            "text/plain": [
              "tensor(14)"
            ]
          },
          "metadata": {},
          "execution_count": 24
        }
      ]
    },
    {
      "cell_type": "code",
      "source": [
        "%%time\n",
        "torch.matmul(tensor, tensor)"
      ],
      "metadata": {
        "colab": {
          "base_uri": "https://localhost:8080/"
        },
        "id": "1b49gZX80Njk",
        "outputId": "dbf92f49-b1e3-4dfd-d908-5bbb90a46a33"
      },
      "execution_count": null,
      "outputs": [
        {
          "output_type": "stream",
          "name": "stdout",
          "text": [
            "CPU times: user 1.19 ms, sys: 21 µs, total: 1.21 ms\n",
            "Wall time: 2.01 ms\n"
          ]
        },
        {
          "output_type": "execute_result",
          "data": {
            "text/plain": [
              "tensor(14)"
            ]
          },
          "metadata": {},
          "execution_count": 23
        }
      ]
    },
    {
      "cell_type": "code",
      "source": [
        "#short vesion of the matrix maltiplication\n",
        "tensorA=torch.randint(1,100,(2,3))\n",
        "tensorB=torch.rand(3,2)\n",
        "# In matrix multipluication the Data Type of the two matrix must be the identical\n",
        "torch.mm(tensorA, tensorB)"
      ],
      "metadata": {
        "id": "BYWNgwpy2DGq"
      },
      "execution_count": null,
      "outputs": []
    },
    {
      "cell_type": "markdown",
      "source": [
        "###Transposing Tensor\n",
        "[Usefull Website Visulization](http://matrixmultiplication.xyz/)\n"
      ],
      "metadata": {
        "id": "d-8I5Qyl42It"
      }
    },
    {
      "cell_type": "code",
      "source": [
        "Tensor1=torch.rand(2,3)\n",
        "Tensor1, Tensor1.shape, Tensor1.T, Tensor1.T.shape"
      ],
      "metadata": {
        "colab": {
          "base_uri": "https://localhost:8080/"
        },
        "id": "tiLM2A6_3igY",
        "outputId": "7e7ed27e-c7eb-4fa6-ccfb-e3386599b1fb"
      },
      "execution_count": null,
      "outputs": [
        {
          "output_type": "execute_result",
          "data": {
            "text/plain": [
              "(tensor([[0.6817, 0.5632, 0.4956],\n",
              "         [0.2157, 0.7021, 0.7879]]),\n",
              " torch.Size([2, 3]),\n",
              " tensor([[0.6817, 0.2157],\n",
              "         [0.5632, 0.7021],\n",
              "         [0.4956, 0.7879]]),\n",
              " torch.Size([3, 2]))"
            ]
          },
          "metadata": {},
          "execution_count": 36
        }
      ]
    },
    {
      "cell_type": "markdown",
      "source": [
        "##Finding the min, max, mean, sum, etc (tensor aggregation)*italicized text*"
      ],
      "metadata": {
        "id": "bf3QozcB6yCW"
      }
    },
    {
      "cell_type": "code",
      "source": [
        "x= torch.rand(3,3)\n",
        "x"
      ],
      "metadata": {
        "colab": {
          "base_uri": "https://localhost:8080/"
        },
        "id": "tzmjapHf64Ag",
        "outputId": "4a097ade-fc77-42c1-a4fc-fdc10013151d"
      },
      "execution_count": null,
      "outputs": [
        {
          "output_type": "execute_result",
          "data": {
            "text/plain": [
              "tensor([[0.8464, 0.5463, 0.7889],\n",
              "        [0.4869, 0.2642, 0.8985],\n",
              "        [0.7151, 0.9848, 0.7365]])"
            ]
          },
          "metadata": {},
          "execution_count": 2
        }
      ]
    },
    {
      "cell_type": "code",
      "source": [
        "torch.min(x)"
      ],
      "metadata": {
        "colab": {
          "base_uri": "https://localhost:8080/"
        },
        "id": "qUy6pv5H7OXw",
        "outputId": "628a63d6-8d7c-4593-f48b-0785c37955e7"
      },
      "execution_count": null,
      "outputs": [
        {
          "output_type": "execute_result",
          "data": {
            "text/plain": [
              "tensor(0.2642)"
            ]
          },
          "metadata": {},
          "execution_count": 3
        }
      ]
    },
    {
      "cell_type": "code",
      "source": [
        "torch.max(x)"
      ],
      "metadata": {
        "colab": {
          "base_uri": "https://localhost:8080/"
        },
        "id": "3oiGLv6l7TJi",
        "outputId": "d60be680-3f38-4da3-b019-808530b0832e"
      },
      "execution_count": null,
      "outputs": [
        {
          "output_type": "execute_result",
          "data": {
            "text/plain": [
              "tensor(0.9848)"
            ]
          },
          "metadata": {},
          "execution_count": 4
        }
      ]
    },
    {
      "cell_type": "code",
      "source": [
        "# Input dtype should be either floating point or complex number\n",
        "torch.mean(x.type(torch.float32)) , x.type(torch.float16).mean()"
      ],
      "metadata": {
        "colab": {
          "base_uri": "https://localhost:8080/"
        },
        "id": "4Ic65FnE7VGy",
        "outputId": "83f9e733-02ef-4e5e-8abe-597e5b83519d"
      },
      "execution_count": null,
      "outputs": [
        {
          "output_type": "execute_result",
          "data": {
            "text/plain": [
              "(tensor(0.6964), tensor(0.6963, dtype=torch.float16))"
            ]
          },
          "metadata": {},
          "execution_count": 8
        }
      ]
    },
    {
      "cell_type": "code",
      "source": [
        "torch.std(x)"
      ],
      "metadata": {
        "colab": {
          "base_uri": "https://localhost:8080/"
        },
        "id": "PQIAQfWI7aTf",
        "outputId": "6572c499-fd54-4cd0-82f6-2fae8111a762"
      },
      "execution_count": null,
      "outputs": [
        {
          "output_type": "execute_result",
          "data": {
            "text/plain": [
              "tensor(0.2264)"
            ]
          },
          "metadata": {},
          "execution_count": 6
        }
      ]
    },
    {
      "cell_type": "code",
      "source": [
        "torch.sum(x)"
      ],
      "metadata": {
        "colab": {
          "base_uri": "https://localhost:8080/"
        },
        "id": "iekU1P-V7gbR",
        "outputId": "86ed0542-0320-4213-ca38-3181be4d7d84"
      },
      "execution_count": null,
      "outputs": [
        {
          "output_type": "execute_result",
          "data": {
            "text/plain": [
              "tensor(6.2676)"
            ]
          },
          "metadata": {},
          "execution_count": 9
        }
      ]
    },
    {
      "cell_type": "markdown",
      "source": [
        "##Tesno argmax, argmin --> The positional min and max"
      ],
      "metadata": {
        "id": "grLXNUUo8aiQ"
      }
    },
    {
      "cell_type": "code",
      "source": [
        "torch.argmin(x)"
      ],
      "metadata": {
        "colab": {
          "base_uri": "https://localhost:8080/"
        },
        "id": "bV0CirFY8Nun",
        "outputId": "8f71d33d-4a76-4115-b1b3-3f18d9b1b341"
      },
      "execution_count": null,
      "outputs": [
        {
          "output_type": "execute_result",
          "data": {
            "text/plain": [
              "tensor(4)"
            ]
          },
          "metadata": {},
          "execution_count": 11
        }
      ]
    },
    {
      "cell_type": "code",
      "source": [
        "torch.argmax(x)"
      ],
      "metadata": {
        "colab": {
          "base_uri": "https://localhost:8080/"
        },
        "id": "-IBthZL08s86",
        "outputId": "dcaee65e-603f-4c4a-e8ea-f5e75123457c"
      },
      "execution_count": null,
      "outputs": [
        {
          "output_type": "execute_result",
          "data": {
            "text/plain": [
              "tensor(7)"
            ]
          },
          "metadata": {},
          "execution_count": 13
        }
      ]
    },
    {
      "cell_type": "markdown",
      "source": [
        "## Reshaping, Stacking, Squeezing and unsqueezing tensors\n",
        "* Squeeze --> Remove 1 Dimension from the tensor\n",
        "* Unsqueeze --> Add 1 Diemension to the tensor\n",
        "* Permute --> Return a view of the input with dimension permuted (swapped) in a certain way"
      ],
      "metadata": {
        "id": "5ZFus03Z_BKn"
      }
    },
    {
      "cell_type": "code",
      "source": [
        "x= torch.arange(1., 10,)\n",
        "x, x.shape"
      ],
      "metadata": {
        "colab": {
          "base_uri": "https://localhost:8080/"
        },
        "id": "d2ZYeC4z942k",
        "outputId": "16be021d-8369-45a9-db43-e8b2af87a5e4"
      },
      "execution_count": null,
      "outputs": [
        {
          "output_type": "execute_result",
          "data": {
            "text/plain": [
              "(tensor([1., 2., 3., 4., 5., 6., 7., 8., 9.]), torch.Size([9]))"
            ]
          },
          "metadata": {},
          "execution_count": 5
        }
      ]
    },
    {
      "cell_type": "code",
      "source": [
        "#Add an extran dimension --> The size of the elemet must be equal to the pervious one\n",
        "x_reshaped= x.reshape(1,9)\n",
        "x_reshaped, x_reshaped.shape"
      ],
      "metadata": {
        "colab": {
          "base_uri": "https://localhost:8080/"
        },
        "id": "XFznSuSiACCh",
        "outputId": "9b4849f0-71cd-45ca-b173-f0579f827fcc"
      },
      "execution_count": null,
      "outputs": [
        {
          "output_type": "execute_result",
          "data": {
            "text/plain": [
              "(tensor([[1., 2., 3., 4., 5., 6., 7., 8., 9.]]), torch.Size([1, 9]))"
            ]
          },
          "metadata": {},
          "execution_count": 7
        }
      ]
    },
    {
      "cell_type": "code",
      "source": [
        "#change the view \n",
        "#changing z, changes x, (because a view of a tensor shares the same memory as the orginal input)\n",
        "z=x.view(1,9)\n",
        "z"
      ],
      "metadata": {
        "colab": {
          "base_uri": "https://localhost:8080/"
        },
        "id": "51KjFKhgASdP",
        "outputId": "461a623e-5009-4218-eb74-82806aba5496"
      },
      "execution_count": null,
      "outputs": [
        {
          "output_type": "execute_result",
          "data": {
            "text/plain": [
              "tensor([[1., 2., 3., 4., 5., 6., 7., 8., 9.]])"
            ]
          },
          "metadata": {},
          "execution_count": 8
        }
      ]
    },
    {
      "cell_type": "code",
      "source": [
        "z[:,0]=5\n",
        "z, x"
      ],
      "metadata": {
        "colab": {
          "base_uri": "https://localhost:8080/"
        },
        "id": "I1K-1J0fB1ty",
        "outputId": "d7448492-6028-4912-c469-ee03228efabb"
      },
      "execution_count": null,
      "outputs": [
        {
          "output_type": "execute_result",
          "data": {
            "text/plain": [
              "(tensor([[5., 2., 3., 4., 5., 6., 7., 8., 9.]]),\n",
              " tensor([5., 2., 3., 4., 5., 6., 7., 8., 9.]))"
            ]
          },
          "metadata": {},
          "execution_count": 9
        }
      ]
    },
    {
      "cell_type": "code",
      "source": [
        "#Staks Tensor on top of each other\n",
        "x_stacked=torch.stack([x,x,x,x], dim=1)\n",
        "x_stacked"
      ],
      "metadata": {
        "colab": {
          "base_uri": "https://localhost:8080/"
        },
        "id": "gkFsFeCvCTi7",
        "outputId": "8c6d174e-eaae-4d22-a4a2-ef949c6db89d"
      },
      "execution_count": null,
      "outputs": [
        {
          "output_type": "execute_result",
          "data": {
            "text/plain": [
              "tensor([[5., 5., 5., 5.],\n",
              "        [2., 2., 2., 2.],\n",
              "        [3., 3., 3., 3.],\n",
              "        [4., 4., 4., 4.],\n",
              "        [5., 5., 5., 5.],\n",
              "        [6., 6., 6., 6.],\n",
              "        [7., 7., 7., 7.],\n",
              "        [8., 8., 8., 8.],\n",
              "        [9., 9., 9., 9.]])"
            ]
          },
          "metadata": {},
          "execution_count": 10
        }
      ]
    },
    {
      "cell_type": "markdown",
      "source": [
        "torch.squeeze()-> remove all single dimension from a target tensor"
      ],
      "metadata": {
        "id": "pDTD_lbkdCxy"
      }
    },
    {
      "cell_type": "code",
      "source": [
        "x_reshaped.squeeze()"
      ],
      "metadata": {
        "id": "pm6PPEhqCb8j",
        "colab": {
          "base_uri": "https://localhost:8080/"
        },
        "outputId": "8d79b24b-3d5d-48ff-f92b-640a42241d13"
      },
      "execution_count": null,
      "outputs": [
        {
          "output_type": "execute_result",
          "data": {
            "text/plain": [
              "tensor([5., 2., 3., 4., 5., 6., 7., 8., 9.])"
            ]
          },
          "metadata": {},
          "execution_count": 11
        }
      ]
    },
    {
      "cell_type": "markdown",
      "source": [
        "torch.permute() -> Rearranges the dimension of a target tensor in specified order"
      ],
      "metadata": {
        "id": "yb_Npd6Jek8S"
      }
    },
    {
      "cell_type": "code",
      "source": [
        " r=torch.rand(2,3,5)\n",
        " r.size(), r"
      ],
      "metadata": {
        "colab": {
          "base_uri": "https://localhost:8080/"
        },
        "id": "yX2M5R0qdWWt",
        "outputId": "53032d1e-1c15-448d-8256-9c4312c61468"
      },
      "execution_count": null,
      "outputs": [
        {
          "output_type": "execute_result",
          "data": {
            "text/plain": [
              "(torch.Size([2, 3, 5]), tensor([[[0.2301, 0.4091, 0.2610, 0.7748, 0.9414],\n",
              "          [0.0909, 0.9826, 0.9151, 0.3466, 0.9539],\n",
              "          [0.8150, 0.0116, 0.6791, 0.2483, 0.8277]],\n",
              " \n",
              "         [[0.5341, 0.9531, 0.8155, 0.9709, 0.0289],\n",
              "          [0.6118, 0.8502, 0.6685, 0.6531, 0.2406],\n",
              "          [0.8595, 0.6167, 0.5871, 0.0867, 0.0375]]]))"
            ]
          },
          "metadata": {},
          "execution_count": 15
        }
      ]
    },
    {
      "cell_type": "code",
      "source": [
        "torch.permute(r, (2,0,1)).size()"
      ],
      "metadata": {
        "colab": {
          "base_uri": "https://localhost:8080/"
        },
        "id": "-LMAQl1De4TL",
        "outputId": "54117b21-a013-4c19-bbb4-5a86400d7998"
      },
      "execution_count": null,
      "outputs": [
        {
          "output_type": "execute_result",
          "data": {
            "text/plain": [
              "torch.Size([5, 2, 3])"
            ]
          },
          "metadata": {},
          "execution_count": 28
        }
      ]
    },
    {
      "cell_type": "markdown",
      "source": [
        "## Indexing (Selectiong data from tensors)\n",
        "INDEXING WITH PyTorch is simlar to the Numpy"
      ],
      "metadata": {
        "id": "PzWD4TbOf9wp"
      }
    },
    {
      "cell_type": "code",
      "source": [
        "import torch"
      ],
      "metadata": {
        "id": "TKcEYd_1fDHK"
      },
      "execution_count": null,
      "outputs": []
    },
    {
      "cell_type": "code",
      "source": [
        "x=torch.arange(1,10).reshape(1,3,3)\n",
        "x, x.shape"
      ],
      "metadata": {
        "colab": {
          "base_uri": "https://localhost:8080/"
        },
        "id": "uAe0SdcagI2Z",
        "outputId": "0652e077-18de-4a85-86b8-21a199d93a13"
      },
      "execution_count": null,
      "outputs": [
        {
          "output_type": "execute_result",
          "data": {
            "text/plain": [
              "(tensor([[[1, 2, 3],\n",
              "          [4, 5, 6],\n",
              "          [7, 8, 9]]]), torch.Size([1, 3, 3]))"
            ]
          },
          "metadata": {},
          "execution_count": 21
        }
      ]
    },
    {
      "cell_type": "code",
      "source": [
        "x[0][1][2].item()"
      ],
      "metadata": {
        "colab": {
          "base_uri": "https://localhost:8080/"
        },
        "id": "oB7uz2GfgNMD",
        "outputId": "1b1c2f99-76d8-4f61-be2f-d4912ba036cb"
      },
      "execution_count": null,
      "outputs": [
        {
          "output_type": "execute_result",
          "data": {
            "text/plain": [
              "6"
            ]
          },
          "metadata": {},
          "execution_count": 26
        }
      ]
    },
    {
      "cell_type": "code",
      "source": [
        "#Get all value of 0th and 1st dimensions but only index 1st and 2nd dimension\n",
        "x[:,:,1]"
      ],
      "metadata": {
        "id": "wlsPrDxFgWc5",
        "colab": {
          "base_uri": "https://localhost:8080/"
        },
        "outputId": "b1903b36-cca5-46ef-8e17-c4603b9c04c8"
      },
      "execution_count": null,
      "outputs": [
        {
          "output_type": "execute_result",
          "data": {
            "text/plain": [
              "tensor([[2, 5, 8]])"
            ]
          },
          "metadata": {},
          "execution_count": 37
        }
      ]
    },
    {
      "cell_type": "code",
      "source": [
        "x[:,1,1]"
      ],
      "metadata": {
        "colab": {
          "base_uri": "https://localhost:8080/"
        },
        "id": "akf498KCg61T",
        "outputId": "e74a7fa4-3af0-4326-88e9-f35f9fa55b3d"
      },
      "execution_count": null,
      "outputs": [
        {
          "output_type": "execute_result",
          "data": {
            "text/plain": [
              "tensor([5])"
            ]
          },
          "metadata": {},
          "execution_count": 40
        }
      ]
    },
    {
      "cell_type": "markdown",
      "source": [
        "## PyTorch and NumPy\n",
        "* Data in NumPy, want in PyTorch tensor --> `torch.from_numpy(ndarray)`\n",
        "* PyTorch -> NumPy --> `torch.Tensor.numpy()`\n"
      ],
      "metadata": {
        "id": "lM3O0ENDpUAQ"
      }
    },
    {
      "cell_type": "code",
      "source": [
        "import torch\n",
        "import numpy as np"
      ],
      "metadata": {
        "id": "vd14qR7HhjRd"
      },
      "execution_count": null,
      "outputs": []
    },
    {
      "cell_type": "code",
      "source": [
        "#Numpy array to tensor\n",
        "array=np.arange(1,8) #Default dtype is float64\n",
        "tensor=torch.from_numpy(array) # Warning: when converting from numpy to tensor, you may need change the data type\n",
        "array, tensor"
      ],
      "metadata": {
        "colab": {
          "base_uri": "https://localhost:8080/"
        },
        "id": "ixWdFizfp9dq",
        "outputId": "8a79149c-d345-4a0e-de80-6409dc3da317"
      },
      "execution_count": null,
      "outputs": [
        {
          "output_type": "execute_result",
          "data": {
            "text/plain": [
              "(array([1, 2, 3, 4, 5, 6, 7]), tensor([1, 2, 3, 4, 5, 6, 7]))"
            ]
          },
          "metadata": {},
          "execution_count": 47
        }
      ]
    },
    {
      "cell_type": "code",
      "source": [
        "array+=1\n",
        "array, tensor\n",
        "array=array-1\n",
        "array, tensor"
      ],
      "metadata": {
        "colab": {
          "base_uri": "https://localhost:8080/"
        },
        "id": "j64zTU77q7QP",
        "outputId": "ddfc02b0-1c67-44d4-905b-91ffb733cca4"
      },
      "execution_count": null,
      "outputs": [
        {
          "output_type": "execute_result",
          "data": {
            "text/plain": [
              "(array([3, 4, 5, 6, 7, 8, 9]), tensor([ 4,  5,  6,  7,  8,  9, 10]))"
            ]
          },
          "metadata": {},
          "execution_count": 51
        }
      ]
    },
    {
      "cell_type": "code",
      "source": [
        "#Tensor to NumPy\n",
        "tensor=torch.ones(7)\n",
        "array=tensor.numpy()\n",
        "tensor, tensor.dtype, array, array.dtype"
      ],
      "metadata": {
        "colab": {
          "base_uri": "https://localhost:8080/"
        },
        "id": "7CvpDhviq9Vx",
        "outputId": "833f6ec3-5128-435a-c19d-9157e8fc12ab"
      },
      "execution_count": null,
      "outputs": [
        {
          "output_type": "execute_result",
          "data": {
            "text/plain": [
              "(tensor([1., 1., 1., 1., 1., 1., 1.]),\n",
              " torch.float32,\n",
              " array([1., 1., 1., 1., 1., 1., 1.], dtype=float32),\n",
              " dtype('float32'))"
            ]
          },
          "metadata": {},
          "execution_count": 57
        }
      ]
    },
    {
      "cell_type": "code",
      "source": [
        "tensor=tensor+1\n",
        "tensor, array"
      ],
      "metadata": {
        "colab": {
          "base_uri": "https://localhost:8080/"
        },
        "id": "JNURJQtbrOgb",
        "outputId": "39c66e07-6e1a-4431-b2d1-a26f0289cb24"
      },
      "execution_count": null,
      "outputs": [
        {
          "output_type": "execute_result",
          "data": {
            "text/plain": [
              "(tensor([3., 3., 3., 3., 3., 3., 3.]),\n",
              " array([2., 2., 2., 2., 2., 2., 2.], dtype=float32))"
            ]
          },
          "metadata": {},
          "execution_count": 60
        }
      ]
    },
    {
      "cell_type": "code",
      "source": [
        "tensor+=1\n",
        "tensor, array"
      ],
      "metadata": {
        "colab": {
          "base_uri": "https://localhost:8080/"
        },
        "id": "G1EjxQWSrsXI",
        "outputId": "e7ad3a05-cd2d-4143-d205-ce0a3d0ea489"
      },
      "execution_count": null,
      "outputs": [
        {
          "output_type": "execute_result",
          "data": {
            "text/plain": [
              "(tensor([2., 2., 2., 2., 2., 2., 2.]),\n",
              " array([2., 2., 2., 2., 2., 2., 2.], dtype=float32))"
            ]
          },
          "metadata": {},
          "execution_count": 59
        }
      ]
    },
    {
      "cell_type": "markdown",
      "source": [
        "### Setup GPU as Main Processor\n",
        "* Putting Tensor and Model on the GPU\n",
        "* **Notice** If A tensor runs on GPU, we can not transform it to NumPy array"
      ],
      "metadata": {
        "id": "kHzNjiCm1wrh"
      }
    },
    {
      "cell_type": "code",
      "source": [
        " #Setup device agnostic code\n",
        " device =\"cuda\" if torch.cuda.is_available() else \"cpu\"\n",
        " device\n"
      ],
      "metadata": {
        "id": "yWtUKlLPr0lu",
        "colab": {
          "base_uri": "https://localhost:8080/",
          "height": 36
        },
        "outputId": "ff90e9d8-6ca2-46f7-c524-e756dbf3e612"
      },
      "execution_count": 61,
      "outputs": [
        {
          "output_type": "execute_result",
          "data": {
            "text/plain": [
              "'cpu'"
            ],
            "application/vnd.google.colaboratory.intrinsic+json": {
              "type": "string"
            }
          },
          "metadata": {},
          "execution_count": 61
        }
      ]
    },
    {
      "cell_type": "code",
      "source": [
        "#Count the number of Devices\n",
        "torch.cuda.device_count()"
      ],
      "metadata": {
        "colab": {
          "base_uri": "https://localhost:8080/"
        },
        "id": "cdYdq-3H1zM-",
        "outputId": "61c3b018-ced6-43c4-9197-edb18375c93f"
      },
      "execution_count": 62,
      "outputs": [
        {
          "output_type": "stream",
          "name": "stderr",
          "text": [
            "/usr/local/lib/python3.8/dist-packages/torch/cuda/__init__.py:497: UserWarning: Can't initialize NVML\n",
            "  warnings.warn(\"Can't initialize NVML\")\n"
          ]
        },
        {
          "output_type": "execute_result",
          "data": {
            "text/plain": [
              "0"
            ]
          },
          "metadata": {},
          "execution_count": 62
        }
      ]
    },
    {
      "cell_type": "code",
      "source": [
        "tensor=torch.tensor([1,2,3])\n",
        "tensor, tensor.device"
      ],
      "metadata": {
        "colab": {
          "base_uri": "https://localhost:8080/"
        },
        "id": "Hu6wTZZy10vO",
        "outputId": "432c5f08-ca4b-4465-f029-eae46c1f8e7a"
      },
      "execution_count": 63,
      "outputs": [
        {
          "output_type": "execute_result",
          "data": {
            "text/plain": [
              "(tensor([1, 2, 3]), device(type='cpu'))"
            ]
          },
          "metadata": {},
          "execution_count": 63
        }
      ]
    },
    {
      "cell_type": "code",
      "source": [
        "tensor_on_gpu = tensor.to(device)\n",
        "tensor_on_gpu.device"
      ],
      "metadata": {
        "colab": {
          "base_uri": "https://localhost:8080/"
        },
        "id": "3d7XC-ZB12On",
        "outputId": "2bcf1849-e0eb-45c9-8b1c-16a95b332f9c"
      },
      "execution_count": 64,
      "outputs": [
        {
          "output_type": "execute_result",
          "data": {
            "text/plain": [
              "device(type='cpu')"
            ]
          },
          "metadata": {},
          "execution_count": 64
        }
      ]
    },
    {
      "cell_type": "code",
      "source": [
        "# To fix the GPU tensor with NumPy issue, We can first set it to the CPU\n",
        "tensor_back_on_cpu= tensor_on_gpu.cpu().numpy()\n",
        "tensor_back_on_cpu"
      ],
      "metadata": {
        "colab": {
          "base_uri": "https://localhost:8080/"
        },
        "id": "rQla8fw_1359",
        "outputId": "0a43b2dc-80eb-40b7-d4b6-98c8fe30ed61"
      },
      "execution_count": 65,
      "outputs": [
        {
          "output_type": "execute_result",
          "data": {
            "text/plain": [
              "array([1, 2, 3])"
            ]
          },
          "metadata": {},
          "execution_count": 65
        }
      ]
    },
    {
      "cell_type": "code",
      "source": [],
      "metadata": {
        "id": "zgfEAC7N15hu"
      },
      "execution_count": null,
      "outputs": []
    }
  ]
}