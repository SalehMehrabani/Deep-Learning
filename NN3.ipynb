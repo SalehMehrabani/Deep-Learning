{
  "nbformat": 4,
  "nbformat_minor": 0,
  "metadata": {
    "colab": {
      "provenance": [],
      "authorship_tag": "ABX9TyO3wCnC9PQGeEDMisSy7YHD",
      "include_colab_link": true
    },
    "kernelspec": {
      "name": "python3",
      "display_name": "Python 3"
    },
    "language_info": {
      "name": "python"
    },
    "gpuClass": "standard"
  },
  "cells": [
    {
      "cell_type": "markdown",
      "metadata": {
        "id": "view-in-github",
        "colab_type": "text"
      },
      "source": [
        "<a href=\"https://colab.research.google.com/github/SalehMehrabani/Artifical-Intelligance/blob/main/NN3.ipynb\" target=\"_parent\"><img src=\"https://colab.research.google.com/assets/colab-badge.svg\" alt=\"Open In Colab\"/></a>"
      ]
    },
    {
      "cell_type": "code",
      "execution_count": null,
      "metadata": {
        "id": "Ls2gd6gWHTpI"
      },
      "outputs": [],
      "source": [
        "#Give you info about GPU running for your Run time -> Iy selected GPU as Core running\n",
        "!nvidia-smi"
      ]
    },
    {
      "cell_type": "code",
      "source": [
        "import torch \n",
        "import numpy as np\n",
        "import pandas as pd\n",
        "import matplotlib.pyplot as plt"
      ],
      "metadata": {
        "id": "_IkZRp2iH3Em"
      },
      "execution_count": 1,
      "outputs": []
    },
    {
      "cell_type": "code",
      "source": [
        "print(torch.__version__)"
      ],
      "metadata": {
        "colab": {
          "base_uri": "https://localhost:8080/"
        },
        "id": "RWqE0uwtIYyF",
        "outputId": "fcad0c1d-4eb6-4bde-fe6a-269a4bac6ab4"
      },
      "execution_count": null,
      "outputs": [
        {
          "output_type": "stream",
          "name": "stdout",
          "text": [
            "1.13.1+cu116\n"
          ]
        }
      ]
    },
    {
      "cell_type": "markdown",
      "source": [
        "# Tensor"
      ],
      "metadata": {
        "id": "HHxr3m7uJX93"
      }
    },
    {
      "cell_type": "code",
      "source": [
        "torch.range(start=0, \n",
        "            end=6, \n",
        "            dtype=torch.int16)"
      ],
      "metadata": {
        "colab": {
          "base_uri": "https://localhost:8080/"
        },
        "id": "CGQDIzTkPUj3",
        "outputId": "3c030d75-0b89-4276-8396-3f8d3720f467"
      },
      "execution_count": null,
      "outputs": [
        {
          "output_type": "stream",
          "name": "stderr",
          "text": [
            "<ipython-input-38-a8ad59b59680>:1: UserWarning: torch.range is deprecated and will be removed in a future release because its behavior is inconsistent with Python's range builtin. Instead, use torch.arange, which produces values in [start, end).\n",
            "  torch.range(start=0,\n"
          ]
        },
        {
          "output_type": "execute_result",
          "data": {
            "text/plain": [
              "tensor([0, 1, 2, 3, 4, 5, 6], dtype=torch.int16)"
            ]
          },
          "metadata": {},
          "execution_count": 38
        }
      ]
    },
    {
      "cell_type": "code",
      "source": [
        "z1=torch.arange(start=1,\n",
        "                end=10,\n",
        "                step=4)\n",
        "z1.dtype"
      ],
      "metadata": {
        "colab": {
          "base_uri": "https://localhost:8080/"
        },
        "id": "AUNFLdKPPhUf",
        "outputId": "d077bd29-567a-4336-a701-26d2474e9e36"
      },
      "execution_count": null,
      "outputs": [
        {
          "output_type": "execute_result",
          "data": {
            "text/plain": [
              "torch.int64"
            ]
          },
          "metadata": {},
          "execution_count": 42
        }
      ]
    },
    {
      "cell_type": "code",
      "source": [
        "torch.zeros_like(input=z1)"
      ],
      "metadata": {
        "colab": {
          "base_uri": "https://localhost:8080/"
        },
        "id": "hcgE1X5FPYOu",
        "outputId": "95e016c0-3ac5-41ac-8fa7-b651d5170860"
      },
      "execution_count": null,
      "outputs": [
        {
          "output_type": "execute_result",
          "data": {
            "text/plain": [
              "tensor([0, 0, 0])"
            ]
          },
          "metadata": {},
          "execution_count": 33
        }
      ]
    },
    {
      "cell_type": "markdown",
      "source": [
        "**Note:** Tensor datatype is one of the 3 big errors you will run into PyTorch & Deep Learning:\n",
        "1. Tensor Not Right DataType\n",
        "2. Tensor Not Right Shape\n",
        "3. Tensor Not on Right Device"
      ],
      "metadata": {
        "id": "DNIJQMx0RoYs"
      }
    },
    {
      "cell_type": "code",
      "source": [
        "z2=torch.tensor([3,4,5],\n",
        "                dtype=torch.int, #Type of data -> default= float32\n",
        "                device=\"cuda\", # Default= CPU\n",
        "                requires_grad=False #PyTorch Keeping track of changing in gradient value\n",
        "                )\n",
        "z2"
      ],
      "metadata": {
        "colab": {
          "base_uri": "https://localhost:8080/"
        },
        "id": "dTTRuURuQt0t",
        "outputId": "f11508ab-8e9c-4725-ddca-7e9d23f8c802"
      },
      "execution_count": null,
      "outputs": [
        {
          "output_type": "execute_result",
          "data": {
            "text/plain": [
              "tensor([3, 4, 5], dtype=torch.int32)"
            ]
          },
          "metadata": {},
          "execution_count": 41
        }
      ]
    },
    {
      "cell_type": "code",
      "source": [
        "#change data type of tensor\n",
        "z2=z2.type(torch.float16)\n",
        "z2"
      ],
      "metadata": {
        "colab": {
          "base_uri": "https://localhost:8080/"
        },
        "id": "plG5z9uLSYst",
        "outputId": "f9eeece3-f9e1-4532-91af-2a13a9279e9b"
      },
      "execution_count": null,
      "outputs": [
        {
          "output_type": "execute_result",
          "data": {
            "text/plain": [
              "tensor([[0.0792, 0.9966, 0.4690],\n",
              "        [0.5542, 0.3018, 0.2211],\n",
              "        [0.9136, 0.8901, 0.1002]], dtype=torch.float16)"
            ]
          },
          "metadata": {},
          "execution_count": 48
        }
      ]
    },
    {
      "cell_type": "markdown",
      "source": [
        "###Manipulating Tensors (Tensor operation)\n",
        "\n",
        "Tensor opertions include:\n",
        "* Addition\n",
        "* Subtraction \n",
        "* Multiplication(elemnt -wise)\n",
        "* Division\n",
        "* Matrix Multiplication (Dot Product) \n",
        "      The inner dimension must match \n",
        "      The resulting matrix has the shape of the outer dimension\n",
        "\n"
      ],
      "metadata": {
        "id": "czwyiwyeyP9Y"
      }
    },
    {
      "cell_type": "markdown",
      "source": [
        "One of the most common erero in Deep Learning is the Shape Error (Specially in Martix Multipliciation)"
      ],
      "metadata": {
        "id": "nsjMgfuV14vG"
      }
    },
    {
      "cell_type": "code",
      "source": [
        "tensor= torch.rand(1,3)\n",
        "print(tensor)"
      ],
      "metadata": {
        "colab": {
          "base_uri": "https://localhost:8080/"
        },
        "id": "4xnuPqP2yUm-",
        "outputId": "b5dcc2a7-8fd9-4d24-d468-2fc5b9504eff"
      },
      "execution_count": null,
      "outputs": [
        {
          "output_type": "stream",
          "name": "stdout",
          "text": [
            "tensor([[0.3192, 0.3221, 0.6230]])\n"
          ]
        }
      ]
    },
    {
      "cell_type": "code",
      "source": [
        "tensor +10"
      ],
      "metadata": {
        "colab": {
          "base_uri": "https://localhost:8080/"
        },
        "id": "siAl8tk3yzd0",
        "outputId": "1b7838a4-4479-4b12-b4e7-c584d90e2088"
      },
      "execution_count": null,
      "outputs": [
        {
          "output_type": "execute_result",
          "data": {
            "text/plain": [
              "tensor([[10.3192, 10.3221, 10.6230]])"
            ]
          },
          "metadata": {},
          "execution_count": 5
        }
      ]
    },
    {
      "cell_type": "code",
      "source": [
        "# Better to use PyTorch Operation\n",
        "torch.mul(tensor, 10)\n",
        "torch.add(tensor, 20)"
      ],
      "metadata": {
        "colab": {
          "base_uri": "https://localhost:8080/"
        },
        "id": "UZx7ihLozGqr",
        "outputId": "49d4bd4a-0f36-4e1f-9682-69360cba0974"
      },
      "execution_count": null,
      "outputs": [
        {
          "output_type": "execute_result",
          "data": {
            "text/plain": [
              "tensor([[20.3192, 20.3221, 20.6230]])"
            ]
          },
          "metadata": {},
          "execution_count": 11
        }
      ]
    },
    {
      "cell_type": "code",
      "source": [
        "#Matrix Multiplication\n",
        "#Retrun The Time Complexity of the running block\n",
        "%%time\n",
        "tensor=torch.tensor([1,2,3])\n",
        "torch.matmul(tensor, tensor)\n",
        "# tensor @ tensor"
      ],
      "metadata": {
        "colab": {
          "base_uri": "https://localhost:8080/"
        },
        "id": "8LVAygEczWuO",
        "outputId": "0f02b5d5-fec7-4439-eb86-ac869b3fa51d"
      },
      "execution_count": null,
      "outputs": [
        {
          "output_type": "stream",
          "name": "stdout",
          "text": [
            "CPU times: user 1.35 ms, sys: 0 ns, total: 1.35 ms\n",
            "Wall time: 1.23 ms\n"
          ]
        },
        {
          "output_type": "execute_result",
          "data": {
            "text/plain": [
              "tensor(14)"
            ]
          },
          "metadata": {},
          "execution_count": 24
        }
      ]
    },
    {
      "cell_type": "code",
      "source": [
        "%%time\n",
        "torch.matmul(tensor, tensor)"
      ],
      "metadata": {
        "colab": {
          "base_uri": "https://localhost:8080/"
        },
        "id": "1b49gZX80Njk",
        "outputId": "dbf92f49-b1e3-4dfd-d908-5bbb90a46a33"
      },
      "execution_count": null,
      "outputs": [
        {
          "output_type": "stream",
          "name": "stdout",
          "text": [
            "CPU times: user 1.19 ms, sys: 21 µs, total: 1.21 ms\n",
            "Wall time: 2.01 ms\n"
          ]
        },
        {
          "output_type": "execute_result",
          "data": {
            "text/plain": [
              "tensor(14)"
            ]
          },
          "metadata": {},
          "execution_count": 23
        }
      ]
    },
    {
      "cell_type": "code",
      "source": [
        "#short vesion of the matrix maltiplication\n",
        "tensorA=torch.randint(1,100,(2,3))\n",
        "tensorB=torch.rand(3,2)\n",
        "# In matrix multipluication the Data Type of the two matrix must be the identical\n",
        "torch.mm(tensorA, tensorB)"
      ],
      "metadata": {
        "id": "BYWNgwpy2DGq"
      },
      "execution_count": null,
      "outputs": []
    },
    {
      "cell_type": "markdown",
      "source": [
        "###Transposing Tensor\n",
        "[Usefull Website Visulization](http://matrixmultiplication.xyz/)\n"
      ],
      "metadata": {
        "id": "d-8I5Qyl42It"
      }
    },
    {
      "cell_type": "code",
      "source": [
        "Tensor1=torch.rand(2,3)\n",
        "Tensor1, Tensor1.shape, Tensor1.T, Tensor1.T.shape"
      ],
      "metadata": {
        "colab": {
          "base_uri": "https://localhost:8080/"
        },
        "id": "tiLM2A6_3igY",
        "outputId": "7e7ed27e-c7eb-4fa6-ccfb-e3386599b1fb"
      },
      "execution_count": null,
      "outputs": [
        {
          "output_type": "execute_result",
          "data": {
            "text/plain": [
              "(tensor([[0.6817, 0.5632, 0.4956],\n",
              "         [0.2157, 0.7021, 0.7879]]),\n",
              " torch.Size([2, 3]),\n",
              " tensor([[0.6817, 0.2157],\n",
              "         [0.5632, 0.7021],\n",
              "         [0.4956, 0.7879]]),\n",
              " torch.Size([3, 2]))"
            ]
          },
          "metadata": {},
          "execution_count": 36
        }
      ]
    },
    {
      "cell_type": "markdown",
      "source": [
        "##Finding the min, max, mean, sum, etc (tensor aggregation)*italicized text*"
      ],
      "metadata": {
        "id": "bf3QozcB6yCW"
      }
    },
    {
      "cell_type": "code",
      "source": [
        "x= torch.rand(3,3)\n",
        "x"
      ],
      "metadata": {
        "colab": {
          "base_uri": "https://localhost:8080/"
        },
        "id": "tzmjapHf64Ag",
        "outputId": "4a097ade-fc77-42c1-a4fc-fdc10013151d"
      },
      "execution_count": 2,
      "outputs": [
        {
          "output_type": "execute_result",
          "data": {
            "text/plain": [
              "tensor([[0.8464, 0.5463, 0.7889],\n",
              "        [0.4869, 0.2642, 0.8985],\n",
              "        [0.7151, 0.9848, 0.7365]])"
            ]
          },
          "metadata": {},
          "execution_count": 2
        }
      ]
    },
    {
      "cell_type": "code",
      "source": [
        "torch.min(x)"
      ],
      "metadata": {
        "colab": {
          "base_uri": "https://localhost:8080/"
        },
        "id": "qUy6pv5H7OXw",
        "outputId": "628a63d6-8d7c-4593-f48b-0785c37955e7"
      },
      "execution_count": 3,
      "outputs": [
        {
          "output_type": "execute_result",
          "data": {
            "text/plain": [
              "tensor(0.2642)"
            ]
          },
          "metadata": {},
          "execution_count": 3
        }
      ]
    },
    {
      "cell_type": "code",
      "source": [
        "torch.max(x)"
      ],
      "metadata": {
        "colab": {
          "base_uri": "https://localhost:8080/"
        },
        "id": "3oiGLv6l7TJi",
        "outputId": "d60be680-3f38-4da3-b019-808530b0832e"
      },
      "execution_count": 4,
      "outputs": [
        {
          "output_type": "execute_result",
          "data": {
            "text/plain": [
              "tensor(0.9848)"
            ]
          },
          "metadata": {},
          "execution_count": 4
        }
      ]
    },
    {
      "cell_type": "code",
      "source": [
        "# Input dtype should be either floating point or complex number\n",
        "torch.mean(x.type(torch.float32)) , x.type(torch.float16).mean()"
      ],
      "metadata": {
        "colab": {
          "base_uri": "https://localhost:8080/"
        },
        "id": "4Ic65FnE7VGy",
        "outputId": "83f9e733-02ef-4e5e-8abe-597e5b83519d"
      },
      "execution_count": 8,
      "outputs": [
        {
          "output_type": "execute_result",
          "data": {
            "text/plain": [
              "(tensor(0.6964), tensor(0.6963, dtype=torch.float16))"
            ]
          },
          "metadata": {},
          "execution_count": 8
        }
      ]
    },
    {
      "cell_type": "code",
      "source": [
        "torch.std(x)"
      ],
      "metadata": {
        "colab": {
          "base_uri": "https://localhost:8080/"
        },
        "id": "PQIAQfWI7aTf",
        "outputId": "6572c499-fd54-4cd0-82f6-2fae8111a762"
      },
      "execution_count": 6,
      "outputs": [
        {
          "output_type": "execute_result",
          "data": {
            "text/plain": [
              "tensor(0.2264)"
            ]
          },
          "metadata": {},
          "execution_count": 6
        }
      ]
    },
    {
      "cell_type": "code",
      "source": [
        "torch.sum(x)"
      ],
      "metadata": {
        "colab": {
          "base_uri": "https://localhost:8080/"
        },
        "id": "iekU1P-V7gbR",
        "outputId": "86ed0542-0320-4213-ca38-3181be4d7d84"
      },
      "execution_count": 9,
      "outputs": [
        {
          "output_type": "execute_result",
          "data": {
            "text/plain": [
              "tensor(6.2676)"
            ]
          },
          "metadata": {},
          "execution_count": 9
        }
      ]
    },
    {
      "cell_type": "markdown",
      "source": [
        "##Tesno argmax, argmin --> The positional min and max"
      ],
      "metadata": {
        "id": "grLXNUUo8aiQ"
      }
    },
    {
      "cell_type": "code",
      "source": [
        "torch.argmin(x)"
      ],
      "metadata": {
        "colab": {
          "base_uri": "https://localhost:8080/"
        },
        "id": "bV0CirFY8Nun",
        "outputId": "8f71d33d-4a76-4115-b1b3-3f18d9b1b341"
      },
      "execution_count": 11,
      "outputs": [
        {
          "output_type": "execute_result",
          "data": {
            "text/plain": [
              "tensor(4)"
            ]
          },
          "metadata": {},
          "execution_count": 11
        }
      ]
    },
    {
      "cell_type": "code",
      "source": [
        "torch.argmax(x)"
      ],
      "metadata": {
        "colab": {
          "base_uri": "https://localhost:8080/"
        },
        "id": "-IBthZL08s86",
        "outputId": "dcaee65e-603f-4c4a-e8ea-f5e75123457c"
      },
      "execution_count": 13,
      "outputs": [
        {
          "output_type": "execute_result",
          "data": {
            "text/plain": [
              "tensor(7)"
            ]
          },
          "metadata": {},
          "execution_count": 13
        }
      ]
    },
    {
      "cell_type": "markdown",
      "source": [
        "## Reshaping, Stacking, Squeezing and unsqueezing tensors\n",
        "* Squeeze --> Remove 1 Dimension from the tensor\n",
        "* Unsqueeze --> Add 1 Diemension to the tensor\n",
        "* Permute --> Return a view of the input with dimension permuted (swapped) in a certain way"
      ],
      "metadata": {
        "id": "5ZFus03Z_BKn"
      }
    },
    {
      "cell_type": "code",
      "source": [
        "x= torch.arange(1., 10,)\n",
        "x, x.shape"
      ],
      "metadata": {
        "colab": {
          "base_uri": "https://localhost:8080/"
        },
        "id": "d2ZYeC4z942k",
        "outputId": "08988a36-5c3f-4f26-b2f0-b44e5ea6ec34"
      },
      "execution_count": 41,
      "outputs": [
        {
          "output_type": "execute_result",
          "data": {
            "text/plain": [
              "(tensor([1., 2., 3., 4., 5., 6., 7., 8., 9.]), torch.Size([9]))"
            ]
          },
          "metadata": {},
          "execution_count": 41
        }
      ]
    },
    {
      "cell_type": "code",
      "source": [
        "#Add an extran dimension --> The size of the elemet must be equal to the pervious one\n",
        "x_reshaped= x.reshape(2,5)\n",
        "x_reshaped, x_reshaped.shape"
      ],
      "metadata": {
        "colab": {
          "base_uri": "https://localhost:8080/"
        },
        "id": "XFznSuSiACCh",
        "outputId": "f4096db7-1f4b-4f76-a61b-68e1cd521a0b"
      },
      "execution_count": 39,
      "outputs": [
        {
          "output_type": "execute_result",
          "data": {
            "text/plain": [
              "(tensor([[0., 1., 2., 3., 4.],\n",
              "         [5., 6., 7., 8., 9.]]), torch.Size([2, 5]))"
            ]
          },
          "metadata": {},
          "execution_count": 39
        }
      ]
    },
    {
      "cell_type": "code",
      "source": [
        "#change the view \n",
        "#changing z, changes x, (because a view of a tensor shares the same memory as the orginal input)\n",
        "z=x.view(1,9)\n",
        "z"
      ],
      "metadata": {
        "colab": {
          "base_uri": "https://localhost:8080/"
        },
        "id": "51KjFKhgASdP",
        "outputId": "29ea360d-6f8a-45fc-e987-33690a82b804"
      },
      "execution_count": 43,
      "outputs": [
        {
          "output_type": "execute_result",
          "data": {
            "text/plain": [
              "tensor([[1., 2., 3., 4., 5., 6., 7., 8., 9.]])"
            ]
          },
          "metadata": {},
          "execution_count": 43
        }
      ]
    },
    {
      "cell_type": "code",
      "source": [
        "z[:,0]=5\n",
        "z, x"
      ],
      "metadata": {
        "colab": {
          "base_uri": "https://localhost:8080/"
        },
        "id": "I1K-1J0fB1ty",
        "outputId": "9568c42d-8272-43d6-9f52-a7cd11f2fb34"
      },
      "execution_count": 44,
      "outputs": [
        {
          "output_type": "execute_result",
          "data": {
            "text/plain": [
              "(tensor([[5., 2., 3., 4., 5., 6., 7., 8., 9.]]),\n",
              " tensor([5., 2., 3., 4., 5., 6., 7., 8., 9.]))"
            ]
          },
          "metadata": {},
          "execution_count": 44
        }
      ]
    },
    {
      "cell_type": "code",
      "source": [
        "#Staks Tensor on top of each other\n",
        "x_stacked=torch.stack([x,x,x,x], dim=1)\n",
        "x_stacked"
      ],
      "metadata": {
        "colab": {
          "base_uri": "https://localhost:8080/"
        },
        "id": "gkFsFeCvCTi7",
        "outputId": "1fe215de-779d-47ca-a552-eb4bd3c5c2ea"
      },
      "execution_count": 48,
      "outputs": [
        {
          "output_type": "execute_result",
          "data": {
            "text/plain": [
              "tensor([[5., 5., 5., 5.],\n",
              "        [2., 2., 2., 2.],\n",
              "        [3., 3., 3., 3.],\n",
              "        [4., 4., 4., 4.],\n",
              "        [5., 5., 5., 5.],\n",
              "        [6., 6., 6., 6.],\n",
              "        [7., 7., 7., 7.],\n",
              "        [8., 8., 8., 8.],\n",
              "        [9., 9., 9., 9.]])"
            ]
          },
          "metadata": {},
          "execution_count": 48
        }
      ]
    },
    {
      "cell_type": "code",
      "source": [],
      "metadata": {
        "id": "pm6PPEhqCb8j"
      },
      "execution_count": null,
      "outputs": []
    }
  ]
}