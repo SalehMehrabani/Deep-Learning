{
  "nbformat": 4,
  "nbformat_minor": 0,
  "metadata": {
    "colab": {
      "provenance": [],
      "authorship_tag": "ABX9TyO9w10bgPaafzygfA72VOKV",
      "include_colab_link": true
    },
    "kernelspec": {
      "name": "python3",
      "display_name": "Python 3"
    },
    "language_info": {
      "name": "python"
    },
    "gpuClass": "standard"
  },
  "cells": [
    {
      "cell_type": "markdown",
      "metadata": {
        "id": "view-in-github",
        "colab_type": "text"
      },
      "source": [
        "<a href=\"https://colab.research.google.com/github/SalehMehrabani/PyTorch-Deep-Learning/blob/main/NN4.ipynb\" target=\"_parent\"><img src=\"https://colab.research.google.com/assets/colab-badge.svg\" alt=\"Open In Colab\"/></a>"
      ]
    },
    {
      "cell_type": "markdown",
      "source": [
        "# PyTorch Workflow\n"
      ],
      "metadata": {
        "id": "ntHL27-458Xh"
      }
    },
    {
      "cell_type": "code",
      "execution_count": 1,
      "metadata": {
        "id": "KU1PPzYRsKws"
      },
      "outputs": [],
      "source": [
        "import torch \n",
        "from torch import nn\n",
        "import matplotlib.pyplot as plt"
      ]
    },
    {
      "cell_type": "code",
      "source": [
        "device= \"cuda\" if torch.cuda.is_available() else \"cpu\"\n",
        "device"
      ],
      "metadata": {
        "colab": {
          "base_uri": "https://localhost:8080/",
          "height": 36
        },
        "id": "faTf7b236zto",
        "outputId": "4663973c-c5d2-4802-deb3-a6e8ce95f96e"
      },
      "execution_count": 2,
      "outputs": [
        {
          "output_type": "execute_result",
          "data": {
            "text/plain": [
              "'cpu'"
            ],
            "application/vnd.google.colaboratory.intrinsic+json": {
              "type": "string"
            }
          },
          "metadata": {},
          "execution_count": 2
        }
      ]
    },
    {
      "cell_type": "markdown",
      "source": [
        "## Data: Preparing and Loading\n"
      ],
      "metadata": {
        "id": "BZiDd67W7eb1"
      }
    },
    {
      "cell_type": "code",
      "source": [
        "#Create Known parameter\n",
        "weight = 0.7\n",
        "bias = 0.3\n",
        "\n",
        "#Create  dataset\n",
        "start=0\n",
        "end=1\n",
        "step= 0.02\n",
        "\n",
        "X = torch.arange(start, end, step).unsqueeze(dim=1)\n",
        "y = weight * X + bias"
      ],
      "metadata": {
        "id": "vWWV6qzw7X9W"
      },
      "execution_count": 68,
      "outputs": []
    },
    {
      "cell_type": "markdown",
      "source": [
        "### Splitting Data into Training (Training and Validation set) and Test sets"
      ],
      "metadata": {
        "id": "XE_xchVn9mT5"
      }
    },
    {
      "cell_type": "code",
      "source": [
        "from sklearn.model_selection import train_test_split"
      ],
      "metadata": {
        "id": "ML1D1py781jm"
      },
      "execution_count": 69,
      "outputs": []
    },
    {
      "cell_type": "code",
      "source": [
        "X_train, X_test, y_train, y_test = train_test_split(\n",
        "    X, y, test_size=0.2, random_state=42)"
      ],
      "metadata": {
        "id": "YwGr67Rh-vvV"
      },
      "execution_count": 70,
      "outputs": []
    },
    {
      "cell_type": "code",
      "source": [
        "def plot_predictions(train_data=X_train, \n",
        "                     train_labels=y_train, \n",
        "                     test_data=X_test, \n",
        "                     test_labels=y_test, \n",
        "                     predictions=None):\n",
        "  \"\"\"\n",
        "  Plots training data, test data and compares predictions.\n",
        "  \"\"\"\n",
        "  plt.figure(figsize=(10, 7))\n",
        "\n",
        "  # Plot training data in blue\n",
        "  plt.scatter(train_data, train_labels, c=\"b\", s=4, label=\"Training data\")\n",
        "  \n",
        "  # Plot test data in green\n",
        "  plt.scatter(test_data, test_labels, c=\"g\", s=4, label=\"Testing data\")\n",
        "\n",
        "  if predictions is not None:\n",
        "    # Plot the predictions in red (predictions were made on the test data)\n",
        "    plt.scatter(test_data, predictions, c=\"r\", s=4, label=\"Predictions\")\n",
        "\n",
        "  # Show the legend\n",
        "  plt.legend(prop={\"size\": 14});"
      ],
      "metadata": {
        "id": "jUO3Ob2g-30m"
      },
      "execution_count": 71,
      "outputs": []
    },
    {
      "cell_type": "code",
      "source": [
        "plot_predictions()"
      ],
      "metadata": {
        "id": "ySDJoVwYD1iF",
        "colab": {
          "base_uri": "https://localhost:8080/",
          "height": 428
        },
        "outputId": "ed40615c-2c03-4cd7-e373-19c678c7248c"
      },
      "execution_count": 72,
      "outputs": [
        {
          "output_type": "display_data",
          "data": {
            "text/plain": [
              "<Figure size 720x504 with 1 Axes>"
            ],
            "image/png": "[encoded data removed]"
          },
          "metadata": {
            "needs_background": "light"
          }
        }
      ]
    },
    {
      "cell_type": "markdown",
      "source": [
        "## Building PyTorch Model"
      ],
      "metadata": {
        "id": "CiEx_D0jEW5c"
      }
    },
    {
      "cell_type": "code",
      "source": [
        "#Create Linear Regression Model Class\n",
        "#Almost Everything in PyTorch inherent from nn.Module\n",
        "class LinearRegressionModel(nn.Module):\n",
        "  def __init__(self):\n",
        "    super().__init__()\n",
        "    self.weigths= nn.Parameter(torch.randn(1,\n",
        "                                           dtype=torch.float),\n",
        "                                           requires_grad=True)\n",
        "    self.bias=nn.Parameter(torch.randn(1,\n",
        "                                      dtype=torch.float),\n",
        "                                      requires_grad=True)\n",
        "    \n",
        "    #FORWARD METHOD TO DEFINE THE COMPUTATIONAL IN THE MODULE\n",
        "  def forward(self, x:torch.Tensor) -> torch.Tensor:\n",
        "    return self.weigths * x + self.bias"
      ],
      "metadata": {
        "id": "mNjYm1B_D39E"
      },
      "execution_count": 73,
      "outputs": []
    },
    {
      "cell_type": "markdown",
      "source": [
        "### PyTorch model building Essential\n",
        "\n",
        "* `torch.nn` - contain all of the building for computational neural networks\n",
        "* `torch.nn.Parameter` - what parameter should our model try and learn, often PyTorch layer from torch.nn will set these for us\n",
        "* `torch.nn.Module` - The base class for all neural network modules, if you subclass it, You should overwrite `forward()`\n",
        "* `torch.optim` - this where the optimizer in PyTorch live, they will help with gradient descent\n",
        "* `def forward()` - All nn.Module subclasses require you to overwrite `forward()`, this method defines what happen in forward computation. "
      ],
      "metadata": {
        "id": "v8aOHhsjgDV8"
      }
    },
    {
      "cell_type": "code",
      "source": [
        "# Checking the contents of our PyTorch model - .parameters()\n",
        "\n",
        "#Create a random seed\n",
        "torch.manual_seed(42)\n",
        "\n",
        "#Create an instance of the model\n",
        "myFirstModel= LinearRegressionModel()\n",
        "\n",
        "#Check out our modle Parameter\n",
        "list(myFirstModel.parameters())"
      ],
      "metadata": {
        "colab": {
          "base_uri": "https://localhost:8080/"
        },
        "id": "Tba4x0ktg5rT",
        "outputId": "7cc365cb-7d2c-4b94-81e1-aa7ebe464438"
      },
      "execution_count": 74,
      "outputs": [
        {
          "output_type": "execute_result",
          "data": {
            "text/plain": [
              "[Parameter containing:\n",
              " tensor([0.3367], requires_grad=True), Parameter containing:\n",
              " tensor([0.1288], requires_grad=True)]"
            ]
          },
          "metadata": {},
          "execution_count": 74
        }
      ]
    },
    {
      "cell_type": "code",
      "source": [
        "# List named parameter\n",
        "myFirstModel.state_dict()"
      ],
      "metadata": {
        "colab": {
          "base_uri": "https://localhost:8080/"
        },
        "id": "ZPNSqO16i3ZV",
        "outputId": "897341ed-932d-479a-ebef-e4890b36738a"
      },
      "execution_count": 87,
      "outputs": [
        {
          "output_type": "execute_result",
          "data": {
            "text/plain": [
              "OrderedDict([('weigths', tensor([0.7039])), ('bias', tensor([0.3093]))])"
            ]
          },
          "metadata": {},
          "execution_count": 87
        }
      ]
    },
    {
      "cell_type": "markdown",
      "source": [
        "## Making Prediction using `torch.inference_mode()`\n",
        "When we pass data through our model, it's going to run it through the `forward()` method"
      ],
      "metadata": {
        "id": "-pqeUYHXk_6z"
      }
    },
    {
      "cell_type": "code",
      "source": [
        "#The torch.inference_mode does- is to turn off the keep tracking of the gradient\n",
        "#It is make your code faster\n",
        "with torch.inference_mode():\n",
        "  y_preds=myFirstModel(X_test)\n",
        "\n",
        "y_preds\n",
        "\n",
        "#OR - inference node is preferred\n",
        "#with torch.no_grad():\n",
        "  #y_preds=myFirstModel(X_test)"
      ],
      "metadata": {
        "colab": {
          "base_uri": "https://localhost:8080/"
        },
        "id": "y9zR4beakZK2",
        "outputId": "3e048071-fddf-4074-9949-7894bc4dd320"
      },
      "execution_count": 84,
      "outputs": [
        {
          "output_type": "execute_result",
          "data": {
            "text/plain": [
              "tensor([[0.4923],\n",
              "        [0.8584],\n",
              "        [0.7317],\n",
              "        [0.9428],\n",
              "        [0.5486],\n",
              "        [0.9851],\n",
              "        [0.6754],\n",
              "        [0.6613],\n",
              "        [0.7598],\n",
              "        [0.5768]])"
            ]
          },
          "metadata": {},
          "execution_count": 84
        }
      ]
    },
    {
      "cell_type": "code",
      "source": [
        "plot_predictions(predictions=y_preds)"
      ],
      "metadata": {
        "colab": {
          "base_uri": "https://localhost:8080/",
          "height": 428
        },
        "id": "3XLtLn6iluFD",
        "outputId": "71b4ed6e-3e84-4026-baad-4120e426f416"
      },
      "execution_count": 88,
      "outputs": [
        {
          "output_type": "display_data",
          "data": {
            "text/plain": [
              "<Figure size 720x504 with 1 Axes>"
            ],
            "image/png": "[encoded data removed]"
          },
          "metadata": {
            "needs_background": "light"
          }
        }
      ]
    },
    {
      "cell_type": "markdown",
      "source": [
        "## Train model\n",
        "\n",
        "The main goal for training a model is to optimized the parameter in which can predicit new data with the least loss \n",
        "\n",
        "* **Cost (Loss) function**\n",
        "One way to measure your model performance is, use loss function, which measure the distance between the real data label and predicted data label with hypothesis function line --> You can use built in PyTorch [Loss Function](https://pytorch.org/docs/stable/nn.html#loss-functions)\n",
        "\n",
        "* **Optimizer:**\n",
        "Takes into account the loss of a model and adjusts the model's parameters (e,g: weight & bias)\n"
      ],
      "metadata": {
        "id": "DMG937W_qRWG"
      }
    },
    {
      "cell_type": "code",
      "source": [
        "#Setup the loss function\n",
        "loss_fn=nn.L1Loss()\n",
        "\n",
        "#Setup an Optimizer (Stochastic Gradient Descent) #lr=learning rate\n",
        "optimizer= torch.optim.SGD(params=myFirstModel.parameters(),\n",
        "                           lr=0.01)"
      ],
      "metadata": {
        "id": "wdJxzdYAme2s"
      },
      "execution_count": 78,
      "outputs": []
    },
    {
      "cell_type": "markdown",
      "source": [
        "### Building a TrainingLoop/TestingLoop in PyTorch\n",
        "\n",
        "Train Loop Necessity:\n",
        "0. Loop through the data\n",
        "1. Forward pass (this involves data moving through our model's `forward()` functions) to make predicition on data - **Forward Propagation**\n",
        "2. Calculate the loss (compare the prediction with true labeled)\n",
        "3. Optimizer zero grad\n",
        "4. Loss backward - **Back Propagation**\n",
        "5. Optimizer step - use the optimizer to adjust our model's parameters to try and impore our loss value."
      ],
      "metadata": {
        "id": "pJ3Nmnwll-Cu"
      }
    },
    {
      "cell_type": "code",
      "source": [
        "torch.manual_seed(42)\n",
        "\n",
        "# An Epoch is one loop through the data - hyperparameter\n",
        "epochs=100\n",
        "\n",
        "#Training loop\n",
        "for epoch in range(epochs):\n",
        "  # Make sure gradient tracking is on, and do a pass over the data\n",
        "  myFirstModel.train() \n",
        "\n",
        "  # Forward Pass\n",
        "  y_pred= myFirstModel(X_train)\n",
        "\n",
        "  # Calculate the loss\n",
        "  loss=loss_fn(y_pred, y_train)\n",
        "  \n",
        "  # Optimizer zero grad\n",
        "  optimizer.zero_grad()\n",
        "\n",
        "  # Perform  Back Propagation\n",
        "  loss.backward()\n",
        "\n",
        "  # Step the Optimizer\n",
        "  # By default how the optimizer changes will acculumate through the loop so ...\n",
        "  optimizer.step()\n",
        "\n",
        "#Testing Loop\n",
        "  #Turns off different settings in the model not needed for evaluation/test\n",
        "  myFirstModel.eval()\n",
        "  #trun off gradient tracking \n",
        "  with torch.inference_mode():\n",
        "    #Forward pass\n",
        "    test_pred=myFirstModel(X_test)\n",
        "\n",
        "    #Calaculate the test loss\n",
        "    test_loss=loss_fn(test_pred, y_test)\n",
        "\n",
        "\n",
        "  if epoch %10 ==0:\n",
        "    print(f\"Epoch: {epoch} | MAE Train Loss: {loss} | MAE Test Loss: {test_loss} \")"
      ],
      "metadata": {
        "id": "9wmabX24hny9",
        "colab": {
          "base_uri": "https://localhost:8080/"
        },
        "outputId": "fe884e80-29c8-4fb5-adc0-f19dfeb5460d"
      },
      "execution_count": 86,
      "outputs": [
        {
          "output_type": "stream",
          "name": "stdout",
          "text": [
            "Epoch: 0 | MAE Train Loss: 0.011139717884361744 | MAE Test Loss: 0.0011160075664520264 \n",
            "Epoch: 10 | MAE Train Loss: 0.011139717884361744 | MAE Test Loss: 0.0011160075664520264 \n",
            "Epoch: 20 | MAE Train Loss: 0.011139717884361744 | MAE Test Loss: 0.0011160075664520264 \n",
            "Epoch: 30 | MAE Train Loss: 0.011139717884361744 | MAE Test Loss: 0.0011160075664520264 \n",
            "Epoch: 40 | MAE Train Loss: 0.011139717884361744 | MAE Test Loss: 0.0011160075664520264 \n",
            "Epoch: 50 | MAE Train Loss: 0.011139717884361744 | MAE Test Loss: 0.0011160075664520264 \n",
            "Epoch: 60 | MAE Train Loss: 0.011139717884361744 | MAE Test Loss: 0.0011160075664520264 \n",
            "Epoch: 70 | MAE Train Loss: 0.011139717884361744 | MAE Test Loss: 0.0011160075664520264 \n",
            "Epoch: 80 | MAE Train Loss: 0.011139717884361744 | MAE Test Loss: 0.0011160075664520264 \n",
            "Epoch: 90 | MAE Train Loss: 0.011139717884361744 | MAE Test Loss: 0.0011160075664520264 \n"
          ]
        }
      ]
    },
    {
      "cell_type": "code",
      "source": [],
      "metadata": {
        "id": "Ks5yGAYsvR69"
      },
      "execution_count": null,
      "outputs": []
    }
  ]
}