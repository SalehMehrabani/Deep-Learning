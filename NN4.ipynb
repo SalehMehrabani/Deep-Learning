{
  "nbformat": 4,
  "nbformat_minor": 0,
  "metadata": {
    "colab": {
      "provenance": [],
      "authorship_tag": "ABX9TyMKPJRcvyf93GwtP48p8HAz",
      "include_colab_link": true
    },
    "kernelspec": {
      "name": "python3",
      "display_name": "Python 3"
    },
    "language_info": {
      "name": "python"
    },
    "gpuClass": "standard"
  },
  "cells": [
    {
      "cell_type": "markdown",
      "metadata": {
        "id": "view-in-github",
        "colab_type": "text"
      },
      "source": [
        "<a href=\"https://colab.research.google.com/github/SalehMehrabani/PyTorch-Deep-Learning/blob/main/NN4.ipynb\" target=\"_parent\"><img src=\"https://colab.research.google.com/assets/colab-badge.svg\" alt=\"Open In Colab\"/></a>"
      ]
    },
    {
      "cell_type": "markdown",
      "source": [
        "# PyTorch Workflow\n"
      ],
      "metadata": {
        "id": "ntHL27-458Xh"
      }
    },
    {
      "cell_type": "code",
      "execution_count": 1,
      "metadata": {
        "id": "KU1PPzYRsKws"
      },
      "outputs": [],
      "source": [
        "import torch \n",
        "from torch import nn\n",
        "import matplotlib.pyplot as plt"
      ]
    },
    {
      "cell_type": "code",
      "source": [
        "device= \"cuda\" if torch.cuda.is_available() else \"cpu\"\n",
        "device"
      ],
      "metadata": {
        "colab": {
          "base_uri": "https://localhost:8080/",
          "height": 36
        },
        "id": "faTf7b236zto",
        "outputId": "e010cad8-1b93-4f57-eae7-86354640a40f"
      },
      "execution_count": null,
      "outputs": [
        {
          "output_type": "execute_result",
          "data": {
            "text/plain": [
              "'cuda'"
            ],
            "application/vnd.google.colaboratory.intrinsic+json": {
              "type": "string"
            }
          },
          "metadata": {},
          "execution_count": 18
        }
      ]
    },
    {
      "cell_type": "markdown",
      "source": [
        "## Data: Preparing and Loading\n"
      ],
      "metadata": {
        "id": "BZiDd67W7eb1"
      }
    },
    {
      "cell_type": "code",
      "source": [
        "#Create Known parameter\n",
        "weight = 0.7\n",
        "bias = 0.3\n",
        "\n",
        "#Create  dataset\n",
        "start=0\n",
        "end=1\n",
        "step= 0.02\n",
        "\n",
        "X = torch.arange(start, end, step).unsqueeze(dim=1)\n",
        "y = weight * X + bias"
      ],
      "metadata": {
        "id": "vWWV6qzw7X9W"
      },
      "execution_count": 4,
      "outputs": []
    },
    {
      "cell_type": "markdown",
      "source": [
        "### Splitting Data into Training (Training and Validation set) and Test sets"
      ],
      "metadata": {
        "id": "XE_xchVn9mT5"
      }
    },
    {
      "cell_type": "code",
      "source": [
        "from sklearn.model_selection import train_test_split"
      ],
      "metadata": {
        "id": "ML1D1py781jm"
      },
      "execution_count": 3,
      "outputs": []
    },
    {
      "cell_type": "code",
      "source": [
        "X_train, X_test, y_train, y_test = train_test_split(\n",
        "    X, y, test_size=0.2, random_state=42)"
      ],
      "metadata": {
        "id": "YwGr67Rh-vvV"
      },
      "execution_count": 5,
      "outputs": []
    },
    {
      "cell_type": "code",
      "source": [
        "def plot_predictions(train_data=X_train,\n",
        "                     train_labels=y_train,\n",
        "                     test_data=X_test,\n",
        "                     test_labels=y_test,\n",
        "                     predictions=None):\n",
        "  plt.figure(figsize=(10,7))\n",
        "  plt.scatter(train_data, train_labels, c=\"b\", s=4, label=\"Training data\")\n",
        "\n",
        "  plt.scatter(test_data, test_labels, c=\"g\", s=4, label=\"Testing data\")\n",
        "\n",
        "  if predictions is not None:\n",
        "    plt.scatter(test_data, predictions, c=\"r\", s=\"r\", label=\"Predicitions\")\n",
        "\n",
        "  plt.legend(prop={\"size\":14})\n"
      ],
      "metadata": {
        "id": "jUO3Ob2g-30m"
      },
      "execution_count": 6,
      "outputs": []
    },
    {
      "cell_type": "code",
      "source": [
        "plot_predictions()"
      ],
      "metadata": {
        "id": "ySDJoVwYD1iF"
      },
      "execution_count": null,
      "outputs": []
    },
    {
      "cell_type": "markdown",
      "source": [
        "## Building PyTorch Model"
      ],
      "metadata": {
        "id": "CiEx_D0jEW5c"
      }
    },
    {
      "cell_type": "code",
      "source": [
        "#Create Linear Regression Model Class\n",
        "#Almost Everything in PyTorch inherent from nn.Module\n",
        "class LinearRegressionModel(nn.Module):\n",
        "  def __init__(self):\n",
        "    super().__init__()\n",
        "    self.weigths= nn.Parameter(torch.rand(1,\n",
        "                                           requires_grad=True,\n",
        "                                           dtype=torch.float))\n",
        "    self.bias=nn.Parameter(torch.rand(1,\n",
        "                                      required_grad=True,\n",
        "                                      dtype=torch.float))\n",
        "    \n",
        "    #FORWARD METHOD TO DEFINE THE COMPUTATIONAL IN THE MODULE\n",
        "    def forward(self, x:torch.Tensor) -> torch.Tensor:\n",
        "      return self.weights * x + self.bias"
      ],
      "metadata": {
        "id": "mNjYm1B_D39E"
      },
      "execution_count": 7,
      "outputs": []
    }
  ]
}