{
  "nbformat": 4,
  "nbformat_minor": 0,
  "metadata": {
    "colab": {
      "provenance": [],
      "authorship_tag": "ABX9TyMjvLDZornd3kT5B7LuayJa",
      "include_colab_link": true
    },
    "kernelspec": {
      "name": "python3",
      "display_name": "Python 3"
    },
    "language_info": {
      "name": "python"
    },
    "accelerator": "GPU",
    "gpuClass": "standard"
  },
  "cells": [
    {
      "cell_type": "markdown",
      "metadata": {
        "id": "view-in-github",
        "colab_type": "text"
      },
      "source": [
        "<a href=\"https://colab.research.google.com/github/SalehMehrabani/PyTorch-Deep-Learning/blob/main/NN6.ipynb\" target=\"_parent\"><img src=\"https://colab.research.google.com/assets/colab-badge.svg\" alt=\"Open In Colab\"/></a>"
      ]
    },
    {
      "cell_type": "markdown",
      "source": [
        "# Neural Network Classification\n"
      ],
      "metadata": {
        "id": "mPkHPp1jBou0"
      }
    },
    {
      "cell_type": "markdown",
      "source": [
        "## Data Preprocessing"
      ],
      "metadata": {
        "id": "qx5UK9zRCD9-"
      }
    },
    {
      "cell_type": "code",
      "execution_count": 2,
      "metadata": {
        "id": "JhmyhtSzBKTF"
      },
      "outputs": [],
      "source": [
        "from sklearn.datasets import make_circles"
      ]
    },
    {
      "cell_type": "markdown",
      "source": [
        "### Create 1000 circle sample"
      ],
      "metadata": {
        "id": "k3ecMXroG5Dc"
      }
    },
    {
      "cell_type": "code",
      "source": [
        "n_samples=1000\n",
        "X, y= make_circles(n_samples, \n",
        "                   noise=0.03,\n",
        "                   random_state=42)\n",
        "len(X), len(y)"
      ],
      "metadata": {
        "colab": {
          "base_uri": "https://localhost:8080/"
        },
        "id": "h_AM0sG8CP17",
        "outputId": "f57e45ae-8ffd-41ce-deb7-87b59d659be5"
      },
      "execution_count": 3,
      "outputs": [
        {
          "output_type": "execute_result",
          "data": {
            "text/plain": [
              "(1000, 1000)"
            ]
          },
          "metadata": {},
          "execution_count": 3
        }
      ]
    },
    {
      "cell_type": "markdown",
      "source": [
        "### Creating DataFrame"
      ],
      "metadata": {
        "id": "cGNwwsoDG9UX"
      }
    },
    {
      "cell_type": "code",
      "source": [
        "import pandas as pd\n",
        "circles= pd.DataFrame({\"X1\":X[:,0], \n",
        "                       \"X2\":X[:,1],\n",
        "                       \"label\":y})\n",
        "circles.head()"
      ],
      "metadata": {
        "colab": {
          "base_uri": "https://localhost:8080/",
          "height": 206
        },
        "id": "7An1gVPpC7Ew",
        "outputId": "30a8d381-76f9-41e2-ab8f-1dad14716ba7"
      },
      "execution_count": 4,
      "outputs": [
        {
          "output_type": "execute_result",
          "data": {
            "text/plain": [
              "         X1        X2  label\n",
              "0  0.754246  0.231481      1\n",
              "1 -0.756159  0.153259      1\n",
              "2 -0.815392  0.173282      1\n",
              "3 -0.393731  0.692883      1\n",
              "4  0.442208 -0.896723      0"
            ],
            "text/html": [
              "\n",
              "  <div id=\"df-d31403a6-d94e-41f3-aff9-0f461773e3b8\">\n",
              "    <div class=\"colab-df-container\">\n",
              "      <div>\n",
              "<style scoped>\n",
              "    .dataframe tbody tr th:only-of-type {\n",
              "        vertical-align: middle;\n",
              "    }\n",
              "\n",
              "    .dataframe tbody tr th {\n",
              "        vertical-align: top;\n",
              "    }\n",
              "\n",
              "    .dataframe thead th {\n",
              "        text-align: right;\n",
              "    }\n",
              "</style>\n",
              "<table border=\"1\" class=\"dataframe\">\n",
              "  <thead>\n",
              "    <tr style=\"text-align: right;\">\n",
              "      <th></th>\n",
              "      <th>X1</th>\n",
              "      <th>X2</th>\n",
              "      <th>label</th>\n",
              "    </tr>\n",
              "  </thead>\n",
              "  <tbody>\n",
              "    <tr>\n",
              "      <th>0</th>\n",
              "      <td>0.754246</td>\n",
              "      <td>0.231481</td>\n",
              "      <td>1</td>\n",
              "    </tr>\n",
              "    <tr>\n",
              "      <th>1</th>\n",
              "      <td>-0.756159</td>\n",
              "      <td>0.153259</td>\n",
              "      <td>1</td>\n",
              "    </tr>\n",
              "    <tr>\n",
              "      <th>2</th>\n",
              "      <td>-0.815392</td>\n",
              "      <td>0.173282</td>\n",
              "      <td>1</td>\n",
              "    </tr>\n",
              "    <tr>\n",
              "      <th>3</th>\n",
              "      <td>-0.393731</td>\n",
              "      <td>0.692883</td>\n",
              "      <td>1</td>\n",
              "    </tr>\n",
              "    <tr>\n",
              "      <th>4</th>\n",
              "      <td>0.442208</td>\n",
              "      <td>-0.896723</td>\n",
              "      <td>0</td>\n",
              "    </tr>\n",
              "  </tbody>\n",
              "</table>\n",
              "</div>\n",
              "      <button class=\"colab-df-convert\" onclick=\"convertToInteractive('df-d31403a6-d94e-41f3-aff9-0f461773e3b8')\"\n",
              "              title=\"Convert this dataframe to an interactive table.\"\n",
              "              style=\"display:none;\">\n",
              "        \n",
              "  <svg xmlns=\"http://www.w3.org/2000/svg\" height=\"24px\"viewBox=\"0 0 24 24\"\n",
              "       width=\"24px\">\n",
              "    <path d=\"M0 0h24v24H0V0z\" fill=\"none\"/>\n",
              "    <path d=\"M18.56 5.44l.94 2.06.94-2.06 2.06-.94-2.06-.94-.94-2.06-.94 2.06-2.06.94zm-11 1L8.5 8.5l.94-2.06 2.06-.94-2.06-.94L8.5 2.5l-.94 2.06-2.06.94zm10 10l.94 2.06.94-2.06 2.06-.94-2.06-.94-.94-2.06-.94 2.06-2.06.94z\"/><path d=\"M17.41 7.96l-1.37-1.37c-.4-.4-.92-.59-1.43-.59-.52 0-1.04.2-1.43.59L10.3 9.45l-7.72 7.72c-.78.78-.78 2.05 0 2.83L4 21.41c.39.39.9.59 1.41.59.51 0 1.02-.2 1.41-.59l7.78-7.78 2.81-2.81c.8-.78.8-2.07 0-2.86zM5.41 20L4 18.59l7.72-7.72 1.47 1.35L5.41 20z\"/>\n",
              "  </svg>\n",
              "      </button>\n",
              "      \n",
              "  <style>\n",
              "    .colab-df-container {\n",
              "      display:flex;\n",
              "      flex-wrap:wrap;\n",
              "      gap: 12px;\n",
              "    }\n",
              "\n",
              "    .colab-df-convert {\n",
              "      background-color: #E8F0FE;\n",
              "      border: none;\n",
              "      border-radius: 50%;\n",
              "      cursor: pointer;\n",
              "      display: none;\n",
              "      fill: #1967D2;\n",
              "      height: 32px;\n",
              "      padding: 0 0 0 0;\n",
              "      width: 32px;\n",
              "    }\n",
              "\n",
              "    .colab-df-convert:hover {\n",
              "      background-color: #E2EBFA;\n",
              "      box-shadow: 0px 1px 2px rgba(60, 64, 67, 0.3), 0px 1px 3px 1px rgba(60, 64, 67, 0.15);\n",
              "      fill: #174EA6;\n",
              "    }\n",
              "\n",
              "    [theme=dark] .colab-df-convert {\n",
              "      background-color: #3B4455;\n",
              "      fill: #D2E3FC;\n",
              "    }\n",
              "\n",
              "    [theme=dark] .colab-df-convert:hover {\n",
              "      background-color: #434B5C;\n",
              "      box-shadow: 0px 1px 3px 1px rgba(0, 0, 0, 0.15);\n",
              "      filter: drop-shadow(0px 1px 2px rgba(0, 0, 0, 0.3));\n",
              "      fill: #FFFFFF;\n",
              "    }\n",
              "  </style>\n",
              "\n",
              "      <script>\n",
              "        const buttonEl =\n",
              "          document.querySelector('#df-d31403a6-d94e-41f3-aff9-0f461773e3b8 button.colab-df-convert');\n",
              "        buttonEl.style.display =\n",
              "          google.colab.kernel.accessAllowed ? 'block' : 'none';\n",
              "\n",
              "        async function convertToInteractive(key) {\n",
              "          const element = document.querySelector('#df-d31403a6-d94e-41f3-aff9-0f461773e3b8');\n",
              "          const dataTable =\n",
              "            await google.colab.kernel.invokeFunction('convertToInteractive',\n",
              "                                                     [key], {});\n",
              "          if (!dataTable) return;\n",
              "\n",
              "          const docLinkHtml = 'Like what you see? Visit the ' +\n",
              "            '<a target=\"_blank\" href=https://colab.research.google.com/notebooks/data_table.ipynb>data table notebook</a>'\n",
              "            + ' to learn more about interactive tables.';\n",
              "          element.innerHTML = '';\n",
              "          dataTable['output_type'] = 'display_data';\n",
              "          await google.colab.output.renderOutput(dataTable, element);\n",
              "          const docLink = document.createElement('div');\n",
              "          docLink.innerHTML = docLinkHtml;\n",
              "          element.appendChild(docLink);\n",
              "        }\n",
              "      </script>\n",
              "    </div>\n",
              "  </div>\n",
              "  "
            ]
          },
          "metadata": {},
          "execution_count": 4
        }
      ]
    },
    {
      "cell_type": "markdown",
      "source": [
        "### Visualizing Data"
      ],
      "metadata": {
        "id": "YxNYmx2gHA6N"
      }
    },
    {
      "cell_type": "code",
      "source": [
        "import matplotlib.pyplot as plt\n",
        "plt.scatter(x=X[:,0],\n",
        "            y=X[:,1],\n",
        "            c=y,\n",
        "            cmap=plt.cm.RdYlBu)"
      ],
      "metadata": {
        "colab": {
          "base_uri": "https://localhost:8080/",
          "height": 283
        },
        "id": "9Nx2t4qkDD7y",
        "outputId": "e2c27112-938f-459d-bcb9-e6e242a0d168"
      },
      "execution_count": 5,
      "outputs": [
        {
          "output_type": "execute_result",
          "data": {
            "text/plain": [
              "<matplotlib.collections.PathCollection at 0x7efcbe50aee0>"
            ]
          },
          "metadata": {},
          "execution_count": 5
        },
        {
          "output_type": "display_data",
          "data": {
            "text/plain": [
              "<Figure size 432x288 with 1 Axes>"
            ],
            "image/png": "[encoded data removed]"
          },
          "metadata": {
            "needs_background": "light"
          }
        }
      ]
    },
    {
      "cell_type": "markdown",
      "source": [
        "###Checking input and output shapes"
      ],
      "metadata": {
        "id": "GkSDbB_7HELP"
      }
    },
    {
      "cell_type": "code",
      "source": [
        "X.shape, y.shape"
      ],
      "metadata": {
        "colab": {
          "base_uri": "https://localhost:8080/"
        },
        "id": "Hbdb3sTOEs6o",
        "outputId": "e6a3a11c-05a7-4df6-b568-ec9797f74e31"
      },
      "execution_count": 6,
      "outputs": [
        {
          "output_type": "execute_result",
          "data": {
            "text/plain": [
              "((1000, 2), (1000,))"
            ]
          },
          "metadata": {},
          "execution_count": 6
        }
      ]
    },
    {
      "cell_type": "code",
      "source": [
        "import torch"
      ],
      "metadata": {
        "id": "RMULe6jBGNC8"
      },
      "execution_count": 7,
      "outputs": []
    },
    {
      "cell_type": "markdown",
      "source": [
        "### Turn Data into Tensors"
      ],
      "metadata": {
        "id": "l5_5FZYIHHhS"
      }
    },
    {
      "cell_type": "code",
      "source": [
        "X=torch.from_numpy(X).type(dtype=torch.float)\n",
        "y=torch.from_numpy(y).type(dtype=torch.float)"
      ],
      "metadata": {
        "id": "RRgOBhSjFnnU"
      },
      "execution_count": 8,
      "outputs": []
    },
    {
      "cell_type": "markdown",
      "source": [
        "###Split Data into training and test set"
      ],
      "metadata": {
        "id": "wBUL2Bd_HLze"
      }
    },
    {
      "cell_type": "code",
      "source": [
        "from sklearn.model_selection import train_test_split\n",
        "\n",
        "X_train, X_test, y_train, y_test= train_test_split(X, y, test_size=0.2, random_state=42)"
      ],
      "metadata": {
        "id": "QiZzi4ZfGSFl"
      },
      "execution_count": 9,
      "outputs": []
    },
    {
      "cell_type": "markdown",
      "source": [
        "## Building a model\n"
      ],
      "metadata": {
        "id": "gHNxcvid3vC_"
      }
    },
    {
      "cell_type": "code",
      "source": [
        "import torch \n",
        "from torch import nn"
      ],
      "metadata": {
        "id": "z6lMf_QXHyBa"
      },
      "execution_count": 10,
      "outputs": []
    },
    {
      "cell_type": "code",
      "source": [
        "device=\"cuda\" if torch.cuda.is_available() else \"cpu\"\n",
        "device"
      ],
      "metadata": {
        "colab": {
          "base_uri": "https://localhost:8080/",
          "height": 36
        },
        "id": "uFARztvs4HBT",
        "outputId": "60f8d121-c7a2-497d-e17c-3027706aef0f"
      },
      "execution_count": 11,
      "outputs": [
        {
          "output_type": "execute_result",
          "data": {
            "text/plain": [
              "'cuda'"
            ],
            "application/vnd.google.colaboratory.intrinsic+json": {
              "type": "string"
            }
          },
          "metadata": {},
          "execution_count": 11
        }
      ]
    },
    {
      "cell_type": "markdown",
      "source": [
        "### Create a model (Subclassing `nn.Module`)"
      ],
      "metadata": {
        "id": "8rzd967d4q2C"
      }
    },
    {
      "cell_type": "code",
      "source": [
        "class CircleModelV0(nn.Module):\n",
        "  def __init__(self):\n",
        "    super().__init__()\n",
        "    self.layer_1 = nn.Linear(in_features=2, out_features=5)\n",
        "    self.layer_2 = nn.Linear(in_features=5, out_features=1)\n",
        "\n",
        "  def forward(self, x):\n",
        "    return self.layer_2(self.layer_1(x))\n",
        "  \n",
        "model_0=CircleModelV0().to(device)\n",
        "model_0"
      ],
      "metadata": {
        "colab": {
          "base_uri": "https://localhost:8080/"
        },
        "id": "nJhlgfyf4SEM",
        "outputId": "a20ddc05-9ce1-46d9-a50d-89016abca6c1"
      },
      "execution_count": 12,
      "outputs": [
        {
          "output_type": "execute_result",
          "data": {
            "text/plain": [
              "CircleModelV0(\n",
              "  (layer_1): Linear(in_features=2, out_features=5, bias=True)\n",
              "  (layer_2): Linear(in_features=5, out_features=1, bias=True)\n",
              ")"
            ]
          },
          "metadata": {},
          "execution_count": 12
        }
      ]
    },
    {
      "cell_type": "code",
      "source": [
        "# Replicate CircleModelV0 with nn.Sequential\n",
        "model_0 = nn.Sequential(\n",
        "    nn.Linear(in_features=2, out_features=5),\n",
        "    nn.Linear(in_features=5, out_features=1)\n",
        ").to(device)\n",
        "\n",
        "model_0"
      ],
      "metadata": {
        "id": "lNknRpVx6vsK",
        "colab": {
          "base_uri": "https://localhost:8080/"
        },
        "outputId": "2d4b9fd8-e712-4e9d-f9db-2240df44d1ed"
      },
      "execution_count": 13,
      "outputs": [
        {
          "output_type": "execute_result",
          "data": {
            "text/plain": [
              "Sequential(\n",
              "  (0): Linear(in_features=2, out_features=5, bias=True)\n",
              "  (1): Linear(in_features=5, out_features=1, bias=True)\n",
              ")"
            ]
          },
          "metadata": {},
          "execution_count": 13
        }
      ]
    },
    {
      "cell_type": "code",
      "source": [
        "next(model_0.parameters()).device"
      ],
      "metadata": {
        "colab": {
          "base_uri": "https://localhost:8080/"
        },
        "id": "Hkm5VNxm6nuB",
        "outputId": "e426d978-c336-448c-b3b8-3a2d2947f29c"
      },
      "execution_count": 14,
      "outputs": [
        {
          "output_type": "execute_result",
          "data": {
            "text/plain": [
              "device(type='cuda', index=0)"
            ]
          },
          "metadata": {},
          "execution_count": 14
        }
      ]
    },
    {
      "cell_type": "markdown",
      "source": [
        "### Setup loss function and optimizer\n"
      ],
      "metadata": {
        "id": "y2UZkHf2HYiH"
      }
    },
    {
      "cell_type": "code",
      "source": [
        "#Setup the loss function\n",
        "\n",
        "# Without built-in sigmoid activation function\n",
        "# loss_fn=nn.BCELoss()\n",
        "\n",
        "# With built-in sigmoid activation function\n",
        "loss_fn= nn.BCEWithLogitsLoss()\n",
        "# Our model output are going to be raw LOGITs."
      ],
      "metadata": {
        "id": "T8K8eJF4HRlr"
      },
      "execution_count": 15,
      "outputs": []
    },
    {
      "cell_type": "code",
      "source": [
        "#Setup the Optimizer\n",
        "\n",
        "optimizer= torch.optim.SGD(params=model_0.parameters(),\n",
        "                           lr=0.1)"
      ],
      "metadata": {
        "id": "9rddh6bRJoJD"
      },
      "execution_count": 16,
      "outputs": []
    },
    {
      "cell_type": "code",
      "source": [
        "#Calculate the accuracy\n",
        "def accuracy_fn(y_true, y_pred):\n",
        "  correct=torch.eq(y_true, y_pred).sum().item()\n",
        "  acc= (correct/len(y_pred))*100\n",
        "  return acc"
      ],
      "metadata": {
        "id": "tnlhL_YOJ9wn"
      },
      "execution_count": 17,
      "outputs": []
    },
    {
      "cell_type": "markdown",
      "source": [
        "## Train Model"
      ],
      "metadata": {
        "id": "L2vhWE4MKw8p"
      }
    },
    {
      "cell_type": "markdown",
      "source": [
        "### Going from raw model outputs to predicted labels (logits -> prediction probabilities -> prediction labels)"
      ],
      "metadata": {
        "id": "VH5T8FNSMhM6"
      }
    },
    {
      "cell_type": "code",
      "source": [
        "# View the frist 5 outputs of the forward pass on the test data\n",
        "y_logits = model_0(X_test.to(device))[:5]\n",
        "y_logits"
      ],
      "metadata": {
        "colab": {
          "base_uri": "https://localhost:8080/"
        },
        "id": "F3sBb8EpKfY3",
        "outputId": "602b1d23-a3b4-441b-90ea-52fd23cb46d7"
      },
      "execution_count": 18,
      "outputs": [
        {
          "output_type": "execute_result",
          "data": {
            "text/plain": [
              "tensor([[ 0.1860],\n",
              "        [ 0.1046],\n",
              "        [ 0.0952],\n",
              "        [ 0.2130],\n",
              "        [-0.3877]], device='cuda:0', grad_fn=<SliceBackward0>)"
            ]
          },
          "metadata": {},
          "execution_count": 18
        }
      ]
    },
    {
      "cell_type": "code",
      "source": [
        "# Use sigmoid on model logits\n",
        "y_pred_probs = torch.sigmoid(y_logits)\n",
        "y_pred_probs"
      ],
      "metadata": {
        "colab": {
          "base_uri": "https://localhost:8080/"
        },
        "id": "FKJLoDhZMVm8",
        "outputId": "35ec604e-90c2-472f-8c8a-d0da15580cd3"
      },
      "execution_count": 19,
      "outputs": [
        {
          "output_type": "execute_result",
          "data": {
            "text/plain": [
              "tensor([[0.5464],\n",
              "        [0.5261],\n",
              "        [0.5238],\n",
              "        [0.5531],\n",
              "        [0.4043]], device='cuda:0', grad_fn=<SigmoidBackward0>)"
            ]
          },
          "metadata": {},
          "execution_count": 19
        }
      ]
    },
    {
      "cell_type": "code",
      "source": [
        "# Find the predicted labels (round the prediction probabilities)\n",
        "y_preds = torch.round(y_pred_probs)\n",
        "\n",
        "# In full\n",
        "y_pred_labels = torch.round(torch.sigmoid(model_0(X_test.to(device))[:5]))\n",
        "\n",
        "# Check for equality\n",
        "print(torch.eq(y_preds.squeeze(), y_pred_labels.squeeze()))\n",
        "\n",
        "# Get rid of extra dimension\n",
        "y_preds.squeeze()"
      ],
      "metadata": {
        "colab": {
          "base_uri": "https://localhost:8080/"
        },
        "id": "9G7Vf-c_MY6e",
        "outputId": "eff2cb45-56e4-4045-a3b4-77f22a416b91"
      },
      "execution_count": 20,
      "outputs": [
        {
          "output_type": "stream",
          "name": "stdout",
          "text": [
            "tensor([True, True, True, True, True], device='cuda:0')\n"
          ]
        },
        {
          "output_type": "execute_result",
          "data": {
            "text/plain": [
              "tensor([1., 1., 1., 1., 0.], device='cuda:0', grad_fn=<SqueezeBackward0>)"
            ]
          },
          "metadata": {},
          "execution_count": 20
        }
      ]
    },
    {
      "cell_type": "code",
      "source": [
        "y_test[:5]"
      ],
      "metadata": {
        "colab": {
          "base_uri": "https://localhost:8080/"
        },
        "id": "SHjW6LIMMbXL",
        "outputId": "437ef414-0074-4f85-819b-e79dbfc03449"
      },
      "execution_count": 21,
      "outputs": [
        {
          "output_type": "execute_result",
          "data": {
            "text/plain": [
              "tensor([1., 0., 1., 0., 1.])"
            ]
          },
          "metadata": {},
          "execution_count": 21
        }
      ]
    },
    {
      "cell_type": "markdown",
      "source": [
        "### Building Training and Test Loop"
      ],
      "metadata": {
        "id": "koJ4II11WTcq"
      }
    },
    {
      "cell_type": "code",
      "source": [
        "torch.manual_seed(42)\n",
        "\n",
        "#Set the number of epoch\n",
        "epochs=200\n",
        "\n",
        "#Put data to target device\n",
        "X_train, y_train = X_train.to(device), y_train.to(device)\n",
        "X_test, y_test = X_test.to(device), y_test.to(device)\n",
        "\n",
        "#Building training and evaluation loop:\n",
        "for epoch in range(epochs):\n",
        "  #Training\n",
        "  model_0.train()\n",
        "\n",
        "  ##Forward Pass\n",
        "  y_logits=model_0(X_train).squeeze()\n",
        "  y_pred=torch.round(torch.sigmoid(y_logits)) #turn logit -> pred probp -> pred label\n",
        "  \n",
        "  ##Claculate Loos/Accuracy\n",
        "  loss = loss_fn(y_logits, y_train) ##nn.BCEWithLogitsLoss expects raw logits as input\n",
        "  acc = accuracy_fn(y_true=y_train, y_pred=y_pred)\n",
        "\n",
        "  ##Optimizer zero grad\n",
        "  optimizer.zero_grad()\n",
        "\n",
        "  ##Loss backward - Backward Propagation\n",
        "  loss.backward()\n",
        "\n",
        "  ##Optimizer Step\n",
        "  optimizer.step()\n",
        "\n",
        "  #Testing\n",
        "  model_0.eval()\n",
        "  with torch.inference_mode():\n",
        "\n",
        "    ##Forward pass\n",
        "    test_logits=model_0(X_test).squeeze()\n",
        "    test_pred=torch.round(torch.sigmoid(test_logits))\n",
        "\n",
        "    ##Claculate Test Loos/ Accuracy\n",
        "    test_loss = loss_fn(test_logits, y_test) ##nn.BCEWithLogitsLoss expects raw logits as input\n",
        "    test_acc = accuracy_fn(y_true=y_test, y_pred=test_pred)\n",
        "\n",
        "  #Print th result\n",
        "  if epoch % 10 == 0:\n",
        "    print(f\"Epoch: {epoch} | Loss: {loss:.5f}, Accuracy: {acc:.2f}% | Test loss: {test_loss:.5f}, Test acc: {test_acc:.2f}%\")"
      ],
      "metadata": {
        "id": "S3-Gil6bMdwQ",
        "colab": {
          "base_uri": "https://localhost:8080/"
        },
        "outputId": "192b6c52-3ad0-4b3b-8b17-d9d9b5c727cb"
      },
      "execution_count": 22,
      "outputs": [
        {
          "output_type": "stream",
          "name": "stdout",
          "text": [
            "Epoch: 0 | Loss: 0.70276, Accuracy: 49.88% | Test loss: 0.70217, Test acc: 46.50%\n",
            "Epoch: 10 | Loss: 0.69992, Accuracy: 49.88% | Test loss: 0.69996, Test acc: 49.50%\n",
            "Epoch: 20 | Loss: 0.69839, Accuracy: 49.62% | Test loss: 0.69869, Test acc: 51.00%\n",
            "Epoch: 30 | Loss: 0.69737, Accuracy: 49.50% | Test loss: 0.69780, Test acc: 54.00%\n",
            "Epoch: 40 | Loss: 0.69660, Accuracy: 49.62% | Test loss: 0.69709, Test acc: 54.50%\n",
            "Epoch: 50 | Loss: 0.69599, Accuracy: 49.75% | Test loss: 0.69653, Test acc: 53.50%\n",
            "Epoch: 60 | Loss: 0.69551, Accuracy: 49.75% | Test loss: 0.69608, Test acc: 53.00%\n",
            "Epoch: 70 | Loss: 0.69511, Accuracy: 50.25% | Test loss: 0.69571, Test acc: 53.00%\n",
            "Epoch: 80 | Loss: 0.69478, Accuracy: 50.00% | Test loss: 0.69542, Test acc: 53.50%\n",
            "Epoch: 90 | Loss: 0.69450, Accuracy: 49.88% | Test loss: 0.69518, Test acc: 53.50%\n",
            "Epoch: 100 | Loss: 0.69427, Accuracy: 49.88% | Test loss: 0.69499, Test acc: 54.00%\n",
            "Epoch: 110 | Loss: 0.69408, Accuracy: 49.50% | Test loss: 0.69483, Test acc: 53.00%\n",
            "Epoch: 120 | Loss: 0.69392, Accuracy: 49.38% | Test loss: 0.69471, Test acc: 52.00%\n",
            "Epoch: 130 | Loss: 0.69378, Accuracy: 49.25% | Test loss: 0.69462, Test acc: 52.50%\n",
            "Epoch: 140 | Loss: 0.69366, Accuracy: 49.62% | Test loss: 0.69454, Test acc: 52.50%\n",
            "Epoch: 150 | Loss: 0.69356, Accuracy: 49.88% | Test loss: 0.69448, Test acc: 51.50%\n",
            "Epoch: 160 | Loss: 0.69348, Accuracy: 49.88% | Test loss: 0.69444, Test acc: 50.00%\n",
            "Epoch: 170 | Loss: 0.69341, Accuracy: 50.25% | Test loss: 0.69441, Test acc: 51.00%\n",
            "Epoch: 180 | Loss: 0.69335, Accuracy: 50.12% | Test loss: 0.69438, Test acc: 51.00%\n",
            "Epoch: 190 | Loss: 0.69329, Accuracy: 50.50% | Test loss: 0.69437, Test acc: 50.00%\n"
          ]
        }
      ]
    },
    {
      "cell_type": "markdown",
      "source": [
        "### Make predictions and evaluate the model"
      ],
      "metadata": {
        "id": "0uWS5pYF86JG"
      }
    },
    {
      "cell_type": "code",
      "source": [
        "import requests\n",
        "from pathlib import Path\n",
        "\n",
        "if Path(\"helper_functions.py\").is_file():\n",
        "  print(\"File already existed\")\n",
        "else:\n",
        "  print(\"Downloading\")\n",
        "  request=requests.get(\"https://raw.githubusercontent.com/mrdbourke/pytorch-deep-learning/main/helper_functions.py\")\n",
        "  with open(\"helper_functions.py\", \"wb\")as f:\n",
        "    f.write(request.content)\n",
        "\n",
        "from helper_functions import plot_predictions, plot_decision_boundary"
      ],
      "metadata": {
        "id": "Xj28oqgxa3db",
        "colab": {
          "base_uri": "https://localhost:8080/"
        },
        "outputId": "6ede8df8-1c9b-4f8b-bc8a-ef233d028542"
      },
      "execution_count": 31,
      "outputs": [
        {
          "output_type": "stream",
          "name": "stdout",
          "text": [
            "Downloading\n"
          ]
        }
      ]
    },
    {
      "cell_type": "code",
      "source": [
        "# Plot Decision boundry of the model\n",
        "plt.figure(figsize=(12,6))\n",
        "plt.subplot(1,2,1)\n",
        "plt.title(\"Train\")\n",
        "plot_decision_boundary(model_0, X_train, y_train)\n",
        "plt.title(\"Test\")\n",
        "plt.subplot(1,2,2)\n",
        "plot_decision_boundary(model_0, X_test, y_test)"
      ],
      "metadata": {
        "colab": {
          "base_uri": "https://localhost:8080/",
          "height": 354
        },
        "id": "REIZWneMAAxy",
        "outputId": "322e65a6-988e-4025-89fd-ee0ad76004e1"
      },
      "execution_count": 32,
      "outputs": [
        {
          "output_type": "display_data",
          "data": {
            "text/plain": [
              "<Figure size 864x432 with 2 Axes>"
            ],
            "image/png": "[encoded data removed]"
          },
          "metadata": {
            "needs_background": "light"
          }
        }
      ]
    },
    {
      "cell_type": "markdown",
      "source": [
        "## Imporving model\n",
        "* Add more layers - give the model more \n",
        "* chances to learn about patterns in the data\n",
        "* Add more hidden units - go from 5 hidden units to 10 hidden units\n",
        "* Fit for longer\n",
        "* Changing the activation functions\n",
        "* Change the learning rate\n",
        "* Change the loss function"
      ],
      "metadata": {
        "id": "y-Gvot-JBUvJ"
      }
    }
  ]
}